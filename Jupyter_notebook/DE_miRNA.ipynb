{
 "cells": [
  {
   "cell_type": "markdown",
   "id": "395140a7-58b2-4f18-b6ab-8005e7547b45",
   "metadata": {},
   "source": [
    "# Load packages and libraries"
   ]
  },
  {
   "cell_type": "code",
   "execution_count": 22,
   "id": "96c2472a-edfb-45a9-baab-94f8376dd151",
   "metadata": {
    "execution": {
     "iopub.execute_input": "2025-10-03T14:36:30.954020Z",
     "iopub.status.busy": "2025-10-03T14:36:30.952927Z",
     "iopub.status.idle": "2025-10-03T14:37:53.353659Z",
     "shell.execute_reply": "2025-10-03T14:37:53.352370Z"
    }
   },
   "outputs": [
    {
     "data": {
      "text/html": [
       "'/home/manuel.tardaguila/conda_envs/multiome_NEW_downstream_analysis/lib/R/library'"
      ],
      "text/latex": [
       "'/home/manuel.tardaguila/conda\\_envs/multiome\\_NEW\\_downstream\\_analysis/lib/R/library'"
      ],
      "text/markdown": [
       "'/home/manuel.tardaguila/conda_envs/multiome_NEW_downstream_analysis/lib/R/library'"
      ],
      "text/plain": [
       "[1] \"/home/manuel.tardaguila/conda_envs/multiome_NEW_downstream_analysis/lib/R/library\""
      ]
     },
     "metadata": {},
     "output_type": "display_data"
    },
    {
     "data": {
      "text/html": [
       "'/home/manuel.tardaguila/conda_envs/multiome_NEW_downstream_analysis/lib/R/library'"
      ],
      "text/latex": [
       "'/home/manuel.tardaguila/conda\\_envs/multiome\\_NEW\\_downstream\\_analysis/lib/R/library'"
      ],
      "text/markdown": [
       "'/home/manuel.tardaguila/conda_envs/multiome_NEW_downstream_analysis/lib/R/library'"
      ],
      "text/plain": [
       "[1] \"/home/manuel.tardaguila/conda_envs/multiome_NEW_downstream_analysis/lib/R/library\""
      ]
     },
     "metadata": {},
     "output_type": "display_data"
    }
   ],
   "source": [
    ".libPaths()\n",
    "assign(\".lib.loc\", \"/home/manuel.tardaguila/conda_envs/multiome_NEW_downstream_analysis/lib/R/library\", envir = environment(.libPaths))\n",
    ".libPaths()\n",
    "# sessionInfo()\n",
    "\n",
    "\n",
    "suppressMessages(library(Seurat))\n",
    "suppressMessages(library(Signac))\n",
    "suppressMessages(library(dplyr)) \n",
    "suppressMessages(library(ggplot2)) \n",
    "suppressMessages(library(Matrix)) \n",
    "suppressMessages(library(data.table)) \n",
    "suppressMessages(library(ggpubr)) \n",
    "suppressMessages(library(ggplot2))\n",
    "suppressMessages(library(pheatmap))\n",
    "suppressMessages(library(presto))\n",
    "suppressMessages(library(\"qlcMatrix\"))\n",
    "suppressMessages(library(\"cowplot\"))\n",
    "suppressMessages(library(\"RColorBrewer\"))\n",
    "suppressMessages(library(\"plyr\"))\n",
    "suppressMessages(library(\"forcats\"))\n",
    "suppressMessages(library('ggeasy'))\n",
    "suppressMessages(library('dplyr'))\n",
    "suppressMessages(library(\"svglite\"))\n",
    "suppressMessages(library(\"ape\"))\n",
    "suppressMessages(library(\"ggforce\"))\n",
    "suppressMessages(library(\"tidyr\"))\n",
    "suppressMessages(library(\"edgeR\"))\n",
    "suppressMessages(library(\"apeglm\"))\n",
    "suppressMessages(library(\"DESeq2\"))\n",
    "suppressMessages(library(\"tibble\")) \n",
    "suppressMessages(library(future))\n",
    "\n",
    "library(\"optparse\")\n",
    "suppressMessages(library(\"splitstackshape\")) \n",
    "suppressMessages(library(\"ggupset\"))\n"
   ]
  },
  {
   "cell_type": "markdown",
   "id": "03f0b4ca-1ce0-4f8a-b10b-9fadd1fa6e16",
   "metadata": {},
   "source": [
    "# Read in miRNA counts"
   ]
  },
  {
   "cell_type": "code",
   "execution_count": 4,
   "id": "6ced0c7a-6835-4d23-922f-6b33d369038b",
   "metadata": {
    "execution": {
     "iopub.execute_input": "2025-10-03T14:21:59.948747Z",
     "iopub.status.busy": "2025-10-03T14:21:59.947641Z",
     "iopub.status.idle": "2025-10-03T14:22:00.046638Z",
     "shell.execute_reply": "2025-10-03T14:22:00.045355Z"
    }
   },
   "outputs": [
    {
     "name": "stdout",
     "output_type": "stream",
     "text": [
      "miRNA_counts/n/n"
     ]
    }
   ],
   "source": [
    "setwd(\"/group/soranzo/manuel.tardaguila/small_rna/new_trimming/mirna_quant/edger_qc\")\n",
    "\n",
    "miRNA_counts <- read.csv(\"mature_counts.csv\")\n",
    "\n",
    "row.names(miRNA_counts)<-miRNA_counts$X\n",
    "cat(\"miRNA_counts/n\")\n",
    "#cat(str(miRNA_counts))\n",
    "cat(\"/n\")"
   ]
  },
  {
   "cell_type": "markdown",
   "id": "a7416546-4f7b-432f-8ad9-76ec66e3026d",
   "metadata": {},
   "source": [
    "## Transform into a DESeq2 count matrix"
   ]
  },
  {
   "cell_type": "code",
   "execution_count": 5,
   "id": "612a1d25-3e2c-4f47-a264-9b70f37d4c7c",
   "metadata": {
    "execution": {
     "iopub.execute_input": "2025-10-03T14:22:00.049402Z",
     "iopub.status.busy": "2025-10-03T14:22:00.048433Z",
     "iopub.status.idle": "2025-10-03T14:22:00.133292Z",
     "shell.execute_reply": "2025-10-03T14:22:00.132057Z"
    }
   },
   "outputs": [
    {
     "name": "stdout",
     "output_type": "stream",
     "text": [
      "miRNA_counts_transposed/n chr [1:2382, 1:6] \"wt_1\" \" 6\" \"0\" \"2\" \" 1\" \"2\" \"13\" \"0\" \" 54\" \"32\" \"1\" \"0\" ...\n",
      " - attr(*, \"dimnames\")=List of 2\n",
      "  ..$ : chr [1:2382] \"X\" \"hsa.let.7a.5p\" \"hsa.let.7a.3p\" \"hsa.let.7a.2.3p\" ...\n",
      "  ..$ : chr [1:6] \"wt_1\" \"rs62237617_1\" \"wt_2\" \"rs62237617_2\" ...\n",
      "/n"
     ]
    }
   ],
   "source": [
    "miRNA_counts_transposed <- t(miRNA_counts)\n",
    "\n",
    "cat(\"miRNA_counts_transposed/n\")\n",
    "cat(str(miRNA_counts_transposed))\n",
    "cat(\"/n\")"
   ]
  },
  {
   "cell_type": "code",
   "execution_count": 8,
   "id": "30747826-a3f0-4d3e-96a7-52339aedb109",
   "metadata": {
    "execution": {
     "iopub.execute_input": "2025-10-03T14:24:19.692841Z",
     "iopub.status.busy": "2025-10-03T14:24:19.691722Z",
     "iopub.status.idle": "2025-10-03T14:24:19.709604Z",
     "shell.execute_reply": "2025-10-03T14:24:19.708398Z"
    }
   },
   "outputs": [
    {
     "name": "stdout",
     "output_type": "stream",
     "text": [
      "miRNA_counts_transposed.matrix/n chr [1:2381, 1:6] \" 6\" \"0\" \"2\" \" 1\" \"2\" \"13\" \"0\" \" 54\" \"32\" \"1\" \"0\" \"2\" ...\n",
      " - attr(*, \"dimnames\")=List of 2\n",
      "  ..$ : chr [1:2381] \"hsa.let.7a.5p\" \"hsa.let.7a.3p\" \"hsa.let.7a.2.3p\" \"hsa.let.7b.5p\" ...\n",
      "  ..$ : chr [1:6] \"wt_1\" \"rs62237617_1\" \"wt_2\" \"rs62237617_2\" ...\n",
      "/n"
     ]
    }
   ],
   "source": [
    "miRNA_counts_transposed.matrix<-as.matrix(miRNA_counts_transposed[-which(row.names(miRNA_counts_transposed) == 'X'),])\n",
    "\n",
    "cat(\"miRNA_counts_transposed.matrix/n\")\n",
    "cat(str(miRNA_counts_transposed.matrix))\n",
    "cat(\"/n\")"
   ]
  },
  {
   "cell_type": "code",
   "execution_count": 36,
   "id": "d515dd62-ec7e-40a7-97f1-fae4bdc19cf9",
   "metadata": {
    "execution": {
     "iopub.execute_input": "2025-10-03T14:48:04.678472Z",
     "iopub.status.busy": "2025-10-03T14:48:04.677356Z",
     "iopub.status.idle": "2025-10-03T14:48:04.699321Z",
     "shell.execute_reply": "2025-10-03T14:48:04.698153Z"
    }
   },
   "outputs": [
    {
     "name": "stdout",
     "output_type": "stream",
     "text": [
      "count_matrix/n num [1:2381, 1:6] 6 0 2 1 2 13 0 54 32 1 ...\n",
      " - attr(*, \"dimnames\")=List of 2\n",
      "  ..$ : chr [1:2381] \"hsa.let.7a.5p\" \"hsa.let.7a.3p\" \"hsa.let.7a.2.3p\" \"hsa.let.7b.5p\" ...\n",
      "  ..$ : chr [1:6] \"wt_1\" \"rs62237617_1\" \"wt_2\" \"rs62237617_2\" ...\n",
      "/n"
     ]
    }
   ],
   "source": [
    "count_matrix<-apply(miRNA_counts_transposed.matrix, 2, as.numeric)\n",
    "\n",
    "row.names(count_matrix)<-row.names(miRNA_counts_transposed.matrix)\n",
    "\n",
    "cat(\"count_matrix/n\")\n",
    "cat(str(count_matrix))\n",
    "cat(\"/n\")"
   ]
  },
  {
   "cell_type": "code",
   "execution_count": 37,
   "id": "ec785d81-f7af-49be-b6a6-60160376bf98",
   "metadata": {
    "execution": {
     "iopub.execute_input": "2025-10-03T14:48:58.942824Z",
     "iopub.status.busy": "2025-10-03T14:48:58.941714Z",
     "iopub.status.idle": "2025-10-03T14:48:58.956379Z",
     "shell.execute_reply": "2025-10-03T14:48:58.955190Z"
    }
   },
   "outputs": [],
   "source": [
    "count_matrix <- round(count_matrix)\n",
    "storage.mode(count_matrix) <- \"integer\""
   ]
  },
  {
   "cell_type": "code",
   "execution_count": 38,
   "id": "82fb75d1-b6d2-4a57-942e-b2bcb2c0eb14",
   "metadata": {
    "execution": {
     "iopub.execute_input": "2025-10-03T14:48:58.959161Z",
     "iopub.status.busy": "2025-10-03T14:48:58.958187Z",
     "iopub.status.idle": "2025-10-03T14:48:58.972955Z",
     "shell.execute_reply": "2025-10-03T14:48:58.971826Z"
    }
   },
   "outputs": [
    {
     "name": "stdout",
     "output_type": "stream",
     "text": [
      "[1] \"matrix\" \"array\" \n",
      "[1] \"Minimum value in matrix: 0\"\n"
     ]
    }
   ],
   "source": [
    "# Check the data type\n",
    "print(class(count_matrix))\n",
    "\n",
    "# Check the minimum value\n",
    "min_count <- min(count_matrix)\n",
    "print(paste(\"Minimum value in matrix:\", min_count))\n",
    "\n",
    "# Check for negative values\n",
    "if (min_count < 0) {\n",
    "  # Identify how many negative values exist\n",
    "  num_negative <- sum(count_matrix < 0)\n",
    "  print(paste(\"Number of negative values:\", num_negative))\n",
    "\n",
    "  # Print a few examples of genes with negative counts (optional)\n",
    "  negative_rows <- head(which(rowSums(count_matrix < 0) > 0))\n",
    "  print(\"Rows containing negative values (first few):\")\n",
    "  print(rownames(count_matrix)[negative_rows])\n",
    "}"
   ]
  },
  {
   "cell_type": "markdown",
   "id": "78e89a68-6676-4d50-8b0b-7c5a9227e07c",
   "metadata": {},
   "source": [
    "## check presence  of mir5739"
   ]
  },
  {
   "cell_type": "code",
   "execution_count": 84,
   "id": "f7b80fd1-cf4d-4a1b-9471-1a3d7c4480a6",
   "metadata": {
    "execution": {
     "iopub.execute_input": "2025-10-03T15:18:17.908119Z",
     "iopub.status.busy": "2025-10-03T15:18:17.907096Z",
     "iopub.status.idle": "2025-10-03T15:18:17.921369Z",
     "shell.execute_reply": "2025-10-03T15:18:17.920237Z"
    }
   },
   "outputs": [
    {
     "data": {
      "text/html": [
       "'hsa.miR.5739'"
      ],
      "text/latex": [
       "'hsa.miR.5739'"
      ],
      "text/markdown": [
       "'hsa.miR.5739'"
      ],
      "text/plain": [
       "[1] \"hsa.miR.5739\""
      ]
     },
     "metadata": {},
     "output_type": "display_data"
    }
   ],
   "source": [
    "row.names(count_matrix)[grep(\"5739\", row.names(count_matrix))]"
   ]
  },
  {
   "cell_type": "code",
   "execution_count": 85,
   "id": "16adc091-2b8d-4f80-bfb0-857d5c1c7bb2",
   "metadata": {
    "execution": {
     "iopub.execute_input": "2025-10-03T15:18:49.669789Z",
     "iopub.status.busy": "2025-10-03T15:18:49.668774Z",
     "iopub.status.idle": "2025-10-03T15:18:49.680642Z",
     "shell.execute_reply": "2025-10-03T15:18:49.679523Z"
    }
   },
   "outputs": [
    {
     "data": {
      "text/html": [
       "<style>\n",
       ".dl-inline {width: auto; margin:0; padding: 0}\n",
       ".dl-inline>dt, .dl-inline>dd {float: none; width: auto; display: inline-block}\n",
       ".dl-inline>dt::after {content: \":\\0020\"; padding-right: .5ex}\n",
       ".dl-inline>dt:not(:first-of-type) {padding-left: .5ex}\n",
       "</style><dl class=dl-inline><dt>wt_1</dt><dd>11</dd><dt>rs62237617_1</dt><dd>15</dd><dt>wt_2</dt><dd>14</dd><dt>rs62237617_2</dt><dd>4</dd><dt>wt_3</dt><dd>5</dd><dt>rs62237617_3</dt><dd>6</dd></dl>\n"
      ],
      "text/latex": [
       "\\begin{description*}\n",
       "\\item[wt\\textbackslash{}\\_1] 11\n",
       "\\item[rs62237617\\textbackslash{}\\_1] 15\n",
       "\\item[wt\\textbackslash{}\\_2] 14\n",
       "\\item[rs62237617\\textbackslash{}\\_2] 4\n",
       "\\item[wt\\textbackslash{}\\_3] 5\n",
       "\\item[rs62237617\\textbackslash{}\\_3] 6\n",
       "\\end{description*}\n"
      ],
      "text/markdown": [
       "wt_1\n",
       ":   11rs62237617_1\n",
       ":   15wt_2\n",
       ":   14rs62237617_2\n",
       ":   4wt_3\n",
       ":   5rs62237617_3\n",
       ":   6\n",
       "\n"
      ],
      "text/plain": [
       "        wt_1 rs62237617_1         wt_2 rs62237617_2         wt_3 rs62237617_3 \n",
       "          11           15           14            4            5            6 "
      ]
     },
     "metadata": {},
     "output_type": "display_data"
    }
   ],
   "source": [
    "count_matrix[which(row.names(count_matrix) == 'hsa.miR.5739'),]"
   ]
  },
  {
   "cell_type": "markdown",
   "id": "77a52b94-276b-4661-834f-69812e38a763",
   "metadata": {},
   "source": [
    "# Create the colData object"
   ]
  },
  {
   "cell_type": "code",
   "execution_count": 15,
   "id": "8db92244-ebc3-47c8-be3f-66c24ee6448a",
   "metadata": {
    "execution": {
     "iopub.execute_input": "2025-10-03T14:29:52.078730Z",
     "iopub.status.busy": "2025-10-03T14:29:52.077754Z",
     "iopub.status.idle": "2025-10-03T14:29:52.091268Z",
     "shell.execute_reply": "2025-10-03T14:29:52.090089Z"
    }
   },
   "outputs": [
    {
     "name": "stdout",
     "output_type": "stream",
     "text": [
      "samples/n chr [1:6] \"wt_1\" \"rs62237617_1\" \"wt_2\" \"rs62237617_2\" \"wt_3\" ...\n"
     ]
    }
   ],
   "source": [
    "samples<-colnames(miRNA_counts_transposed.matrix)\n",
    "\n",
    "cat(\"samples/n\")\n",
    "cat(str(samples))\n"
   ]
  },
  {
   "cell_type": "code",
   "execution_count": 16,
   "id": "d95e7676-89b0-49ca-8309-67178d64270a",
   "metadata": {
    "execution": {
     "iopub.execute_input": "2025-10-03T14:29:52.093935Z",
     "iopub.status.busy": "2025-10-03T14:29:52.092986Z",
     "iopub.status.idle": "2025-10-03T14:29:52.106348Z",
     "shell.execute_reply": "2025-10-03T14:29:52.105194Z"
    }
   },
   "outputs": [
    {
     "name": "stdout",
     "output_type": "stream",
     "text": [
      "condition/n chr [1:6] \"wt\" \"rs62237617\" \"wt\" \"rs62237617\" \"wt\" \"rs62237617\"\n"
     ]
    }
   ],
   "source": [
    "condition<-gsub(\"_.+$\",\"\",samples)\n",
    "\n",
    "cat(\"condition/n\")\n",
    "cat(str(condition))\n"
   ]
  },
  {
   "cell_type": "code",
   "execution_count": 17,
   "id": "32b8c4c1-b2a2-42e9-93ad-dbbd0158c374",
   "metadata": {
    "execution": {
     "iopub.execute_input": "2025-10-03T14:29:54.719112Z",
     "iopub.status.busy": "2025-10-03T14:29:54.717979Z",
     "iopub.status.idle": "2025-10-03T14:29:54.732951Z",
     "shell.execute_reply": "2025-10-03T14:29:54.731724Z"
    }
   },
   "outputs": [
    {
     "name": "stdout",
     "output_type": "stream",
     "text": [
      "batch/n chr [1:6] \"1\" \"1\" \"2\" \"2\" \"3\" \"3\"\n"
     ]
    }
   ],
   "source": [
    "batch<-gsub(\"^[^_]+_\",\"\",samples)\n",
    "\n",
    "cat(\"batch/n\")\n",
    "cat(str(batch))\n"
   ]
  },
  {
   "cell_type": "code",
   "execution_count": 18,
   "id": "5c6daf34-1419-4bd4-918f-7140be42ff84",
   "metadata": {
    "execution": {
     "iopub.execute_input": "2025-10-03T14:31:35.356882Z",
     "iopub.status.busy": "2025-10-03T14:31:35.355783Z",
     "iopub.status.idle": "2025-10-03T14:31:35.373869Z",
     "shell.execute_reply": "2025-10-03T14:31:35.372672Z"
    }
   },
   "outputs": [
    {
     "name": "stdout",
     "output_type": "stream",
     "text": [
      "colData/n'data.frame':\t6 obs. of  3 variables:\n",
      " $ sample   : chr  \"wt_1\" \"rs62237617_1\" \"wt_2\" \"rs62237617_2\" ...\n",
      " $ condition: chr  \"wt\" \"rs62237617\" \"wt\" \"rs62237617\" ...\n",
      " $ batch    : chr  \"1\" \"1\" \"2\" \"2\" ...\n"
     ]
    }
   ],
   "source": [
    "colData<-as.data.frame(cbind(samples,condition,batch))\n",
    "\n",
    "colnames(colData)<-c('sample','condition','batch')\n",
    "\n",
    "cat(\"colData_0/n\")\n",
    "cat(str(colData))\n"
   ]
  },
  {
   "cell_type": "markdown",
   "id": "67eae292-5001-4098-8d94-1ef1f420c70c",
   "metadata": {},
   "source": [
    "## factorize condition"
   ]
  },
  {
   "cell_type": "code",
   "execution_count": 19,
   "id": "70ec8f23-0bfd-4cf4-961b-2d5a23b3a14d",
   "metadata": {
    "execution": {
     "iopub.execute_input": "2025-10-03T14:33:28.694877Z",
     "iopub.status.busy": "2025-10-03T14:33:28.693773Z",
     "iopub.status.idle": "2025-10-03T14:33:28.712204Z",
     "shell.execute_reply": "2025-10-03T14:33:28.711006Z"
    }
   },
   "outputs": [
    {
     "name": "stdout",
     "output_type": "stream",
     "text": [
      "colData_1/n'data.frame':\t6 obs. of  3 variables:\n",
      " $ sample   : chr  \"wt_1\" \"rs62237617_1\" \"wt_2\" \"rs62237617_2\" ...\n",
      " $ condition: Factor w/ 2 levels \"wt\",\"rs62237617\": 1 2 1 2 1 2\n",
      " $ batch    : chr  \"1\" \"1\" \"2\" \"2\" ...\n"
     ]
    }
   ],
   "source": [
    "colData$condition<-factor(colData$condition)\n",
    "colData$condition<-relevel(colData$condition, ref='wt') ### Nothing works with ordered factors\n",
    "\n",
    "colData$condition<-factor(colData$condition)\n",
    "colData$condition<-relevel(colData$condition, ref='wt') ### Nothing works with ordered factors\n",
    "\n",
    "\n",
    "cat(\"colData_1/n\")\n",
    "cat(str(colData))"
   ]
  },
  {
   "cell_type": "markdown",
   "id": "09d5aa09-5497-4238-b1e3-23bff497cbac",
   "metadata": {},
   "source": [
    "# DESeq2"
   ]
  },
  {
   "cell_type": "markdown",
   "id": "67a32699-7e3e-4ba0-8c76-1fc3187643c2",
   "metadata": {},
   "source": [
    "## Create the DESeqDataSetFromMatrix object"
   ]
  },
  {
   "cell_type": "code",
   "execution_count": 39,
   "id": "611e685e-5e67-44bc-92b6-f3446ba48c4e",
   "metadata": {
    "execution": {
     "iopub.execute_input": "2025-10-03T14:48:58.975672Z",
     "iopub.status.busy": "2025-10-03T14:48:58.974740Z",
     "iopub.status.idle": "2025-10-03T14:48:59.218203Z",
     "shell.execute_reply": "2025-10-03T14:48:59.216722Z"
    }
   },
   "outputs": [],
   "source": [
    "dds <- DESeqDataSetFromMatrix(countData = count_matrix,\n",
    "                              colData = colData,\n",
    "                              design = ~ condition)"
   ]
  },
  {
   "cell_type": "code",
   "execution_count": 41,
   "id": "4dda1507-ff5e-4cee-9195-57083af3329e",
   "metadata": {
    "execution": {
     "iopub.execute_input": "2025-10-03T14:52:21.972639Z",
     "iopub.status.busy": "2025-10-03T14:52:21.971323Z",
     "iopub.status.idle": "2025-10-03T14:52:21.984386Z",
     "shell.execute_reply": "2025-10-03T14:52:21.983070Z"
    }
   },
   "outputs": [
    {
     "name": "stdout",
     "output_type": "stream",
     "text": [
      "dds_0/n"
     ]
    }
   ],
   "source": [
    "cat(\"dds_0/n\")\n",
    "#cat(str(dds))"
   ]
  },
  {
   "cell_type": "markdown",
   "id": "f5e05b92-043b-4297-bde1-013ae25a18e9",
   "metadata": {},
   "source": [
    "## Filter out miRNAs with fewer than  total raw counts"
   ]
  },
  {
   "cell_type": "code",
   "execution_count": 50,
   "id": "99953c48-f299-42ff-8b22-a689b9c595c4",
   "metadata": {
    "execution": {
     "iopub.execute_input": "2025-10-03T14:57:05.030941Z",
     "iopub.status.busy": "2025-10-03T14:57:05.029833Z",
     "iopub.status.idle": "2025-10-03T14:57:05.050413Z",
     "shell.execute_reply": "2025-10-03T14:57:05.049263Z"
    }
   },
   "outputs": [
    {
     "name": "stdout",
     "output_type": "stream",
     "text": [
      " Named logi [1:1189] FALSE FALSE FALSE FALSE FALSE FALSE ...\n",
      " - attr(*, \"names\")= chr [1:1189] \"hsa.let.7a.3p\" \"hsa.let.7d.5p\" \"hsa.let.7e.3p\" \"hsa.let.7f.5p\" ...\n"
     ]
    }
   ],
   "source": [
    "keep <- rowSums(counts(dds)) >= 10\n",
    "\n",
    "filtered_out<-keep[which(keep == \"FALSE\")]\n",
    "\n",
    "cat(str(filtered_out))"
   ]
  },
  {
   "cell_type": "code",
   "execution_count": 51,
   "id": "765f7dd3-e72b-4d4e-bbd0-442a314210e9",
   "metadata": {
    "execution": {
     "iopub.execute_input": "2025-10-03T14:57:05.772976Z",
     "iopub.status.busy": "2025-10-03T14:57:05.772013Z",
     "iopub.status.idle": "2025-10-03T14:57:05.783207Z",
     "shell.execute_reply": "2025-10-03T14:57:05.782107Z"
    }
   },
   "outputs": [
    {
     "data": {
      "text/html": [],
      "text/latex": [],
      "text/markdown": [],
      "text/plain": [
       "integer(0)"
      ]
     },
     "metadata": {},
     "output_type": "display_data"
    }
   ],
   "source": [
    "grep(\"5739\",filtered_out)"
   ]
  },
  {
   "cell_type": "code",
   "execution_count": 52,
   "id": "58e7cd67-8510-4e73-8cf1-e171ba3de965",
   "metadata": {
    "execution": {
     "iopub.execute_input": "2025-10-03T14:57:08.199624Z",
     "iopub.status.busy": "2025-10-03T14:57:08.198636Z",
     "iopub.status.idle": "2025-10-03T14:57:08.320755Z",
     "shell.execute_reply": "2025-10-03T14:57:08.319529Z"
    }
   },
   "outputs": [],
   "source": [
    "dds <- dds[keep,]"
   ]
  },
  {
   "cell_type": "markdown",
   "id": "5ceccdfb-5a81-4aba-8964-1a6fe2935358",
   "metadata": {},
   "source": [
    "## estimateSizeFactors----------------------------------\n"
   ]
  },
  {
   "cell_type": "code",
   "execution_count": 55,
   "id": "39cf2a4b-9d8c-4a07-a385-2a7495eb9cb7",
   "metadata": {
    "execution": {
     "iopub.execute_input": "2025-10-03T14:59:23.491496Z",
     "iopub.status.busy": "2025-10-03T14:59:23.490442Z",
     "iopub.status.idle": "2025-10-03T14:59:23.620736Z",
     "shell.execute_reply": "2025-10-03T14:59:23.619527Z"
    }
   },
   "outputs": [],
   "source": [
    "dds<-estimateSizeFactors(dds)"
   ]
  },
  {
   "cell_type": "markdown",
   "id": "9b065f30-79f5-440f-aeff-763242101b4f",
   "metadata": {},
   "source": [
    "## Run the rest"
   ]
  },
  {
   "cell_type": "code",
   "execution_count": 56,
   "id": "ee85410f-083b-4ee1-92ac-c831e5bd795b",
   "metadata": {
    "execution": {
     "iopub.execute_input": "2025-10-03T14:59:24.709586Z",
     "iopub.status.busy": "2025-10-03T14:59:24.708569Z",
     "iopub.status.idle": "2025-10-03T14:59:25.829018Z",
     "shell.execute_reply": "2025-10-03T14:59:25.827754Z"
    }
   },
   "outputs": [
    {
     "name": "stderr",
     "output_type": "stream",
     "text": [
      "using pre-existing size factors\n",
      "\n",
      "estimating dispersions\n",
      "\n",
      "found already estimated dispersions, replacing these\n",
      "\n",
      "gene-wise dispersion estimates\n",
      "\n",
      "mean-dispersion relationship\n",
      "\n",
      "final dispersion estimates\n",
      "\n",
      "fitting model and testing\n",
      "\n"
     ]
    }
   ],
   "source": [
    "dds <- DESeq(dds)"
   ]
  },
  {
   "cell_type": "markdown",
   "id": "fdc052d7-a899-4f88-a85e-69c1bd081620",
   "metadata": {},
   "source": [
    "## Extract results"
   ]
  },
  {
   "cell_type": "code",
   "execution_count": 58,
   "id": "05bdaa41-0ca4-4c4d-8948-b19a8fe4507c",
   "metadata": {
    "execution": {
     "iopub.execute_input": "2025-10-03T15:01:17.042755Z",
     "iopub.status.busy": "2025-10-03T15:01:17.041680Z",
     "iopub.status.idle": "2025-10-03T15:01:17.284734Z",
     "shell.execute_reply": "2025-10-03T15:01:17.283551Z"
    }
   },
   "outputs": [
    {
     "data": {
      "text/html": [
       "'condition_rs62237617_vs_wt'"
      ],
      "text/latex": [
       "'condition\\_rs62237617\\_vs\\_wt'"
      ],
      "text/markdown": [
       "'condition_rs62237617_vs_wt'"
      ],
      "text/plain": [
       "[1] \"condition_rs62237617_vs_wt\""
      ]
     },
     "metadata": {},
     "output_type": "display_data"
    }
   ],
   "source": [
    "possible_contrasts<-colnames(dds@modelMatrix)[-1] # -1 because 1 is the Intercept term\n",
    "\n",
    "possible_contrasts"
   ]
  },
  {
   "cell_type": "code",
   "execution_count": 57,
   "id": "941f1c44-0b8d-4eb3-993d-4ed0f9be9cc6",
   "metadata": {
    "execution": {
     "iopub.execute_input": "2025-10-03T15:00:07.358423Z",
     "iopub.status.busy": "2025-10-03T15:00:07.357360Z",
     "iopub.status.idle": "2025-10-03T15:00:07.697700Z",
     "shell.execute_reply": "2025-10-03T15:00:07.696562Z"
    }
   },
   "outputs": [
    {
     "data": {
      "text/html": [
       "<style>\n",
       ".list-inline {list-style: none; margin:0; padding: 0}\n",
       ".list-inline>li {display: inline-block}\n",
       ".list-inline>li:not(:last-child)::after {content: \"\\00b7\"; padding: 0 .5ex}\n",
       "</style>\n",
       "<ol class=list-inline><li>'Intercept'</li><li>'condition_rs62237617_vs_wt'</li></ol>\n"
      ],
      "text/latex": [
       "\\begin{enumerate*}\n",
       "\\item 'Intercept'\n",
       "\\item 'condition\\_rs62237617\\_vs\\_wt'\n",
       "\\end{enumerate*}\n"
      ],
      "text/markdown": [
       "1. 'Intercept'\n",
       "2. 'condition_rs62237617_vs_wt'\n",
       "\n",
       "\n"
      ],
      "text/plain": [
       "[1] \"Intercept\"                  \"condition_rs62237617_vs_wt\""
      ]
     },
     "metadata": {},
     "output_type": "display_data"
    }
   ],
   "source": [
    "resultsNames(dds)"
   ]
  },
  {
   "cell_type": "code",
   "execution_count": 63,
   "id": "b23b5c20-14c0-4ab2-85a3-0e46af9d3d3d",
   "metadata": {
    "execution": {
     "iopub.execute_input": "2025-10-03T15:03:33.325725Z",
     "iopub.status.busy": "2025-10-03T15:03:33.324692Z",
     "iopub.status.idle": "2025-10-03T15:03:34.471883Z",
     "shell.execute_reply": "2025-10-03T15:03:34.470731Z"
    }
   },
   "outputs": [
    {
     "name": "stderr",
     "output_type": "stream",
     "text": [
      "using 'apeglm' for LFC shrinkage. If used in published research, please cite:\n",
      "    Zhu, A., Ibrahim, J.G., Love, M.I. (2018) Heavy-tailed prior distributions for\n",
      "    sequence count data: removing the noise and preserving large differences.\n",
      "    Bioinformatics. https://doi.org/10.1093/bioinformatics/bty895\n",
      "\n"
     ]
    },
    {
     "name": "stdout",
     "output_type": "stream",
     "text": [
      "tmp_results_0/n"
     ]
    }
   ],
   "source": [
    "tmp_results<-results(dds, test= \"Wald\", name=possible_contrasts[1], independentFiltering=FALSE)\n",
    "        \n",
    "#### expand LogFC #########################################\n",
    "\n",
    "tmp_results <- lfcShrink(dds, \n",
    "                         coef = possible_contrasts[1],\n",
    "                         res=tmp_results,\n",
    "                         type = \"apeglm\")\n",
    "\n",
    "\n",
    "cat(\"tmp_results_0/n\")\n",
    "#cat(str(tmp_results))"
   ]
  },
  {
   "cell_type": "code",
   "execution_count": 66,
   "id": "d71871f4-2430-4b24-982c-b7d1ac1c8335",
   "metadata": {
    "execution": {
     "iopub.execute_input": "2025-10-03T15:05:03.335654Z",
     "iopub.status.busy": "2025-10-03T15:05:03.334614Z",
     "iopub.status.idle": "2025-10-03T15:05:03.358475Z",
     "shell.execute_reply": "2025-10-03T15:05:03.357369Z"
    }
   },
   "outputs": [
    {
     "name": "stdout",
     "output_type": "stream",
     "text": [
      "tmp_tb_0/n'data.frame':\t1192 obs. of  7 variables:\n",
      " $ miRNA         : chr  \"hsa.let.7a.5p\" \"hsa.let.7a.2.3p\" \"hsa.let.7b.5p\" \"hsa.let.7b.3p\" ...\n",
      " $ baseMean      : num  15.27 2.54 3.81 2.7 58.22 ...\n",
      " $ log2FoldChange: num  1.61e-06 1.91e-07 1.34e-06 1.12e-06 -1.30e-06 ...\n",
      " $ lfcSE         : num  0.00144 0.00144 0.00144 0.00144 0.00144 ...\n",
      " $ pvalue        : num  0.2882 0.7964 0.1077 0.0794 0.6092 ...\n",
      " $ padj          : num  0.999 0.999 0.999 0.999 0.999 ...\n",
      " $ contrast      : chr  \"condition_rs62237617_vs_wt\" \"condition_rs62237617_vs_wt\" \"condition_rs62237617_vs_wt\" \"condition_rs62237617_vs_wt\" ...\n"
     ]
    }
   ],
   "source": [
    " #### obtain data frame #########################################\n",
    "        \n",
    "tmp_tb <- as.data.frame(tmp_results %>%\n",
    "                          data.frame() %>%\n",
    "                          rownames_to_column(var = \"miRNA\") %>%\n",
    "                          as_tibble() %>%\n",
    "                          arrange(padj), stringsAsFactors=F)\n",
    "\n",
    "tmp_tb$contrast<-possible_contrasts[1]\n",
    "\n",
    "cat(\"tmp_tb_0\")\n",
    "cat(str(tmp_tb))"
   ]
  },
  {
   "cell_type": "code",
   "execution_count": 67,
   "id": "6f6eca88-24e3-4877-a30b-8bab37b840e2",
   "metadata": {
    "execution": {
     "iopub.execute_input": "2025-10-03T15:06:18.909023Z",
     "iopub.status.busy": "2025-10-03T15:06:18.907999Z",
     "iopub.status.idle": "2025-10-03T15:06:18.930377Z",
     "shell.execute_reply": "2025-10-03T15:06:18.929268Z"
    }
   },
   "outputs": [
    {
     "name": "stdout",
     "output_type": "stream",
     "text": [
      "tmp_tb_0'data.frame':\t1192 obs. of  9 variables:\n",
      " $ miRNA         : chr  \"hsa.let.7a.5p\" \"hsa.let.7a.2.3p\" \"hsa.let.7b.5p\" \"hsa.let.7b.3p\" ...\n",
      " $ baseMean      : num  15.27 2.54 3.81 2.7 58.22 ...\n",
      " $ log2FoldChange: num  1.61e-06 1.91e-07 1.34e-06 1.12e-06 -1.30e-06 ...\n",
      " $ lfcSE         : num  0.00144 0.00144 0.00144 0.00144 0.00144 ...\n",
      " $ pvalue        : num  0.2882 0.7964 0.1077 0.0794 0.6092 ...\n",
      " $ padj          : num  0.999 0.999 0.999 0.999 0.999 ...\n",
      " $ contrast      : chr  \"condition_rs62237617_vs_wt\" \"condition_rs62237617_vs_wt\" \"condition_rs62237617_vs_wt\" \"condition_rs62237617_vs_wt\" ...\n",
      " $ minuslog10padj: num  0.000395 0.000395 0.000395 0.000395 0.000395 ...\n",
      " $ abslogfc      : num  1.61e-06 1.91e-07 1.34e-06 1.12e-06 1.30e-06 ...\n"
     ]
    }
   ],
   "source": [
    "tmp_tb$minuslog10padj <- -log10(tmp_tb$padj)\n",
    "      \n",
    "tmp_tb$abslogfc<-abs(tmp_tb$log2FoldChange)\n",
    "\n",
    "cat(\"tmp_tb_0\")\n",
    "cat(str(tmp_tb))"
   ]
  },
  {
   "cell_type": "code",
   "execution_count": 68,
   "id": "d3858cf5-a6a2-481f-a360-92e8f96ace6a",
   "metadata": {
    "execution": {
     "iopub.execute_input": "2025-10-03T15:06:51.098613Z",
     "iopub.status.busy": "2025-10-03T15:06:51.097556Z",
     "iopub.status.idle": "2025-10-03T15:06:51.107409Z",
     "shell.execute_reply": "2025-10-03T15:06:51.106295Z"
    }
   },
   "outputs": [],
   "source": [
    "DE_results<-tmp_tb"
   ]
  },
  {
   "cell_type": "markdown",
   "id": "f22126f5-c4a2-444b-80be-f3d404d5a106",
   "metadata": {},
   "source": [
    "## Extract normalized counts"
   ]
  },
  {
   "cell_type": "code",
   "execution_count": 74,
   "id": "c69bfa66-3239-4b6f-87e4-2a545960723f",
   "metadata": {
    "execution": {
     "iopub.execute_input": "2025-10-03T15:10:36.343856Z",
     "iopub.status.busy": "2025-10-03T15:10:36.342978Z",
     "iopub.status.idle": "2025-10-03T15:10:36.369268Z",
     "shell.execute_reply": "2025-10-03T15:10:36.368191Z"
    }
   },
   "outputs": [
    {
     "name": "stdout",
     "output_type": "stream",
     "text": [
      "nor_counts_0\n",
      " num [1:1192, 1:6] 6.28 2.09 1.05 2.09 13.6 ...\n",
      " - attr(*, \"dimnames\")=List of 2\n",
      "  ..$ : chr [1:1192] \"hsa.let.7a.5p\" \"hsa.let.7a.2.3p\" \"hsa.let.7b.5p\" \"hsa.let.7b.3p\" ...\n",
      "  ..$ : chr [1:6] \"wt_1\" \"rs62237617_1\" \"wt_2\" \"rs62237617_2\" ...\n",
      "\n"
     ]
    }
   ],
   "source": [
    "nor_counts<-as.matrix(counts(dds, normalized=TRUE))\n",
    "      \n",
    "row.names(nor_counts)<-row.names(nor_counts)\n",
    "\n",
    "cat(\"nor_counts_0\\n\")\n",
    "str(nor_counts)\n",
    "cat(\"\\n\")\n"
   ]
  },
  {
   "cell_type": "markdown",
   "id": "0018cbe9-9544-42da-b84e-c945cd4f515d",
   "metadata": {},
   "source": [
    "# SAVE results"
   ]
  },
  {
   "cell_type": "code",
   "execution_count": 76,
   "id": "6db181e1-28d1-4942-8cfb-d4f36065b0bd",
   "metadata": {
    "execution": {
     "iopub.execute_input": "2025-10-03T15:12:12.071436Z",
     "iopub.status.busy": "2025-10-03T15:12:12.070436Z",
     "iopub.status.idle": "2025-10-03T15:12:12.080063Z",
     "shell.execute_reply": "2025-10-03T15:12:12.078963Z"
    }
   },
   "outputs": [],
   "source": [
    "setwd(\"/group/soranzo/manuel.tardaguila/small_rna/new_trimming/\")"
   ]
  },
  {
   "cell_type": "code",
   "execution_count": 77,
   "id": "54f7a994-c50a-49fc-99ec-20f93e3dbda1",
   "metadata": {
    "execution": {
     "iopub.execute_input": "2025-10-03T15:12:12.430195Z",
     "iopub.status.busy": "2025-10-03T15:12:12.429262Z",
     "iopub.status.idle": "2025-10-03T15:12:12.469478Z",
     "shell.execute_reply": "2025-10-03T15:12:12.468367Z"
    }
   },
   "outputs": [],
   "source": [
    "write.table(DE_results, file=\"DE_results.tsv\", sep=\"\\t\", quote=F, row.names=F)\n",
    "\n",
    "write.table(nor_counts, file=\"nor_counts.tsv\", sep=\"\\t\", quote=F)\n"
   ]
  },
  {
   "cell_type": "markdown",
   "id": "a7b4a3c4-de10-4968-8ed5-8e163f812810",
   "metadata": {},
   "source": [
    "## Explore results"
   ]
  },
  {
   "cell_type": "code",
   "execution_count": 82,
   "id": "42e95100-e8d4-4d42-8a3b-9c54d0984673",
   "metadata": {
    "execution": {
     "iopub.execute_input": "2025-10-03T15:15:25.497082Z",
     "iopub.status.busy": "2025-10-03T15:15:25.496079Z",
     "iopub.status.idle": "2025-10-03T15:15:25.516898Z",
     "shell.execute_reply": "2025-10-03T15:15:25.515847Z"
    }
   },
   "outputs": [
    {
     "name": "stdout",
     "output_type": "stream",
     "text": [
      "test_0\n",
      "'data.frame':\t17 obs. of  9 variables:\n",
      " $ miRNA         : chr  \"hsa.miR.107\" \"hsa.miR.130b.5p\" \"hsa.miR.769.5p\" \"hsa.miR.891b\" ...\n",
      " $ baseMean      : num  6.27 5.23 26.46 1.86 208.14 ...\n",
      " $ log2FoldChange: num  -2.17e-06 -1.67e-06 1.72 9.53e-07 -4.95e-06 ...\n",
      " $ lfcSE         : num  0.00144 0.00144 0.96248 0.00144 0.00144 ...\n",
      " $ pvalue        : num  0.0289 0.035 0.0015 0.025 0.0203 ...\n",
      " $ padj          : num  0.999 0.999 0.999 0.999 0.999 ...\n",
      " $ contrast      : chr  \"condition_rs62237617_vs_wt\" \"condition_rs62237617_vs_wt\" \"condition_rs62237617_vs_wt\" \"condition_rs62237617_vs_wt\" ...\n",
      " $ minuslog10padj: num  0.000395 0.000395 0.000395 0.000395 0.000395 ...\n",
      " $ abslogfc      : num  2.17e-06 1.67e-06 1.72 9.53e-07 4.95e-06 ...\n",
      "\n"
     ]
    }
   ],
   "source": [
    "\n",
    "\n",
    "test<-DE_results[which(DE_results$pvalue <= 0.05),]\n",
    "\n",
    "cat(\"test_0\\n\")\n",
    "str(test)\n",
    "cat(\"\\n\")"
   ]
  },
  {
   "cell_type": "code",
   "execution_count": 83,
   "id": "7d85a8bb-4d5d-43f5-ad5f-eb6ca3cbdb9c",
   "metadata": {
    "execution": {
     "iopub.execute_input": "2025-10-03T15:15:49.695403Z",
     "iopub.status.busy": "2025-10-03T15:15:49.694390Z",
     "iopub.status.idle": "2025-10-03T15:15:49.712482Z",
     "shell.execute_reply": "2025-10-03T15:15:49.711381Z"
    }
   },
   "outputs": [
    {
     "name": "stdout",
     "output_type": "stream",
     "text": [
      "SIG_0\n",
      "'data.frame':\t0 obs. of  9 variables:\n",
      " $ miRNA         : chr \n",
      " $ baseMean      : num \n",
      " $ log2FoldChange: num \n",
      " $ lfcSE         : num \n",
      " $ pvalue        : num \n",
      " $ padj          : num \n",
      " $ contrast      : chr \n",
      " $ minuslog10padj: num \n",
      " $ abslogfc      : num \n",
      "\n"
     ]
    }
   ],
   "source": [
    "SIG<-DE_results[which(DE_results$minuslog10padj >= 1.3),]\n",
    "\n",
    "cat(\"SIG_0\\n\")\n",
    "str(SIG)\n",
    "cat(\"\\n\")"
   ]
  },
  {
   "cell_type": "markdown",
   "id": "6398e827-3263-4b62-a51c-e3bf8106db8c",
   "metadata": {},
   "source": [
    "# Heatmap"
   ]
  },
  {
   "cell_type": "code",
   "execution_count": 56,
   "id": "7d24bce4-82af-4b6c-ab10-478d473924d1",
   "metadata": {
    "execution": {
     "iopub.execute_input": "2025-10-06T13:17:17.656736Z",
     "iopub.status.busy": "2025-10-06T13:17:17.655676Z",
     "iopub.status.idle": "2025-10-06T13:17:17.668422Z",
     "shell.execute_reply": "2025-10-06T13:17:17.667248Z"
    }
   },
   "outputs": [
    {
     "data": {
      "text/html": [
       "<strong>null device:</strong> 1"
      ],
      "text/latex": [
       "\\textbf{null device:} 1"
      ],
      "text/markdown": [
       "**null device:** 1"
      ],
      "text/plain": [
       "null device \n",
       "          1 "
      ]
     },
     "metadata": {},
     "output_type": "display_data"
    },
    {
     "ename": "ERROR",
     "evalue": "Error in dev.set(dev): no active device and default getOption(\"device\") is invalid\n",
     "output_type": "error",
     "traceback": [
      "Error in dev.set(dev): no active device and default getOption(\"device\") is invalid\nTraceback:\n"
     ]
    }
   ],
   "source": [
    "dev.off()"
   ]
  },
  {
   "cell_type": "markdown",
   "id": "8c932613-0cf6-4cd8-9d7b-71389c8398bd",
   "metadata": {},
   "source": [
    "## Load libraries"
   ]
  },
  {
   "cell_type": "code",
   "execution_count": 52,
   "id": "bb5d1400-d6ca-4b81-9064-9c11c4a88ad1",
   "metadata": {
    "execution": {
     "iopub.execute_input": "2025-10-06T13:15:03.899278Z",
     "iopub.status.busy": "2025-10-06T13:15:03.898236Z",
     "iopub.status.idle": "2025-10-06T13:15:04.263810Z",
     "shell.execute_reply": "2025-10-06T13:15:04.262622Z"
    }
   },
   "outputs": [
    {
     "data": {
      "text/html": [
       "'/home/manuel.tardaguila/conda_envs/multiome_NEW_downstream_analysis/lib/R/library'"
      ],
      "text/latex": [
       "'/home/manuel.tardaguila/conda\\_envs/multiome\\_NEW\\_downstream\\_analysis/lib/R/library'"
      ],
      "text/markdown": [
       "'/home/manuel.tardaguila/conda_envs/multiome_NEW_downstream_analysis/lib/R/library'"
      ],
      "text/plain": [
       "[1] \"/home/manuel.tardaguila/conda_envs/multiome_NEW_downstream_analysis/lib/R/library\""
      ]
     },
     "metadata": {},
     "output_type": "display_data"
    },
    {
     "data": {
      "text/html": [
       "'/home/manuel.tardaguila/conda_envs/multiome_NEW_downstream_analysis/lib/R/library'"
      ],
      "text/latex": [
       "'/home/manuel.tardaguila/conda\\_envs/multiome\\_NEW\\_downstream\\_analysis/lib/R/library'"
      ],
      "text/markdown": [
       "'/home/manuel.tardaguila/conda_envs/multiome_NEW_downstream_analysis/lib/R/library'"
      ],
      "text/plain": [
       "[1] \"/home/manuel.tardaguila/conda_envs/multiome_NEW_downstream_analysis/lib/R/library\""
      ]
     },
     "metadata": {},
     "output_type": "display_data"
    }
   ],
   "source": [
    ".libPaths()\n",
    "assign(\".lib.loc\", \"/home/manuel.tardaguila/conda_envs/multiome_NEW_downstream_analysis/lib/R/library\", envir = environment(.libPaths))\n",
    ".libPaths()\n",
    "# # sessionInfo()\n",
    "\n",
    "\n",
    "# .libPaths()\n",
    "# .libPaths(new = c(\"/home/manuel.tardaguila/conda_envs/multiome_NEW_downstream_analysis/lib/R/library\"))\n",
    "# .libPaths()\n",
    "# sessionInfo()\n",
    "\n",
    "library(\"optparse\")\n",
    "suppressMessages(library(dplyr)) \n",
    "suppressMessages(library(ggplot2)) \n",
    "suppressMessages(library(Matrix)) \n",
    "suppressMessages(library(data.table)) \n",
    "suppressMessages(library(ggpubr)) \n",
    "suppressMessages(library(ggplot2))\n",
    "suppressMessages(library(pheatmap))\n",
    "suppressMessages(library(\"cowplot\"))\n",
    "suppressMessages(library(\"RColorBrewer\"))\n",
    "suppressMessages(library(\"plyr\"))\n",
    "suppressMessages(library(\"forcats\"))\n",
    "suppressMessages(library('ggeasy'))\n",
    "suppressMessages(library('dplyr'))\n",
    "suppressMessages(library(\"svglite\"))\n",
    "suppressMessages(library(\"ape\"))\n",
    "suppressMessages(library(\"ggforce\"))\n",
    "suppressMessages(library(\"tidyr\"))\n",
    "suppressMessages(library(\"tibble\")) \n",
    "suppressMessages(library(future))\n",
    "library(\"ggrepel\")\n",
    "\n"
   ]
  },
  {
   "cell_type": "markdown",
   "id": "108c439c-1080-4a36-9596-d92b46a82360",
   "metadata": {},
   "source": [
    "# Create graph path"
   ]
  },
  {
   "cell_type": "code",
   "execution_count": 34,
   "id": "d48a032c-4a87-431d-8e25-d994972c116a",
   "metadata": {
    "execution": {
     "iopub.execute_input": "2025-10-06T13:00:17.821119Z",
     "iopub.status.busy": "2025-10-06T13:00:17.820130Z",
     "iopub.status.idle": "2025-10-06T13:00:17.832682Z",
     "shell.execute_reply": "2025-10-06T13:00:17.831657Z"
    }
   },
   "outputs": [],
   "source": [
    "if(file.exists(\"/group/soranzo/manuel.tardaguila/small_rna/new_trimming/mirna_quant/DE_graphs\")){\n",
    "\n",
    "        path_graphs<-\"/group/soranzo/manuel.tardaguila/small_rna/new_trimming/mirna_quant/DE_graphs\"\n",
    "\n",
    "}else{\n",
    "\n",
    "    dir.create(\"/group/soranzo/manuel.tardaguila/small_rna/new_trimming/mirna_quant/DE_graphs\")\n",
    "    path_graphs<-\"/group/soranzo/manuel.tardaguila/small_rna/new_trimming/mirna_quant/DE_graphs\"\n",
    "}"
   ]
  },
  {
   "cell_type": "markdown",
   "id": "1dd67a75-a1ef-4058-a035-5b0fb3262a9f",
   "metadata": {},
   "source": [
    "## Read in data"
   ]
  },
  {
   "cell_type": "code",
   "execution_count": 7,
   "id": "7b02e13a-f8b2-4fd8-8090-71ee570a320e",
   "metadata": {
    "execution": {
     "iopub.execute_input": "2025-10-06T12:35:09.497825Z",
     "iopub.status.busy": "2025-10-06T12:35:09.496633Z",
     "iopub.status.idle": "2025-10-06T12:35:09.511658Z",
     "shell.execute_reply": "2025-10-06T12:35:09.510591Z"
    }
   },
   "outputs": [],
   "source": [
    "setwd(\"/group/soranzo/manuel.tardaguila/small_rna/new_trimming/\")"
   ]
  },
  {
   "cell_type": "code",
   "execution_count": 8,
   "id": "0c61b837-3364-4c7b-be84-0db0190d1cba",
   "metadata": {
    "execution": {
     "iopub.execute_input": "2025-10-06T12:35:09.514250Z",
     "iopub.status.busy": "2025-10-06T12:35:09.513357Z",
     "iopub.status.idle": "2025-10-06T12:35:09.541991Z",
     "shell.execute_reply": "2025-10-06T12:35:09.540839Z"
    }
   },
   "outputs": [
    {
     "name": "stdout",
     "output_type": "stream",
     "text": [
      "DE_results\n",
      "'data.frame':\t1192 obs. of  9 variables:\n",
      " $ miRNA         : chr  \"hsa.let.7a.5p\" \"hsa.let.7a.2.3p\" \"hsa.let.7b.5p\" \"hsa.let.7b.3p\" ...\n",
      " $ baseMean      : num  15.27 2.54 3.81 2.7 58.22 ...\n",
      " $ log2FoldChange: num  1.61e-06 1.91e-07 1.34e-06 1.12e-06 -1.30e-06 ...\n",
      " $ lfcSE         : num  0.00144 0.00144 0.00144 0.00144 0.00144 ...\n",
      " $ pvalue        : num  0.2882 0.7964 0.1077 0.0794 0.6092 ...\n",
      " $ padj          : num  0.999 0.999 0.999 0.999 0.999 ...\n",
      " $ contrast      : chr  \"condition_rs62237617_vs_wt\" \"condition_rs62237617_vs_wt\" \"condition_rs62237617_vs_wt\" \"condition_rs62237617_vs_wt\" ...\n",
      " $ minuslog10padj: num  0.000395 0.000395 0.000395 0.000395 0.000395 ...\n",
      " $ abslogfc      : num  1.61e-06 1.91e-07 1.34e-06 1.12e-06 1.30e-06 ...\n",
      "\n"
     ]
    }
   ],
   "source": [
    "DE_results<-read.table(file=\"DE_results.tsv\", sep=\"\\t\", header=T)\n",
    "\n",
    "cat(\"DE_results\\n\")\n",
    "str(DE_results)\n",
    "cat(\"\\n\")"
   ]
  },
  {
   "cell_type": "code",
   "execution_count": 19,
   "id": "3e5948c6-4a35-44e8-9f0a-f7ceccd3aaef",
   "metadata": {
    "execution": {
     "iopub.execute_input": "2025-10-06T12:47:16.135802Z",
     "iopub.status.busy": "2025-10-06T12:47:16.134777Z",
     "iopub.status.idle": "2025-10-06T12:47:16.649729Z",
     "shell.execute_reply": "2025-10-06T12:47:16.648606Z"
    }
   },
   "outputs": [
    {
     "name": "stdout",
     "output_type": "stream",
     "text": [
      "normalised_counts\n",
      " num [1:1192, 1:6] 6.28 2.09 1.05 2.09 13.6 ...\n",
      " - attr(*, \"dimnames\")=List of 2\n",
      "  ..$ : chr [1:1192] \"hsa.let.7a.5p\" \"hsa.let.7a.2.3p\" \"hsa.let.7b.5p\" \"hsa.let.7b.3p\" ...\n",
      "  ..$ : chr [1:6] \"wt_1\" \"rs62237617_1\" \"wt_2\" \"rs62237617_2\" ...\n",
      "\n"
     ]
    }
   ],
   "source": [
    "normalised_counts<-as.matrix(read.table(file=\"nor_counts.tsv\", sep=\"\\t\", header=T))\n",
    "\n",
    "cat(\"normalised_counts\\n\")\n",
    "str(normalised_counts)\n",
    "cat(\"\\n\")"
   ]
  },
  {
   "cell_type": "code",
   "execution_count": 20,
   "id": "46ac3998-78de-4cc6-a4f0-6273f0f20556",
   "metadata": {
    "execution": {
     "iopub.execute_input": "2025-10-06T12:47:17.419838Z",
     "iopub.status.busy": "2025-10-06T12:47:17.418890Z",
     "iopub.status.idle": "2025-10-06T12:47:17.440547Z",
     "shell.execute_reply": "2025-10-06T12:47:17.439483Z"
    }
   },
   "outputs": [
    {
     "name": "stdout",
     "output_type": "stream",
     "text": [
      "SIG_0\n",
      "'data.frame':\t0 obs. of  9 variables:\n",
      " $ miRNA         : chr \n",
      " $ baseMean      : num \n",
      " $ log2FoldChange: num \n",
      " $ lfcSE         : num \n",
      " $ pvalue        : num \n",
      " $ padj          : num \n",
      " $ contrast      : chr \n",
      " $ minuslog10padj: num \n",
      " $ abslogfc      : num \n",
      "\n"
     ]
    }
   ],
   "source": [
    "SIG<-DE_results[which(DE_results$minuslog10padj >= 1.3),]\n",
    "\n",
    "cat(\"SIG_0\\n\")\n",
    "str(SIG)\n",
    "cat(\"\\n\")"
   ]
  },
  {
   "cell_type": "markdown",
   "id": "2cb93580-8929-4718-916b-8e2efff79166",
   "metadata": {},
   "source": [
    "## Represent DE genes or if there are not the top 50 "
   ]
  },
  {
   "cell_type": "code",
   "execution_count": 21,
   "id": "e3729268-384c-46fd-aa06-c96ed0439998",
   "metadata": {
    "execution": {
     "iopub.execute_input": "2025-10-06T12:47:17.936848Z",
     "iopub.status.busy": "2025-10-06T12:47:17.935943Z",
     "iopub.status.idle": "2025-10-06T12:47:17.963747Z",
     "shell.execute_reply": "2025-10-06T12:47:17.962637Z"
    }
   },
   "outputs": [
    {
     "name": "stdout",
     "output_type": "stream",
     "text": [
      "DE_results_1\n",
      "'data.frame':\t1192 obs. of  9 variables:\n",
      " $ miRNA         : chr  \"hsa.let.7a.5p\" \"hsa.let.7a.2.3p\" \"hsa.let.7b.5p\" \"hsa.let.7b.3p\" ...\n",
      " $ baseMean      : num  15.27 2.54 3.81 2.7 58.22 ...\n",
      " $ log2FoldChange: num  1.61e-06 1.91e-07 1.34e-06 1.12e-06 -1.30e-06 ...\n",
      " $ lfcSE         : num  0.00144 0.00144 0.00144 0.00144 0.00144 ...\n",
      " $ pvalue        : num  0.2882 0.7964 0.1077 0.0794 0.6092 ...\n",
      " $ padj          : num  0.999 0.999 0.999 0.999 0.999 ...\n",
      " $ contrast      : chr  \"condition_rs62237617_vs_wt\" \"condition_rs62237617_vs_wt\" \"condition_rs62237617_vs_wt\" \"condition_rs62237617_vs_wt\" ...\n",
      " $ minuslog10padj: num  0.000395 0.000395 0.000395 0.000395 0.000395 ...\n",
      " $ abslogfc      : num  1.61e-06 1.91e-07 1.34e-06 1.12e-06 1.30e-06 ...\n",
      "\n",
      "selected_0\n",
      "'data.frame':\t50 obs. of  9 variables:\n",
      " $ miRNA         : chr  \"hsa.let.7a.5p\" \"hsa.let.7a.2.3p\" \"hsa.let.7b.5p\" \"hsa.let.7b.3p\" ...\n",
      " $ baseMean      : num  15.27 2.54 3.81 2.7 58.22 ...\n",
      " $ log2FoldChange: num  1.61e-06 1.91e-07 1.34e-06 1.12e-06 -1.30e-06 ...\n",
      " $ lfcSE         : num  0.00144 0.00144 0.00144 0.00144 0.00144 ...\n",
      " $ pvalue        : num  0.2882 0.7964 0.1077 0.0794 0.6092 ...\n",
      " $ padj          : num  0.999 0.999 0.999 0.999 0.999 ...\n",
      " $ contrast      : chr  \"condition_rs62237617_vs_wt\" \"condition_rs62237617_vs_wt\" \"condition_rs62237617_vs_wt\" \"condition_rs62237617_vs_wt\" ...\n",
      " $ minuslog10padj: num  0.000395 0.000395 0.000395 0.000395 0.000395 ...\n",
      " $ abslogfc      : num  1.61e-06 1.91e-07 1.34e-06 1.12e-06 1.30e-06 ...\n",
      "\n"
     ]
    }
   ],
   "source": [
    "DE_results<-DE_results[order(DE_results$minuslog10padj, decreasing = TRUE),]\n",
    "\n",
    "\n",
    "cat(\"DE_results_1\\n\")\n",
    "str(DE_results)\n",
    "cat(\"\\n\")\n",
    "\n",
    "selected<-DE_results[c(1:50),]\n",
    "\n",
    "cat(\"selected_0\\n\")\n",
    "str(selected)\n",
    "cat(\"\\n\")"
   ]
  },
  {
   "cell_type": "code",
   "execution_count": 22,
   "id": "2e333ae6-1ff7-4f25-9275-164d95ee2c84",
   "metadata": {
    "execution": {
     "iopub.execute_input": "2025-10-06T12:47:18.608494Z",
     "iopub.status.busy": "2025-10-06T12:47:18.607582Z",
     "iopub.status.idle": "2025-10-06T12:47:18.616154Z",
     "shell.execute_reply": "2025-10-06T12:47:18.615122Z"
    }
   },
   "outputs": [],
   "source": [
    "DEBUG <- 1"
   ]
  },
  {
   "cell_type": "code",
   "execution_count": 25,
   "id": "41ee1fbf-c700-49f1-bf04-7c6953366b6d",
   "metadata": {
    "execution": {
     "iopub.execute_input": "2025-10-06T12:49:50.544642Z",
     "iopub.status.busy": "2025-10-06T12:49:50.543621Z",
     "iopub.status.idle": "2025-10-06T12:49:50.557049Z",
     "shell.execute_reply": "2025-10-06T12:49:50.555904Z"
    }
   },
   "outputs": [
    {
     "name": "stdout",
     "output_type": "stream",
     "text": [
      "miRNA_EXP_matrix_0\n",
      " num [1:50, 1:6] 6.28 2.09 1.05 2.09 56.5 ...\n",
      " - attr(*, \"dimnames\")=List of 2\n",
      "  ..$ : chr [1:50] \"hsa.let.7a.5p\" \"hsa.let.7a.2.3p\" \"hsa.let.7b.5p\" \"hsa.let.7b.3p\" ...\n",
      "  ..$ : chr [1:6] \"wt_1\" \"rs62237617_1\" \"wt_2\" \"rs62237617_2\" ...\n",
      "\n"
     ]
    }
   ],
   "source": [
    " miRNA_EXP_matrix<-normalised_counts[which(row.names(normalised_counts)%in%selected$miRNA),]\n",
    "       \n",
    "       if(DEBUG == 1){\n",
    "         \n",
    "         cat(\"miRNA_EXP_matrix_0\\n\")\n",
    "         cat(str(miRNA_EXP_matrix))\n",
    "         cat(\"\\n\")\n",
    "       }"
   ]
  },
  {
   "cell_type": "markdown",
   "id": "0cc56532-33b0-4999-8dd7-69744515eecd",
   "metadata": {},
   "source": [
    "## annotation_col"
   ]
  },
  {
   "cell_type": "code",
   "execution_count": 37,
   "id": "b3904cf7-3aca-456c-83f5-d9549cceeaf4",
   "metadata": {
    "execution": {
     "iopub.execute_input": "2025-10-06T13:03:33.976149Z",
     "iopub.status.busy": "2025-10-06T13:03:33.974922Z",
     "iopub.status.idle": "2025-10-06T13:03:34.005096Z",
     "shell.execute_reply": "2025-10-06T13:03:34.003798Z"
    }
   },
   "outputs": [
    {
     "name": "stdout",
     "output_type": "stream",
     "text": [
      "annotation_col_0\n",
      "'data.frame':\t6 obs. of  2 variables:\n",
      " $ Genotype: logi  NA NA NA NA NA NA\n",
      " $ Batch   : logi  NA NA NA NA NA NA\n",
      "\n",
      " chr [1:6] \"wt_1\" \"rs62237617_1\" \"wt_2\" \"rs62237617_2\" \"wt_3\" ...\n",
      "\n",
      "annotation_col_1\n",
      "'data.frame':\t6 obs. of  2 variables:\n",
      " $ Genotype: chr  \"wt\" \"rs62237617\" \"wt\" \"rs62237617\" ...\n",
      " $ Batch   : chr  \"wt_1\" \"rs62237617_1\" \"wt_2\" \"rs62237617_2\" ...\n",
      "\n",
      "annotation_col_2\n",
      "'data.frame':\t6 obs. of  2 variables:\n",
      " $ Genotype: Ord.factor w/ 2 levels \"wt\"<\"rs62237617\": 1 2 1 2 1 2\n",
      " $ Batch   : Ord.factor w/ 6 levels \"wt_1\"<\"wt_2\"<..: 1 4 2 5 3 6\n",
      "\n"
     ]
    }
   ],
   "source": [
    " annotation_col<- data.frame(matrix(vector(), length(colnames(miRNA_EXP_matrix)), 2,\n",
    "                                          dimnames=list(c(),\n",
    "                                                        c(\"Genotype\",\"Batch\"))),stringsAsFactors=F)\n",
    "       \n",
    "       row.names(annotation_col)<-colnames(miRNA_EXP_matrix)\n",
    "       \n",
    "\n",
    "       \n",
    "       if(DEBUG == 1){\n",
    "         cat(\"annotation_col_0\\n\")\n",
    "         cat(str(annotation_col))\n",
    "         cat(\"\\n\")\n",
    "         cat(str(row.names(annotation_col)))\n",
    "         cat(\"\\n\")\n",
    "         \n",
    "       }\n",
    "       \n",
    "       \n",
    "       annotation_col$Genotype<-gsub(\"_.+$\",\"\", row.names(annotation_col))\n",
    "       annotation_col$Batch<-row.names(annotation_col)\n",
    "    \n",
    "       if(DEBUG == 1){\n",
    "         cat(\"annotation_col_1\\n\")\n",
    "         cat(str(annotation_col))\n",
    "         cat(\"\\n\")\n",
    "       }\n",
    "\n",
    " annotation_col$Genotype<-factor(annotation_col$Genotype,\n",
    "                                       levels=c('wt','rs62237617'),\n",
    "                                       ordered=T)\n",
    "\n",
    "annotation_col$Batch<-factor(annotation_col$Batch,\n",
    "                                       levels=c('wt_1','wt_2','wt_3',\n",
    "                                               'rs62237617_1','rs62237617_2','rs62237617_3'),\n",
    "                                       ordered=T)\n",
    "\n",
    "      if(DEBUG == 1){\n",
    "         cat(\"annotation_col_2\\n\")\n",
    "         cat(str(annotation_col))\n",
    "         cat(\"\\n\")\n",
    "       }\n",
    "       \n",
    "      "
   ]
  },
  {
   "cell_type": "markdown",
   "id": "e017830e-2245-4bc2-841d-037115aa5873",
   "metadata": {},
   "source": [
    "## ann colors"
   ]
  },
  {
   "cell_type": "code",
   "execution_count": 47,
   "id": "4fb35be0-f983-4b83-9efc-1f6544a56c79",
   "metadata": {
    "execution": {
     "iopub.execute_input": "2025-10-06T13:07:10.952281Z",
     "iopub.status.busy": "2025-10-06T13:07:10.951294Z",
     "iopub.status.idle": "2025-10-06T13:07:10.971240Z",
     "shell.execute_reply": "2025-10-06T13:07:10.970124Z"
    }
   },
   "outputs": [
    {
     "data": {
      "text/html": [
       "<style>\n",
       ".dl-inline {width: auto; margin:0; padding: 0}\n",
       ".dl-inline>dt, .dl-inline>dd {float: none; width: auto; display: inline-block}\n",
       ".dl-inline>dt::after {content: \":\\0020\"; padding-right: .5ex}\n",
       ".dl-inline>dt:not(:first-of-type) {padding-left: .5ex}\n",
       "</style><dl class=dl-inline><dt>wt_1</dt><dd>'#74C476'</dd><dt>wt_2</dt><dd>'#238B45'</dd><dt>wt_3</dt><dd>'#00441B'</dd><dt>rs62237617_1</dt><dd>'#FB6A4A'</dd><dt>rs62237617_2</dt><dd>'#CB181D'</dd><dt>rs62237617_3</dt><dd>'#67000D'</dd></dl>\n"
      ],
      "text/latex": [
       "\\begin{description*}\n",
       "\\item[wt\\textbackslash{}\\_1] '\\#74C476'\n",
       "\\item[wt\\textbackslash{}\\_2] '\\#238B45'\n",
       "\\item[wt\\textbackslash{}\\_3] '\\#00441B'\n",
       "\\item[rs62237617\\textbackslash{}\\_1] '\\#FB6A4A'\n",
       "\\item[rs62237617\\textbackslash{}\\_2] '\\#CB181D'\n",
       "\\item[rs62237617\\textbackslash{}\\_3] '\\#67000D'\n",
       "\\end{description*}\n"
      ],
      "text/markdown": [
       "wt_1\n",
       ":   '#74C476'wt_2\n",
       ":   '#238B45'wt_3\n",
       ":   '#00441B'rs62237617_1\n",
       ":   '#FB6A4A'rs62237617_2\n",
       ":   '#CB181D'rs62237617_3\n",
       ":   '#67000D'\n",
       "\n"
      ],
      "text/plain": [
       "        wt_1         wt_2         wt_3 rs62237617_1 rs62237617_2 rs62237617_3 \n",
       "   \"#74C476\"    \"#238B45\"    \"#00441B\"    \"#FB6A4A\"    \"#CB181D\"    \"#67000D\" "
      ]
     },
     "metadata": {},
     "output_type": "display_data"
    },
    {
     "data": {
      "text/html": [
       "<style>\n",
       ".dl-inline {width: auto; margin:0; padding: 0}\n",
       ".dl-inline>dt, .dl-inline>dd {float: none; width: auto; display: inline-block}\n",
       ".dl-inline>dt::after {content: \":\\0020\"; padding-right: .5ex}\n",
       ".dl-inline>dt:not(:first-of-type) {padding-left: .5ex}\n",
       "</style><dl class=dl-inline><dt>wt</dt><dd>'#74C476'</dd><dt>rs62237617</dt><dd>'#FB6A4A'</dd></dl>\n"
      ],
      "text/latex": [
       "\\begin{description*}\n",
       "\\item[wt] '\\#74C476'\n",
       "\\item[rs62237617] '\\#FB6A4A'\n",
       "\\end{description*}\n"
      ],
      "text/markdown": [
       "wt\n",
       ":   '#74C476'rs62237617\n",
       ":   '#FB6A4A'\n",
       "\n"
      ],
      "text/plain": [
       "        wt rs62237617 \n",
       " \"#74C476\"  \"#FB6A4A\" "
      ]
     },
     "metadata": {},
     "output_type": "display_data"
    }
   ],
   "source": [
    "vector_colors_Batch<- c(brewer.pal(9, \"Greens\")[c(5,7,9)],                                                 \n",
    "                                                  brewer.pal(9, \"Reds\")[c(5,7,9)])\n",
    "\n",
    "        names(vector_colors_Batch)<-levels(annotation_col$Batch)\n",
    "\n",
    "vector_colors_Batch\n",
    "        \n",
    "        vector_colors_Genotype<-c(brewer.pal(9, \"Greens\")[c(5)],                                 \n",
    "                                    brewer.pal(9, \"Reds\")[c(5)])\n",
    "        \n",
    "        names(vector_colors_Genotype)<-levels(annotation_col$Genotype)\n",
    "\n",
    "vector_colors_Genotype"
   ]
  },
  {
   "cell_type": "code",
   "execution_count": 48,
   "id": "29837238-9fa6-4e6d-a0b6-f97fed3ff85b",
   "metadata": {
    "execution": {
     "iopub.execute_input": "2025-10-06T13:07:11.524700Z",
     "iopub.status.busy": "2025-10-06T13:07:11.523736Z",
     "iopub.status.idle": "2025-10-06T13:07:11.540446Z",
     "shell.execute_reply": "2025-10-06T13:07:11.539425Z"
    }
   },
   "outputs": [
    {
     "name": "stdout",
     "output_type": "stream",
     "text": [
      "ann_colors_0\n",
      "List of 2\n",
      " $ Batch   : Named chr [1:6] \"#74C476\" \"#238B45\" \"#00441B\" \"#FB6A4A\" ...\n",
      "  ..- attr(*, \"names\")= chr [1:6] \"wt_1\" \"wt_2\" \"wt_3\" \"rs62237617_1\" ...\n",
      " $ Genotype: Named chr [1:2] \"#74C476\" \"#FB6A4A\"\n",
      "  ..- attr(*, \"names\")= chr [1:2] \"wt\" \"rs62237617\"\n",
      "\n"
     ]
    }
   ],
   "source": [
    "ann_colors <- list( Batch = vector_colors_Batch,\n",
    "                           Genotype = vector_colors_Genotype)\n",
    "      \n",
    "       \n",
    "       if(DEBUG == 1){\n",
    "         cat(\"ann_colors_0\\n\")\n",
    "         cat(str(ann_colors))\n",
    "         cat(\"\\n\")\n",
    "       }"
   ]
  },
  {
   "cell_type": "markdown",
   "id": "b93dff0a-9e90-44d9-8681-f42b11be46fc",
   "metadata": {},
   "source": [
    "## Actual heatmap"
   ]
  },
  {
   "cell_type": "code",
   "execution_count": 49,
   "id": "3b67d416-42b9-47ad-ab4d-6db4a20bea0f",
   "metadata": {
    "execution": {
     "iopub.execute_input": "2025-10-06T13:07:12.253788Z",
     "iopub.status.busy": "2025-10-06T13:07:12.252891Z",
     "iopub.status.idle": "2025-10-06T13:07:12.431543Z",
     "shell.execute_reply": "2025-10-06T13:07:12.430437Z"
    }
   },
   "outputs": [
    {
     "ename": "ERROR",
     "evalue": "Error in value[[3L]](cond): no active device and default getOption(\"device\") is invalid\n",
     "output_type": "error",
     "traceback": [
      "Error in value[[3L]](cond): no active device and default getOption(\"device\") is invalid\nTraceback:\n"
     ]
    },
    {
     "data": {
      "text/plain": [
       "plot without title"
      ]
     },
     "metadata": {
      "image/png": {
       "height": 420,
       "width": 420
      }
     },
     "output_type": "display_data"
    }
   ],
   "source": [
    "heatmap<-pheatmap(miRNA_EXP_matrix, display_numbers = FALSE,\n",
    "                             show_colnames=FALSE,\n",
    "                             angle_col = \"0\",\n",
    "                             clustering_method=\"ward.D2\",\n",
    "                             fontsize_row = 8, \n",
    "                             fontsize_col = 8,\n",
    "                             breaks=seq(-2,2,length.out=101),\n",
    "                             color=colorRampPalette(c(\"blue\",\"white\",\"red\"))(100),\n",
    "                             scale=\"row\",\n",
    "                             cluster_cols=TRUE,\n",
    "                             border_color='black',\n",
    "                             treeheight_row=70, treeheight_col=70, cutree_cols=3,\n",
    "                             annotation_col = annotation_col,\n",
    "                             annotation_colors = ann_colors)\n",
    "\n"
   ]
  },
  {
   "cell_type": "code",
   "execution_count": 50,
   "id": "ed9051e0-5dc4-4b53-9c9e-58c67dfbeedd",
   "metadata": {
    "execution": {
     "iopub.execute_input": "2025-10-06T13:07:13.049587Z",
     "iopub.status.busy": "2025-10-06T13:07:13.048629Z",
     "iopub.status.idle": "2025-10-06T13:07:13.159162Z",
     "shell.execute_reply": "2025-10-06T13:07:13.158087Z"
    }
   },
   "outputs": [
    {
     "name": "stderr",
     "output_type": "stream",
     "text": [
      "\u001b[1m\u001b[22mSaving 7 x 7 in image\n"
     ]
    }
   ],
   "source": [
    "setwd(path_graphs)\n",
    "         \n",
    "svgname<-paste(\"Heatmap_miRNAs\",\".svg\",sep='')\n",
    "\n",
    "ggsave(svgname,plot=heatmap, device ='svg')"
   ]
  },
  {
   "cell_type": "markdown",
   "id": "8574fa38-1bf2-4b68-af84-2cdfd6891689",
   "metadata": {},
   "source": [
    "# Volcano plot"
   ]
  },
  {
   "cell_type": "code",
   "execution_count": 51,
   "id": "e6890f90-6224-44b5-b414-655e2ea37a50",
   "metadata": {
    "execution": {
     "iopub.execute_input": "2025-10-06T13:13:31.268784Z",
     "iopub.status.busy": "2025-10-06T13:13:31.267759Z",
     "iopub.status.idle": "2025-10-06T13:13:31.287554Z",
     "shell.execute_reply": "2025-10-06T13:13:31.286431Z"
    }
   },
   "outputs": [
    {
     "name": "stdout",
     "output_type": "stream",
     "text": [
      "DE_results_1\n",
      "'data.frame':\t1192 obs. of  9 variables:\n",
      " $ miRNA         : chr  \"hsa.let.7a.5p\" \"hsa.let.7a.2.3p\" \"hsa.let.7b.5p\" \"hsa.let.7b.3p\" ...\n",
      " $ baseMean      : num  15.27 2.54 3.81 2.7 58.22 ...\n",
      " $ log2FoldChange: num  1.61e-06 1.91e-07 1.34e-06 1.12e-06 -1.30e-06 ...\n",
      " $ lfcSE         : num  0.00144 0.00144 0.00144 0.00144 0.00144 ...\n",
      " $ pvalue        : num  0.2882 0.7964 0.1077 0.0794 0.6092 ...\n",
      " $ padj          : num  0.999 0.999 0.999 0.999 0.999 ...\n",
      " $ contrast      : chr  \"condition_rs62237617_vs_wt\" \"condition_rs62237617_vs_wt\" \"condition_rs62237617_vs_wt\" \"condition_rs62237617_vs_wt\" ...\n",
      " $ minuslog10padj: num  0.000395 0.000395 0.000395 0.000395 0.000395 ...\n",
      " $ abslogfc      : num  1.61e-06 1.91e-07 1.34e-06 1.12e-06 1.30e-06 ...\n",
      "\n"
     ]
    }
   ],
   "source": [
    "cat(\"DE_results_1\\n\")\n",
    "str(DE_results)\n",
    "cat(\"\\n\")"
   ]
  },
  {
   "cell_type": "markdown",
   "id": "650b970f-2ebd-48cb-9728-08fa3d533623",
   "metadata": {},
   "source": [
    "## Actual volcano plot"
   ]
  },
  {
   "cell_type": "code",
   "execution_count": 57,
   "id": "7c38419b-35a4-425e-a68c-c2dd2d1daedb",
   "metadata": {
    "execution": {
     "iopub.execute_input": "2025-10-06T13:17:23.635055Z",
     "iopub.status.busy": "2025-10-06T13:17:23.633996Z",
     "iopub.status.idle": "2025-10-06T13:17:23.866595Z",
     "shell.execute_reply": "2025-10-06T13:17:23.865449Z"
    }
   },
   "outputs": [
    {
     "ename": "ERROR",
     "evalue": "Error in value[[3L]](cond): no active device and default getOption(\"device\") is invalid\n",
     "output_type": "error",
     "traceback": [
      "Error in value[[3L]](cond): no active device and default getOption(\"device\") is invalid\nTraceback:\n"
     ]
    },
    {
     "data": {
      "text/plain": [
       "plot without title"
      ]
     },
     "metadata": {
      "image/png": {
       "height": 420,
       "width": 420
      }
     },
     "output_type": "display_data"
    }
   ],
   "source": [
    " volcano_plot<-ggplot(data=DE_results,\n",
    "                                aes(x=log2FoldChange,\n",
    "                                    y=minuslog10padj)) +\n",
    "             geom_vline(xintercept=c(-0.1,0.1), color=\"gray\", linetype='dashed',linewidth=1)+\n",
    "             geom_hline(yintercept=c(1.3), color=\"gray\", linetype='dashed',linewidth=1)+\n",
    "             geom_point(data=DE_results[which(DE_results$minuslog10padj < 1.3 & DE_results$abslogfc < 0.1),],\n",
    "                        color=\"gray\",fill=\"gray\", stroke=0.2, shape=21, size=2)+\n",
    "             geom_point(data=DE_results[which(DE_results$minuslog10padj >= 1.3 & DE_results$log2FoldChange <= -0.1),],\n",
    "                        color=\"black\",fill=\"blue\", stroke=0.2, shape=21, size=4)+\n",
    "             geom_point(data=DE_results[which(DE_results$minuslog10padj >= 1.3 & DE_results$log2FoldChange >= 0.1),],\n",
    "                        color=\"black\",fill=\"red\", stroke=0.2, shape=21, size=4)+\n",
    "             scale_y_continuous(name=\"-log10 pval\")+\n",
    "             theme_classic()+\n",
    "             theme(plot.title=element_text(color=\"black\", family=\"sans\", size=14),\n",
    "                   axis.title.y=element_text(color=\"black\", family=\"sans\", size=12),\n",
    "                   axis.title.x=element_text(color=\"black\", family=\"sans\", size=12),\n",
    "                   axis.text.y=element_text(color=\"black\", family=\"sans\", size=8),\n",
    "                   axis.text.x=element_text(color=\"black\", family=\"sans\", size=8))+\n",
    "             theme(legend.title = element_text(family=\"sans\"),\n",
    "                   legend.text = element_text(family=\"sans\"),\n",
    "                   legend.key.size = unit(0.35, 'cm'), #change legend key size\n",
    "                   legend.key.height = unit(0.35, 'cm'), #change legend key height\n",
    "                   legend.key.width = unit(0.35, 'cm'), #change legend key width\n",
    "                   legend.position=\"hidden\")+\n",
    "             ggeasy::easy_center_title()\n",
    "           \n",
    "           volcano_plot <-volcano_plot+\n",
    "             geom_text_repel(data=DE_results[which(DE_results$minuslog10padj >= 1.3 & DE_results$log2FoldChange <= -0.1),],\n",
    "                             aes(x=log2FoldChange,\n",
    "                                 y=minuslog10padj,\n",
    "                                 label=miRNA),\n",
    "                             family=\"sans\",\n",
    "                             fontface='italic',\n",
    "                             color='blue',\n",
    "                             segment.size  = 0.25,\n",
    "                             segment.color = \"blue\",\n",
    "                             force=25,\n",
    "                             size=4,\n",
    "                             box.padding = 1,\n",
    "                             max.overlaps = Inf)\n",
    "           \n",
    "           volcano_plot <-volcano_plot+\n",
    "             geom_text_repel(data=DE_results[which(DE_results$minuslog10padj >= 1.3 & DE_results$log2FoldChange >= 0.1),],\n",
    "                             aes(x=log2FoldChange,\n",
    "                                 y=minuslog10padj,\n",
    "                                 label=miRNA),\n",
    "                             family=\"sans\",\n",
    "                             fontface='italic',\n",
    "                             color='red',\n",
    "                             segment.size  = 0.25,\n",
    "                             segment.color = \"red\",\n",
    "                             force=25,\n",
    "                             size=4,\n",
    "                             box.padding = 1,\n",
    "                             max.overlaps = Inf)\n",
    "\n",
    "#              ggtitle(paste(paste(paste(contrast_sel, sep=''), paste(identity_sel, sep=''),sep='  '),paste(dim(SIG_genes)[1], \"DE genes\", sep=\" \"), sep=\"\\n\"))+\n",
    "\n",
    "\n",
    "volcano_plot"
   ]
  },
  {
   "cell_type": "code",
   "execution_count": 58,
   "id": "fd2e4ba4-f645-435b-9d94-8d2f602ff5d6",
   "metadata": {
    "execution": {
     "iopub.execute_input": "2025-10-06T13:17:43.356985Z",
     "iopub.status.busy": "2025-10-06T13:17:43.355998Z",
     "iopub.status.idle": "2025-10-06T13:17:43.532216Z",
     "shell.execute_reply": "2025-10-06T13:17:43.531103Z"
    }
   },
   "outputs": [
    {
     "name": "stderr",
     "output_type": "stream",
     "text": [
      "\u001b[1m\u001b[22mSaving 7 x 7 in image\n"
     ]
    }
   ],
   "source": [
    "setwd(path_graphs)\n",
    "         \n",
    "svgname<-paste(\"Volcano_miRNAs\",\".svg\",sep='')\n",
    "\n",
    "ggsave(svgname,plot=volcano_plot, device ='svg')"
   ]
  },
  {
   "cell_type": "code",
   "execution_count": null,
   "id": "f46ba825-d817-421b-8868-df4bb3ed38d5",
   "metadata": {},
   "outputs": [],
   "source": []
  },
  {
   "cell_type": "code",
   "execution_count": null,
   "id": "6809392b-78ce-4607-ab67-a56529acc6ff",
   "metadata": {},
   "outputs": [],
   "source": []
  },
  {
   "cell_type": "code",
   "execution_count": null,
   "id": "c5c123bd-4d17-45c2-a682-c081c66a569c",
   "metadata": {},
   "outputs": [],
   "source": []
  }
 ],
 "metadata": {
  "kernelspec": {
   "display_name": "R [conda env:multiome_NEW_downstream_analysis]",
   "language": "R",
   "name": "conda-env-multiome_NEW_downstream_analysis-r"
  },
  "language_info": {
   "codemirror_mode": "r",
   "file_extension": ".r",
   "mimetype": "text/x-r-source",
   "name": "R",
   "pygments_lexer": "r",
   "version": "4.4.3"
  }
 },
 "nbformat": 4,
 "nbformat_minor": 5
}
