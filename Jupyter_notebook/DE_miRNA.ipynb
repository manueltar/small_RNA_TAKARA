{
 "cells": [
  {
   "cell_type": "markdown",
   "id": "395140a7-58b2-4f18-b6ab-8005e7547b45",
   "metadata": {},
   "source": [
    "# Load packages and libraries"
   ]
  },
  {
   "cell_type": "code",
   "execution_count": 22,
   "id": "96c2472a-edfb-45a9-baab-94f8376dd151",
   "metadata": {
    "execution": {
     "iopub.execute_input": "2025-10-03T14:36:30.954020Z",
     "iopub.status.busy": "2025-10-03T14:36:30.952927Z",
     "iopub.status.idle": "2025-10-03T14:37:53.353659Z",
     "shell.execute_reply": "2025-10-03T14:37:53.352370Z"
    }
   },
   "outputs": [
    {
     "data": {
      "text/html": [
       "'/home/manuel.tardaguila/conda_envs/multiome_NEW_downstream_analysis/lib/R/library'"
      ],
      "text/latex": [
       "'/home/manuel.tardaguila/conda\\_envs/multiome\\_NEW\\_downstream\\_analysis/lib/R/library'"
      ],
      "text/markdown": [
       "'/home/manuel.tardaguila/conda_envs/multiome_NEW_downstream_analysis/lib/R/library'"
      ],
      "text/plain": [
       "[1] \"/home/manuel.tardaguila/conda_envs/multiome_NEW_downstream_analysis/lib/R/library\""
      ]
     },
     "metadata": {},
     "output_type": "display_data"
    },
    {
     "data": {
      "text/html": [
       "'/home/manuel.tardaguila/conda_envs/multiome_NEW_downstream_analysis/lib/R/library'"
      ],
      "text/latex": [
       "'/home/manuel.tardaguila/conda\\_envs/multiome\\_NEW\\_downstream\\_analysis/lib/R/library'"
      ],
      "text/markdown": [
       "'/home/manuel.tardaguila/conda_envs/multiome_NEW_downstream_analysis/lib/R/library'"
      ],
      "text/plain": [
       "[1] \"/home/manuel.tardaguila/conda_envs/multiome_NEW_downstream_analysis/lib/R/library\""
      ]
     },
     "metadata": {},
     "output_type": "display_data"
    }
   ],
   "source": [
    ".libPaths()\n",
    "assign(\".lib.loc\", \"/home/manuel.tardaguila/conda_envs/multiome_NEW_downstream_analysis/lib/R/library\", envir = environment(.libPaths))\n",
    ".libPaths()\n",
    "# sessionInfo()\n",
    "\n",
    "\n",
    "suppressMessages(library(Seurat))\n",
    "suppressMessages(library(Signac))\n",
    "suppressMessages(library(dplyr)) \n",
    "suppressMessages(library(ggplot2)) \n",
    "suppressMessages(library(Matrix)) \n",
    "suppressMessages(library(data.table)) \n",
    "suppressMessages(library(ggpubr)) \n",
    "suppressMessages(library(ggplot2))\n",
    "suppressMessages(library(pheatmap))\n",
    "suppressMessages(library(presto))\n",
    "suppressMessages(library(\"qlcMatrix\"))\n",
    "suppressMessages(library(\"cowplot\"))\n",
    "suppressMessages(library(\"RColorBrewer\"))\n",
    "suppressMessages(library(\"plyr\"))\n",
    "suppressMessages(library(\"forcats\"))\n",
    "suppressMessages(library('ggeasy'))\n",
    "suppressMessages(library('dplyr'))\n",
    "suppressMessages(library(\"svglite\"))\n",
    "suppressMessages(library(\"ape\"))\n",
    "suppressMessages(library(\"ggforce\"))\n",
    "suppressMessages(library(\"tidyr\"))\n",
    "suppressMessages(library(\"edgeR\"))\n",
    "suppressMessages(library(\"apeglm\"))\n",
    "suppressMessages(library(\"DESeq2\"))\n",
    "suppressMessages(library(\"tibble\")) \n",
    "suppressMessages(library(future))\n",
    "\n",
    "library(\"optparse\")\n",
    "suppressMessages(library(\"splitstackshape\")) \n",
    "suppressMessages(library(\"ggupset\"))\n"
   ]
  },
  {
   "cell_type": "markdown",
   "id": "03f0b4ca-1ce0-4f8a-b10b-9fadd1fa6e16",
   "metadata": {},
   "source": [
    "# Read in miRNA counts"
   ]
  },
  {
   "cell_type": "code",
   "execution_count": 4,
   "id": "6ced0c7a-6835-4d23-922f-6b33d369038b",
   "metadata": {
    "execution": {
     "iopub.execute_input": "2025-10-03T14:21:59.948747Z",
     "iopub.status.busy": "2025-10-03T14:21:59.947641Z",
     "iopub.status.idle": "2025-10-03T14:22:00.046638Z",
     "shell.execute_reply": "2025-10-03T14:22:00.045355Z"
    }
   },
   "outputs": [
    {
     "name": "stdout",
     "output_type": "stream",
     "text": [
      "miRNA_counts/n/n"
     ]
    }
   ],
   "source": [
    "setwd(\"/group/soranzo/manuel.tardaguila/small_rna/new_trimming/mirna_quant/edger_qc\")\n",
    "\n",
    "miRNA_counts <- read.csv(\"mature_counts.csv\")\n",
    "\n",
    "row.names(miRNA_counts)<-miRNA_counts$X\n",
    "cat(\"miRNA_counts/n\")\n",
    "#cat(str(miRNA_counts))\n",
    "cat(\"/n\")"
   ]
  },
  {
   "cell_type": "markdown",
   "id": "a7416546-4f7b-432f-8ad9-76ec66e3026d",
   "metadata": {},
   "source": [
    "## Transform into a DESeq2 count matrix"
   ]
  },
  {
   "cell_type": "code",
   "execution_count": 5,
   "id": "612a1d25-3e2c-4f47-a264-9b70f37d4c7c",
   "metadata": {
    "execution": {
     "iopub.execute_input": "2025-10-03T14:22:00.049402Z",
     "iopub.status.busy": "2025-10-03T14:22:00.048433Z",
     "iopub.status.idle": "2025-10-03T14:22:00.133292Z",
     "shell.execute_reply": "2025-10-03T14:22:00.132057Z"
    }
   },
   "outputs": [
    {
     "name": "stdout",
     "output_type": "stream",
     "text": [
      "miRNA_counts_transposed/n chr [1:2382, 1:6] \"wt_1\" \" 6\" \"0\" \"2\" \" 1\" \"2\" \"13\" \"0\" \" 54\" \"32\" \"1\" \"0\" ...\n",
      " - attr(*, \"dimnames\")=List of 2\n",
      "  ..$ : chr [1:2382] \"X\" \"hsa.let.7a.5p\" \"hsa.let.7a.3p\" \"hsa.let.7a.2.3p\" ...\n",
      "  ..$ : chr [1:6] \"wt_1\" \"rs62237617_1\" \"wt_2\" \"rs62237617_2\" ...\n",
      "/n"
     ]
    }
   ],
   "source": [
    "miRNA_counts_transposed <- t(miRNA_counts)\n",
    "\n",
    "cat(\"miRNA_counts_transposed/n\")\n",
    "cat(str(miRNA_counts_transposed))\n",
    "cat(\"/n\")"
   ]
  },
  {
   "cell_type": "code",
   "execution_count": 8,
   "id": "30747826-a3f0-4d3e-96a7-52339aedb109",
   "metadata": {
    "execution": {
     "iopub.execute_input": "2025-10-03T14:24:19.692841Z",
     "iopub.status.busy": "2025-10-03T14:24:19.691722Z",
     "iopub.status.idle": "2025-10-03T14:24:19.709604Z",
     "shell.execute_reply": "2025-10-03T14:24:19.708398Z"
    }
   },
   "outputs": [
    {
     "name": "stdout",
     "output_type": "stream",
     "text": [
      "miRNA_counts_transposed.matrix/n chr [1:2381, 1:6] \" 6\" \"0\" \"2\" \" 1\" \"2\" \"13\" \"0\" \" 54\" \"32\" \"1\" \"0\" \"2\" ...\n",
      " - attr(*, \"dimnames\")=List of 2\n",
      "  ..$ : chr [1:2381] \"hsa.let.7a.5p\" \"hsa.let.7a.3p\" \"hsa.let.7a.2.3p\" \"hsa.let.7b.5p\" ...\n",
      "  ..$ : chr [1:6] \"wt_1\" \"rs62237617_1\" \"wt_2\" \"rs62237617_2\" ...\n",
      "/n"
     ]
    }
   ],
   "source": [
    "miRNA_counts_transposed.matrix<-as.matrix(miRNA_counts_transposed[-which(row.names(miRNA_counts_transposed) == 'X'),])\n",
    "\n",
    "cat(\"miRNA_counts_transposed.matrix/n\")\n",
    "cat(str(miRNA_counts_transposed.matrix))\n",
    "cat(\"/n\")"
   ]
  },
  {
   "cell_type": "code",
   "execution_count": 36,
   "id": "d515dd62-ec7e-40a7-97f1-fae4bdc19cf9",
   "metadata": {
    "execution": {
     "iopub.execute_input": "2025-10-03T14:48:04.678472Z",
     "iopub.status.busy": "2025-10-03T14:48:04.677356Z",
     "iopub.status.idle": "2025-10-03T14:48:04.699321Z",
     "shell.execute_reply": "2025-10-03T14:48:04.698153Z"
    }
   },
   "outputs": [
    {
     "name": "stdout",
     "output_type": "stream",
     "text": [
      "count_matrix/n num [1:2381, 1:6] 6 0 2 1 2 13 0 54 32 1 ...\n",
      " - attr(*, \"dimnames\")=List of 2\n",
      "  ..$ : chr [1:2381] \"hsa.let.7a.5p\" \"hsa.let.7a.3p\" \"hsa.let.7a.2.3p\" \"hsa.let.7b.5p\" ...\n",
      "  ..$ : chr [1:6] \"wt_1\" \"rs62237617_1\" \"wt_2\" \"rs62237617_2\" ...\n",
      "/n"
     ]
    }
   ],
   "source": [
    "count_matrix<-apply(miRNA_counts_transposed.matrix, 2, as.numeric)\n",
    "\n",
    "row.names(count_matrix)<-row.names(miRNA_counts_transposed.matrix)\n",
    "\n",
    "cat(\"count_matrix/n\")\n",
    "cat(str(count_matrix))\n",
    "cat(\"/n\")"
   ]
  },
  {
   "cell_type": "code",
   "execution_count": 37,
   "id": "ec785d81-f7af-49be-b6a6-60160376bf98",
   "metadata": {
    "execution": {
     "iopub.execute_input": "2025-10-03T14:48:58.942824Z",
     "iopub.status.busy": "2025-10-03T14:48:58.941714Z",
     "iopub.status.idle": "2025-10-03T14:48:58.956379Z",
     "shell.execute_reply": "2025-10-03T14:48:58.955190Z"
    }
   },
   "outputs": [],
   "source": [
    "count_matrix <- round(count_matrix)\n",
    "storage.mode(count_matrix) <- \"integer\""
   ]
  },
  {
   "cell_type": "code",
   "execution_count": 38,
   "id": "82fb75d1-b6d2-4a57-942e-b2bcb2c0eb14",
   "metadata": {
    "execution": {
     "iopub.execute_input": "2025-10-03T14:48:58.959161Z",
     "iopub.status.busy": "2025-10-03T14:48:58.958187Z",
     "iopub.status.idle": "2025-10-03T14:48:58.972955Z",
     "shell.execute_reply": "2025-10-03T14:48:58.971826Z"
    }
   },
   "outputs": [
    {
     "name": "stdout",
     "output_type": "stream",
     "text": [
      "[1] \"matrix\" \"array\" \n",
      "[1] \"Minimum value in matrix: 0\"\n"
     ]
    }
   ],
   "source": [
    "# Check the data type\n",
    "print(class(count_matrix))\n",
    "\n",
    "# Check the minimum value\n",
    "min_count <- min(count_matrix)\n",
    "print(paste(\"Minimum value in matrix:\", min_count))\n",
    "\n",
    "# Check for negative values\n",
    "if (min_count < 0) {\n",
    "  # Identify how many negative values exist\n",
    "  num_negative <- sum(count_matrix < 0)\n",
    "  print(paste(\"Number of negative values:\", num_negative))\n",
    "\n",
    "  # Print a few examples of genes with negative counts (optional)\n",
    "  negative_rows <- head(which(rowSums(count_matrix < 0) > 0))\n",
    "  print(\"Rows containing negative values (first few):\")\n",
    "  print(rownames(count_matrix)[negative_rows])\n",
    "}"
   ]
  },
  {
   "cell_type": "markdown",
   "id": "78e89a68-6676-4d50-8b0b-7c5a9227e07c",
   "metadata": {},
   "source": [
    "## check presence  of mir5739"
   ]
  },
  {
   "cell_type": "code",
   "execution_count": 84,
   "id": "f7b80fd1-cf4d-4a1b-9471-1a3d7c4480a6",
   "metadata": {
    "execution": {
     "iopub.execute_input": "2025-10-03T15:18:17.908119Z",
     "iopub.status.busy": "2025-10-03T15:18:17.907096Z",
     "iopub.status.idle": "2025-10-03T15:18:17.921369Z",
     "shell.execute_reply": "2025-10-03T15:18:17.920237Z"
    }
   },
   "outputs": [
    {
     "data": {
      "text/html": [
       "'hsa.miR.5739'"
      ],
      "text/latex": [
       "'hsa.miR.5739'"
      ],
      "text/markdown": [
       "'hsa.miR.5739'"
      ],
      "text/plain": [
       "[1] \"hsa.miR.5739\""
      ]
     },
     "metadata": {},
     "output_type": "display_data"
    }
   ],
   "source": [
    "row.names(count_matrix)[grep(\"5739\", row.names(count_matrix))]"
   ]
  },
  {
   "cell_type": "code",
   "execution_count": 85,
   "id": "16adc091-2b8d-4f80-bfb0-857d5c1c7bb2",
   "metadata": {
    "execution": {
     "iopub.execute_input": "2025-10-03T15:18:49.669789Z",
     "iopub.status.busy": "2025-10-03T15:18:49.668774Z",
     "iopub.status.idle": "2025-10-03T15:18:49.680642Z",
     "shell.execute_reply": "2025-10-03T15:18:49.679523Z"
    }
   },
   "outputs": [
    {
     "data": {
      "text/html": [
       "<style>\n",
       ".dl-inline {width: auto; margin:0; padding: 0}\n",
       ".dl-inline>dt, .dl-inline>dd {float: none; width: auto; display: inline-block}\n",
       ".dl-inline>dt::after {content: \":\\0020\"; padding-right: .5ex}\n",
       ".dl-inline>dt:not(:first-of-type) {padding-left: .5ex}\n",
       "</style><dl class=dl-inline><dt>wt_1</dt><dd>11</dd><dt>rs62237617_1</dt><dd>15</dd><dt>wt_2</dt><dd>14</dd><dt>rs62237617_2</dt><dd>4</dd><dt>wt_3</dt><dd>5</dd><dt>rs62237617_3</dt><dd>6</dd></dl>\n"
      ],
      "text/latex": [
       "\\begin{description*}\n",
       "\\item[wt\\textbackslash{}\\_1] 11\n",
       "\\item[rs62237617\\textbackslash{}\\_1] 15\n",
       "\\item[wt\\textbackslash{}\\_2] 14\n",
       "\\item[rs62237617\\textbackslash{}\\_2] 4\n",
       "\\item[wt\\textbackslash{}\\_3] 5\n",
       "\\item[rs62237617\\textbackslash{}\\_3] 6\n",
       "\\end{description*}\n"
      ],
      "text/markdown": [
       "wt_1\n",
       ":   11rs62237617_1\n",
       ":   15wt_2\n",
       ":   14rs62237617_2\n",
       ":   4wt_3\n",
       ":   5rs62237617_3\n",
       ":   6\n",
       "\n"
      ],
      "text/plain": [
       "        wt_1 rs62237617_1         wt_2 rs62237617_2         wt_3 rs62237617_3 \n",
       "          11           15           14            4            5            6 "
      ]
     },
     "metadata": {},
     "output_type": "display_data"
    }
   ],
   "source": [
    "count_matrix[which(row.names(count_matrix) == 'hsa.miR.5739'),]"
   ]
  },
  {
   "cell_type": "markdown",
   "id": "77a52b94-276b-4661-834f-69812e38a763",
   "metadata": {},
   "source": [
    "# Create the colData object"
   ]
  },
  {
   "cell_type": "code",
   "execution_count": 15,
   "id": "8db92244-ebc3-47c8-be3f-66c24ee6448a",
   "metadata": {
    "execution": {
     "iopub.execute_input": "2025-10-03T14:29:52.078730Z",
     "iopub.status.busy": "2025-10-03T14:29:52.077754Z",
     "iopub.status.idle": "2025-10-03T14:29:52.091268Z",
     "shell.execute_reply": "2025-10-03T14:29:52.090089Z"
    }
   },
   "outputs": [
    {
     "name": "stdout",
     "output_type": "stream",
     "text": [
      "samples/n chr [1:6] \"wt_1\" \"rs62237617_1\" \"wt_2\" \"rs62237617_2\" \"wt_3\" ...\n"
     ]
    }
   ],
   "source": [
    "samples<-colnames(miRNA_counts_transposed.matrix)\n",
    "\n",
    "cat(\"samples/n\")\n",
    "cat(str(samples))\n"
   ]
  },
  {
   "cell_type": "code",
   "execution_count": 16,
   "id": "d95e7676-89b0-49ca-8309-67178d64270a",
   "metadata": {
    "execution": {
     "iopub.execute_input": "2025-10-03T14:29:52.093935Z",
     "iopub.status.busy": "2025-10-03T14:29:52.092986Z",
     "iopub.status.idle": "2025-10-03T14:29:52.106348Z",
     "shell.execute_reply": "2025-10-03T14:29:52.105194Z"
    }
   },
   "outputs": [
    {
     "name": "stdout",
     "output_type": "stream",
     "text": [
      "condition/n chr [1:6] \"wt\" \"rs62237617\" \"wt\" \"rs62237617\" \"wt\" \"rs62237617\"\n"
     ]
    }
   ],
   "source": [
    "condition<-gsub(\"_.+$\",\"\",samples)\n",
    "\n",
    "cat(\"condition/n\")\n",
    "cat(str(condition))\n"
   ]
  },
  {
   "cell_type": "code",
   "execution_count": 17,
   "id": "32b8c4c1-b2a2-42e9-93ad-dbbd0158c374",
   "metadata": {
    "execution": {
     "iopub.execute_input": "2025-10-03T14:29:54.719112Z",
     "iopub.status.busy": "2025-10-03T14:29:54.717979Z",
     "iopub.status.idle": "2025-10-03T14:29:54.732951Z",
     "shell.execute_reply": "2025-10-03T14:29:54.731724Z"
    }
   },
   "outputs": [
    {
     "name": "stdout",
     "output_type": "stream",
     "text": [
      "batch/n chr [1:6] \"1\" \"1\" \"2\" \"2\" \"3\" \"3\"\n"
     ]
    }
   ],
   "source": [
    "batch<-gsub(\"^[^_]+_\",\"\",samples)\n",
    "\n",
    "cat(\"batch/n\")\n",
    "cat(str(batch))\n"
   ]
  },
  {
   "cell_type": "code",
   "execution_count": 18,
   "id": "5c6daf34-1419-4bd4-918f-7140be42ff84",
   "metadata": {
    "execution": {
     "iopub.execute_input": "2025-10-03T14:31:35.356882Z",
     "iopub.status.busy": "2025-10-03T14:31:35.355783Z",
     "iopub.status.idle": "2025-10-03T14:31:35.373869Z",
     "shell.execute_reply": "2025-10-03T14:31:35.372672Z"
    }
   },
   "outputs": [
    {
     "name": "stdout",
     "output_type": "stream",
     "text": [
      "colData/n'data.frame':\t6 obs. of  3 variables:\n",
      " $ sample   : chr  \"wt_1\" \"rs62237617_1\" \"wt_2\" \"rs62237617_2\" ...\n",
      " $ condition: chr  \"wt\" \"rs62237617\" \"wt\" \"rs62237617\" ...\n",
      " $ batch    : chr  \"1\" \"1\" \"2\" \"2\" ...\n"
     ]
    }
   ],
   "source": [
    "colData<-as.data.frame(cbind(samples,condition,batch))\n",
    "\n",
    "colnames(colData)<-c('sample','condition','batch')\n",
    "\n",
    "cat(\"colData_0/n\")\n",
    "cat(str(colData))\n"
   ]
  },
  {
   "cell_type": "markdown",
   "id": "67eae292-5001-4098-8d94-1ef1f420c70c",
   "metadata": {},
   "source": [
    "## factorize condition"
   ]
  },
  {
   "cell_type": "code",
   "execution_count": 19,
   "id": "70ec8f23-0bfd-4cf4-961b-2d5a23b3a14d",
   "metadata": {
    "execution": {
     "iopub.execute_input": "2025-10-03T14:33:28.694877Z",
     "iopub.status.busy": "2025-10-03T14:33:28.693773Z",
     "iopub.status.idle": "2025-10-03T14:33:28.712204Z",
     "shell.execute_reply": "2025-10-03T14:33:28.711006Z"
    }
   },
   "outputs": [
    {
     "name": "stdout",
     "output_type": "stream",
     "text": [
      "colData_1/n'data.frame':\t6 obs. of  3 variables:\n",
      " $ sample   : chr  \"wt_1\" \"rs62237617_1\" \"wt_2\" \"rs62237617_2\" ...\n",
      " $ condition: Factor w/ 2 levels \"wt\",\"rs62237617\": 1 2 1 2 1 2\n",
      " $ batch    : chr  \"1\" \"1\" \"2\" \"2\" ...\n"
     ]
    }
   ],
   "source": [
    "colData$condition<-factor(colData$condition)\n",
    "colData$condition<-relevel(colData$condition, ref='wt') ### Nothing works with ordered factors\n",
    "\n",
    "colData$condition<-factor(colData$condition)\n",
    "colData$condition<-relevel(colData$condition, ref='wt') ### Nothing works with ordered factors\n",
    "\n",
    "\n",
    "cat(\"colData_1/n\")\n",
    "cat(str(colData))"
   ]
  },
  {
   "cell_type": "markdown",
   "id": "09d5aa09-5497-4238-b1e3-23bff497cbac",
   "metadata": {},
   "source": [
    "# DESeq2"
   ]
  },
  {
   "cell_type": "markdown",
   "id": "67a32699-7e3e-4ba0-8c76-1fc3187643c2",
   "metadata": {},
   "source": [
    "## Create the DESeqDataSetFromMatrix object"
   ]
  },
  {
   "cell_type": "code",
   "execution_count": 39,
   "id": "611e685e-5e67-44bc-92b6-f3446ba48c4e",
   "metadata": {
    "execution": {
     "iopub.execute_input": "2025-10-03T14:48:58.975672Z",
     "iopub.status.busy": "2025-10-03T14:48:58.974740Z",
     "iopub.status.idle": "2025-10-03T14:48:59.218203Z",
     "shell.execute_reply": "2025-10-03T14:48:59.216722Z"
    }
   },
   "outputs": [],
   "source": [
    "dds <- DESeqDataSetFromMatrix(countData = count_matrix,\n",
    "                              colData = colData,\n",
    "                              design = ~ condition)"
   ]
  },
  {
   "cell_type": "code",
   "execution_count": 41,
   "id": "4dda1507-ff5e-4cee-9195-57083af3329e",
   "metadata": {
    "execution": {
     "iopub.execute_input": "2025-10-03T14:52:21.972639Z",
     "iopub.status.busy": "2025-10-03T14:52:21.971323Z",
     "iopub.status.idle": "2025-10-03T14:52:21.984386Z",
     "shell.execute_reply": "2025-10-03T14:52:21.983070Z"
    }
   },
   "outputs": [
    {
     "name": "stdout",
     "output_type": "stream",
     "text": [
      "dds_0/n"
     ]
    }
   ],
   "source": [
    "cat(\"dds_0/n\")\n",
    "#cat(str(dds))"
   ]
  },
  {
   "cell_type": "markdown",
   "id": "f5e05b92-043b-4297-bde1-013ae25a18e9",
   "metadata": {},
   "source": [
    "## Filter out miRNAs with fewer than  total raw counts"
   ]
  },
  {
   "cell_type": "code",
   "execution_count": 50,
   "id": "99953c48-f299-42ff-8b22-a689b9c595c4",
   "metadata": {
    "execution": {
     "iopub.execute_input": "2025-10-03T14:57:05.030941Z",
     "iopub.status.busy": "2025-10-03T14:57:05.029833Z",
     "iopub.status.idle": "2025-10-03T14:57:05.050413Z",
     "shell.execute_reply": "2025-10-03T14:57:05.049263Z"
    }
   },
   "outputs": [
    {
     "name": "stdout",
     "output_type": "stream",
     "text": [
      " Named logi [1:1189] FALSE FALSE FALSE FALSE FALSE FALSE ...\n",
      " - attr(*, \"names\")= chr [1:1189] \"hsa.let.7a.3p\" \"hsa.let.7d.5p\" \"hsa.let.7e.3p\" \"hsa.let.7f.5p\" ...\n"
     ]
    }
   ],
   "source": [
    "keep <- rowSums(counts(dds)) >= 10\n",
    "\n",
    "filtered_out<-keep[which(keep == \"FALSE\")]\n",
    "\n",
    "cat(str(filtered_out))"
   ]
  },
  {
   "cell_type": "code",
   "execution_count": 51,
   "id": "765f7dd3-e72b-4d4e-bbd0-442a314210e9",
   "metadata": {
    "execution": {
     "iopub.execute_input": "2025-10-03T14:57:05.772976Z",
     "iopub.status.busy": "2025-10-03T14:57:05.772013Z",
     "iopub.status.idle": "2025-10-03T14:57:05.783207Z",
     "shell.execute_reply": "2025-10-03T14:57:05.782107Z"
    }
   },
   "outputs": [
    {
     "data": {
      "text/html": [],
      "text/latex": [],
      "text/markdown": [],
      "text/plain": [
       "integer(0)"
      ]
     },
     "metadata": {},
     "output_type": "display_data"
    }
   ],
   "source": [
    "grep(\"5739\",filtered_out)"
   ]
  },
  {
   "cell_type": "code",
   "execution_count": 52,
   "id": "58e7cd67-8510-4e73-8cf1-e171ba3de965",
   "metadata": {
    "execution": {
     "iopub.execute_input": "2025-10-03T14:57:08.199624Z",
     "iopub.status.busy": "2025-10-03T14:57:08.198636Z",
     "iopub.status.idle": "2025-10-03T14:57:08.320755Z",
     "shell.execute_reply": "2025-10-03T14:57:08.319529Z"
    }
   },
   "outputs": [],
   "source": [
    "dds <- dds[keep,]"
   ]
  },
  {
   "cell_type": "markdown",
   "id": "5ceccdfb-5a81-4aba-8964-1a6fe2935358",
   "metadata": {},
   "source": [
    "## estimateSizeFactors----------------------------------\n"
   ]
  },
  {
   "cell_type": "code",
   "execution_count": 55,
   "id": "39cf2a4b-9d8c-4a07-a385-2a7495eb9cb7",
   "metadata": {
    "execution": {
     "iopub.execute_input": "2025-10-03T14:59:23.491496Z",
     "iopub.status.busy": "2025-10-03T14:59:23.490442Z",
     "iopub.status.idle": "2025-10-03T14:59:23.620736Z",
     "shell.execute_reply": "2025-10-03T14:59:23.619527Z"
    }
   },
   "outputs": [],
   "source": [
    "dds<-estimateSizeFactors(dds)"
   ]
  },
  {
   "cell_type": "markdown",
   "id": "9b065f30-79f5-440f-aeff-763242101b4f",
   "metadata": {},
   "source": [
    "## Run the rest"
   ]
  },
  {
   "cell_type": "code",
   "execution_count": 56,
   "id": "ee85410f-083b-4ee1-92ac-c831e5bd795b",
   "metadata": {
    "execution": {
     "iopub.execute_input": "2025-10-03T14:59:24.709586Z",
     "iopub.status.busy": "2025-10-03T14:59:24.708569Z",
     "iopub.status.idle": "2025-10-03T14:59:25.829018Z",
     "shell.execute_reply": "2025-10-03T14:59:25.827754Z"
    }
   },
   "outputs": [
    {
     "name": "stderr",
     "output_type": "stream",
     "text": [
      "using pre-existing size factors\n",
      "\n",
      "estimating dispersions\n",
      "\n",
      "found already estimated dispersions, replacing these\n",
      "\n",
      "gene-wise dispersion estimates\n",
      "\n",
      "mean-dispersion relationship\n",
      "\n",
      "final dispersion estimates\n",
      "\n",
      "fitting model and testing\n",
      "\n"
     ]
    }
   ],
   "source": [
    "dds <- DESeq(dds)"
   ]
  },
  {
   "cell_type": "markdown",
   "id": "fdc052d7-a899-4f88-a85e-69c1bd081620",
   "metadata": {},
   "source": [
    "## Extract results"
   ]
  },
  {
   "cell_type": "code",
   "execution_count": 58,
   "id": "05bdaa41-0ca4-4c4d-8948-b19a8fe4507c",
   "metadata": {
    "execution": {
     "iopub.execute_input": "2025-10-03T15:01:17.042755Z",
     "iopub.status.busy": "2025-10-03T15:01:17.041680Z",
     "iopub.status.idle": "2025-10-03T15:01:17.284734Z",
     "shell.execute_reply": "2025-10-03T15:01:17.283551Z"
    }
   },
   "outputs": [
    {
     "data": {
      "text/html": [
       "'condition_rs62237617_vs_wt'"
      ],
      "text/latex": [
       "'condition\\_rs62237617\\_vs\\_wt'"
      ],
      "text/markdown": [
       "'condition_rs62237617_vs_wt'"
      ],
      "text/plain": [
       "[1] \"condition_rs62237617_vs_wt\""
      ]
     },
     "metadata": {},
     "output_type": "display_data"
    }
   ],
   "source": [
    "possible_contrasts<-colnames(dds@modelMatrix)[-1] # -1 because 1 is the Intercept term\n",
    "\n",
    "possible_contrasts"
   ]
  },
  {
   "cell_type": "code",
   "execution_count": 57,
   "id": "941f1c44-0b8d-4eb3-993d-4ed0f9be9cc6",
   "metadata": {
    "execution": {
     "iopub.execute_input": "2025-10-03T15:00:07.358423Z",
     "iopub.status.busy": "2025-10-03T15:00:07.357360Z",
     "iopub.status.idle": "2025-10-03T15:00:07.697700Z",
     "shell.execute_reply": "2025-10-03T15:00:07.696562Z"
    }
   },
   "outputs": [
    {
     "data": {
      "text/html": [
       "<style>\n",
       ".list-inline {list-style: none; margin:0; padding: 0}\n",
       ".list-inline>li {display: inline-block}\n",
       ".list-inline>li:not(:last-child)::after {content: \"\\00b7\"; padding: 0 .5ex}\n",
       "</style>\n",
       "<ol class=list-inline><li>'Intercept'</li><li>'condition_rs62237617_vs_wt'</li></ol>\n"
      ],
      "text/latex": [
       "\\begin{enumerate*}\n",
       "\\item 'Intercept'\n",
       "\\item 'condition\\_rs62237617\\_vs\\_wt'\n",
       "\\end{enumerate*}\n"
      ],
      "text/markdown": [
       "1. 'Intercept'\n",
       "2. 'condition_rs62237617_vs_wt'\n",
       "\n",
       "\n"
      ],
      "text/plain": [
       "[1] \"Intercept\"                  \"condition_rs62237617_vs_wt\""
      ]
     },
     "metadata": {},
     "output_type": "display_data"
    }
   ],
   "source": [
    "resultsNames(dds)"
   ]
  },
  {
   "cell_type": "code",
   "execution_count": 63,
   "id": "b23b5c20-14c0-4ab2-85a3-0e46af9d3d3d",
   "metadata": {
    "execution": {
     "iopub.execute_input": "2025-10-03T15:03:33.325725Z",
     "iopub.status.busy": "2025-10-03T15:03:33.324692Z",
     "iopub.status.idle": "2025-10-03T15:03:34.471883Z",
     "shell.execute_reply": "2025-10-03T15:03:34.470731Z"
    }
   },
   "outputs": [
    {
     "name": "stderr",
     "output_type": "stream",
     "text": [
      "using 'apeglm' for LFC shrinkage. If used in published research, please cite:\n",
      "    Zhu, A., Ibrahim, J.G., Love, M.I. (2018) Heavy-tailed prior distributions for\n",
      "    sequence count data: removing the noise and preserving large differences.\n",
      "    Bioinformatics. https://doi.org/10.1093/bioinformatics/bty895\n",
      "\n"
     ]
    },
    {
     "name": "stdout",
     "output_type": "stream",
     "text": [
      "tmp_results_0/n"
     ]
    }
   ],
   "source": [
    "tmp_results<-results(dds, test= \"Wald\", name=possible_contrasts[1], independentFiltering=FALSE)\n",
    "        \n",
    "#### expand LogFC #########################################\n",
    "\n",
    "tmp_results <- lfcShrink(dds, \n",
    "                         coef = possible_contrasts[1],\n",
    "                         res=tmp_results,\n",
    "                         type = \"apeglm\")\n",
    "\n",
    "\n",
    "cat(\"tmp_results_0/n\")\n",
    "#cat(str(tmp_results))"
   ]
  },
  {
   "cell_type": "code",
   "execution_count": 66,
   "id": "d71871f4-2430-4b24-982c-b7d1ac1c8335",
   "metadata": {
    "execution": {
     "iopub.execute_input": "2025-10-03T15:05:03.335654Z",
     "iopub.status.busy": "2025-10-03T15:05:03.334614Z",
     "iopub.status.idle": "2025-10-03T15:05:03.358475Z",
     "shell.execute_reply": "2025-10-03T15:05:03.357369Z"
    }
   },
   "outputs": [
    {
     "name": "stdout",
     "output_type": "stream",
     "text": [
      "tmp_tb_0/n'data.frame':\t1192 obs. of  7 variables:\n",
      " $ miRNA         : chr  \"hsa.let.7a.5p\" \"hsa.let.7a.2.3p\" \"hsa.let.7b.5p\" \"hsa.let.7b.3p\" ...\n",
      " $ baseMean      : num  15.27 2.54 3.81 2.7 58.22 ...\n",
      " $ log2FoldChange: num  1.61e-06 1.91e-07 1.34e-06 1.12e-06 -1.30e-06 ...\n",
      " $ lfcSE         : num  0.00144 0.00144 0.00144 0.00144 0.00144 ...\n",
      " $ pvalue        : num  0.2882 0.7964 0.1077 0.0794 0.6092 ...\n",
      " $ padj          : num  0.999 0.999 0.999 0.999 0.999 ...\n",
      " $ contrast      : chr  \"condition_rs62237617_vs_wt\" \"condition_rs62237617_vs_wt\" \"condition_rs62237617_vs_wt\" \"condition_rs62237617_vs_wt\" ...\n"
     ]
    }
   ],
   "source": [
    " #### obtain data frame #########################################\n",
    "        \n",
    "tmp_tb <- as.data.frame(tmp_results %>%\n",
    "                          data.frame() %>%\n",
    "                          rownames_to_column(var = \"miRNA\") %>%\n",
    "                          as_tibble() %>%\n",
    "                          arrange(padj), stringsAsFactors=F)\n",
    "\n",
    "tmp_tb$contrast<-possible_contrasts[1]\n",
    "\n",
    "cat(\"tmp_tb_0\")\n",
    "cat(str(tmp_tb))"
   ]
  },
  {
   "cell_type": "code",
   "execution_count": 67,
   "id": "6f6eca88-24e3-4877-a30b-8bab37b840e2",
   "metadata": {
    "execution": {
     "iopub.execute_input": "2025-10-03T15:06:18.909023Z",
     "iopub.status.busy": "2025-10-03T15:06:18.907999Z",
     "iopub.status.idle": "2025-10-03T15:06:18.930377Z",
     "shell.execute_reply": "2025-10-03T15:06:18.929268Z"
    }
   },
   "outputs": [
    {
     "name": "stdout",
     "output_type": "stream",
     "text": [
      "tmp_tb_0'data.frame':\t1192 obs. of  9 variables:\n",
      " $ miRNA         : chr  \"hsa.let.7a.5p\" \"hsa.let.7a.2.3p\" \"hsa.let.7b.5p\" \"hsa.let.7b.3p\" ...\n",
      " $ baseMean      : num  15.27 2.54 3.81 2.7 58.22 ...\n",
      " $ log2FoldChange: num  1.61e-06 1.91e-07 1.34e-06 1.12e-06 -1.30e-06 ...\n",
      " $ lfcSE         : num  0.00144 0.00144 0.00144 0.00144 0.00144 ...\n",
      " $ pvalue        : num  0.2882 0.7964 0.1077 0.0794 0.6092 ...\n",
      " $ padj          : num  0.999 0.999 0.999 0.999 0.999 ...\n",
      " $ contrast      : chr  \"condition_rs62237617_vs_wt\" \"condition_rs62237617_vs_wt\" \"condition_rs62237617_vs_wt\" \"condition_rs62237617_vs_wt\" ...\n",
      " $ minuslog10padj: num  0.000395 0.000395 0.000395 0.000395 0.000395 ...\n",
      " $ abslogfc      : num  1.61e-06 1.91e-07 1.34e-06 1.12e-06 1.30e-06 ...\n"
     ]
    }
   ],
   "source": [
    "tmp_tb$minuslog10padj <- -log10(tmp_tb$padj)\n",
    "      \n",
    "tmp_tb$abslogfc<-abs(tmp_tb$log2FoldChange)\n",
    "\n",
    "cat(\"tmp_tb_0\")\n",
    "cat(str(tmp_tb))"
   ]
  },
  {
   "cell_type": "code",
   "execution_count": 68,
   "id": "d3858cf5-a6a2-481f-a360-92e8f96ace6a",
   "metadata": {
    "execution": {
     "iopub.execute_input": "2025-10-03T15:06:51.098613Z",
     "iopub.status.busy": "2025-10-03T15:06:51.097556Z",
     "iopub.status.idle": "2025-10-03T15:06:51.107409Z",
     "shell.execute_reply": "2025-10-03T15:06:51.106295Z"
    }
   },
   "outputs": [],
   "source": [
    "DE_results<-tmp_tb"
   ]
  },
  {
   "cell_type": "markdown",
   "id": "f22126f5-c4a2-444b-80be-f3d404d5a106",
   "metadata": {},
   "source": [
    "## Extract normalized counts"
   ]
  },
  {
   "cell_type": "code",
   "execution_count": 74,
   "id": "c69bfa66-3239-4b6f-87e4-2a545960723f",
   "metadata": {
    "execution": {
     "iopub.execute_input": "2025-10-03T15:10:36.343856Z",
     "iopub.status.busy": "2025-10-03T15:10:36.342978Z",
     "iopub.status.idle": "2025-10-03T15:10:36.369268Z",
     "shell.execute_reply": "2025-10-03T15:10:36.368191Z"
    }
   },
   "outputs": [
    {
     "name": "stdout",
     "output_type": "stream",
     "text": [
      "nor_counts_0\n",
      " num [1:1192, 1:6] 6.28 2.09 1.05 2.09 13.6 ...\n",
      " - attr(*, \"dimnames\")=List of 2\n",
      "  ..$ : chr [1:1192] \"hsa.let.7a.5p\" \"hsa.let.7a.2.3p\" \"hsa.let.7b.5p\" \"hsa.let.7b.3p\" ...\n",
      "  ..$ : chr [1:6] \"wt_1\" \"rs62237617_1\" \"wt_2\" \"rs62237617_2\" ...\n",
      "\n"
     ]
    }
   ],
   "source": [
    "nor_counts<-as.matrix(counts(dds, normalized=TRUE))\n",
    "      \n",
    "row.names(nor_counts)<-row.names(nor_counts)\n",
    "\n",
    "cat(\"nor_counts_0\\n\")\n",
    "str(nor_counts)\n",
    "cat(\"\\n\")\n"
   ]
  },
  {
   "cell_type": "markdown",
   "id": "0018cbe9-9544-42da-b84e-c945cd4f515d",
   "metadata": {},
   "source": [
    "# SAVE results"
   ]
  },
  {
   "cell_type": "code",
   "execution_count": 76,
   "id": "6db181e1-28d1-4942-8cfb-d4f36065b0bd",
   "metadata": {
    "execution": {
     "iopub.execute_input": "2025-10-03T15:12:12.071436Z",
     "iopub.status.busy": "2025-10-03T15:12:12.070436Z",
     "iopub.status.idle": "2025-10-03T15:12:12.080063Z",
     "shell.execute_reply": "2025-10-03T15:12:12.078963Z"
    }
   },
   "outputs": [],
   "source": [
    "setwd(\"/group/soranzo/manuel.tardaguila/small_rna/new_trimming/\")"
   ]
  },
  {
   "cell_type": "code",
   "execution_count": 77,
   "id": "54f7a994-c50a-49fc-99ec-20f93e3dbda1",
   "metadata": {
    "execution": {
     "iopub.execute_input": "2025-10-03T15:12:12.430195Z",
     "iopub.status.busy": "2025-10-03T15:12:12.429262Z",
     "iopub.status.idle": "2025-10-03T15:12:12.469478Z",
     "shell.execute_reply": "2025-10-03T15:12:12.468367Z"
    }
   },
   "outputs": [],
   "source": [
    "write.table(DE_results, file=\"DE_results.tsv\", sep=\"\\t\", quote=F, row.names=F)\n",
    "\n",
    "write.table(nor_counts, file=\"nor_counts.tsv\", sep=\"\\t\", quote=F)\n"
   ]
  },
  {
   "cell_type": "markdown",
   "id": "a7b4a3c4-de10-4968-8ed5-8e163f812810",
   "metadata": {},
   "source": [
    "## Explore results"
   ]
  },
  {
   "cell_type": "code",
   "execution_count": 82,
   "id": "42e95100-e8d4-4d42-8a3b-9c54d0984673",
   "metadata": {
    "execution": {
     "iopub.execute_input": "2025-10-03T15:15:25.497082Z",
     "iopub.status.busy": "2025-10-03T15:15:25.496079Z",
     "iopub.status.idle": "2025-10-03T15:15:25.516898Z",
     "shell.execute_reply": "2025-10-03T15:15:25.515847Z"
    }
   },
   "outputs": [
    {
     "name": "stdout",
     "output_type": "stream",
     "text": [
      "test_0\n",
      "'data.frame':\t17 obs. of  9 variables:\n",
      " $ miRNA         : chr  \"hsa.miR.107\" \"hsa.miR.130b.5p\" \"hsa.miR.769.5p\" \"hsa.miR.891b\" ...\n",
      " $ baseMean      : num  6.27 5.23 26.46 1.86 208.14 ...\n",
      " $ log2FoldChange: num  -2.17e-06 -1.67e-06 1.72 9.53e-07 -4.95e-06 ...\n",
      " $ lfcSE         : num  0.00144 0.00144 0.96248 0.00144 0.00144 ...\n",
      " $ pvalue        : num  0.0289 0.035 0.0015 0.025 0.0203 ...\n",
      " $ padj          : num  0.999 0.999 0.999 0.999 0.999 ...\n",
      " $ contrast      : chr  \"condition_rs62237617_vs_wt\" \"condition_rs62237617_vs_wt\" \"condition_rs62237617_vs_wt\" \"condition_rs62237617_vs_wt\" ...\n",
      " $ minuslog10padj: num  0.000395 0.000395 0.000395 0.000395 0.000395 ...\n",
      " $ abslogfc      : num  2.17e-06 1.67e-06 1.72 9.53e-07 4.95e-06 ...\n",
      "\n"
     ]
    }
   ],
   "source": [
    "\n",
    "\n",
    "test<-DE_results[which(DE_results$pvalue <= 0.05),]\n",
    "\n",
    "cat(\"test_0\\n\")\n",
    "str(test)\n",
    "cat(\"\\n\")"
   ]
  },
  {
   "cell_type": "code",
   "execution_count": 83,
   "id": "7d85a8bb-4d5d-43f5-ad5f-eb6ca3cbdb9c",
   "metadata": {
    "execution": {
     "iopub.execute_input": "2025-10-03T15:15:49.695403Z",
     "iopub.status.busy": "2025-10-03T15:15:49.694390Z",
     "iopub.status.idle": "2025-10-03T15:15:49.712482Z",
     "shell.execute_reply": "2025-10-03T15:15:49.711381Z"
    }
   },
   "outputs": [
    {
     "name": "stdout",
     "output_type": "stream",
     "text": [
      "SIG_0\n",
      "'data.frame':\t0 obs. of  9 variables:\n",
      " $ miRNA         : chr \n",
      " $ baseMean      : num \n",
      " $ log2FoldChange: num \n",
      " $ lfcSE         : num \n",
      " $ pvalue        : num \n",
      " $ padj          : num \n",
      " $ contrast      : chr \n",
      " $ minuslog10padj: num \n",
      " $ abslogfc      : num \n",
      "\n"
     ]
    }
   ],
   "source": [
    "SIG<-DE_results[which(DE_results$minuslog10padj >= 1.3),]\n",
    "\n",
    "cat(\"SIG_0\\n\")\n",
    "str(SIG)\n",
    "cat(\"\\n\")"
   ]
  },
  {
   "cell_type": "code",
   "execution_count": null,
   "id": "befcdfc2-7b03-4235-8814-d819cf4f5e39",
   "metadata": {},
   "outputs": [],
   "source": []
  }
 ],
 "metadata": {
  "kernelspec": {
   "display_name": "R [conda env:multiome_NEW_downstream_analysis]",
   "language": "R",
   "name": "conda-env-multiome_NEW_downstream_analysis-r"
  },
  "language_info": {
   "codemirror_mode": "r",
   "file_extension": ".r",
   "mimetype": "text/x-r-source",
   "name": "R",
   "pygments_lexer": "r",
   "version": "4.4.3"
  }
 },
 "nbformat": 4,
 "nbformat_minor": 5
}
