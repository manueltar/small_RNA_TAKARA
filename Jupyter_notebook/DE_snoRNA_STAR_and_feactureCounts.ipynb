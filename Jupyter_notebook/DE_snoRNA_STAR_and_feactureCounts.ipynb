{
 "cells": [
  {
   "cell_type": "markdown",
   "id": "395140a7-58b2-4f18-b6ab-8005e7547b45",
   "metadata": {},
   "source": [
    "# Load packages and libraries"
   ]
  },
  {
   "cell_type": "code",
   "execution_count": 1,
   "id": "96c2472a-edfb-45a9-baab-94f8376dd151",
   "metadata": {
    "execution": {
     "iopub.execute_input": "2025-10-07T10:03:26.049210Z",
     "iopub.status.busy": "2025-10-07T10:03:26.046939Z",
     "iopub.status.idle": "2025-10-07T10:03:55.587191Z",
     "shell.execute_reply": "2025-10-07T10:03:55.585635Z"
    }
   },
   "outputs": [
    {
     "data": {
      "text/html": [
       "'/group/soranzo/conda_envs/multiome_NEW_downstream_analysis/lib/R/library'"
      ],
      "text/latex": [
       "'/group/soranzo/conda\\_envs/multiome\\_NEW\\_downstream\\_analysis/lib/R/library'"
      ],
      "text/markdown": [
       "'/group/soranzo/conda_envs/multiome_NEW_downstream_analysis/lib/R/library'"
      ],
      "text/plain": [
       "[1] \"/group/soranzo/conda_envs/multiome_NEW_downstream_analysis/lib/R/library\""
      ]
     },
     "metadata": {},
     "output_type": "display_data"
    },
    {
     "data": {
      "text/html": [
       "'/home/manuel.tardaguila/conda_envs/multiome_NEW_downstream_analysis/lib/R/library'"
      ],
      "text/latex": [
       "'/home/manuel.tardaguila/conda\\_envs/multiome\\_NEW\\_downstream\\_analysis/lib/R/library'"
      ],
      "text/markdown": [
       "'/home/manuel.tardaguila/conda_envs/multiome_NEW_downstream_analysis/lib/R/library'"
      ],
      "text/plain": [
       "[1] \"/home/manuel.tardaguila/conda_envs/multiome_NEW_downstream_analysis/lib/R/library\""
      ]
     },
     "metadata": {},
     "output_type": "display_data"
    }
   ],
   "source": [
    ".libPaths()\n",
    "assign(\".lib.loc\", \"/home/manuel.tardaguila/conda_envs/multiome_NEW_downstream_analysis/lib/R/library\", envir = environment(.libPaths))\n",
    ".libPaths()\n",
    "# sessionInfo()\n",
    "\n",
    "\n",
    "suppressMessages(library(Seurat))\n",
    "suppressMessages(library(Signac))\n",
    "suppressMessages(library(dplyr)) \n",
    "suppressMessages(library(ggplot2)) \n",
    "suppressMessages(library(Matrix)) \n",
    "suppressMessages(library(data.table)) \n",
    "suppressMessages(library(ggpubr)) \n",
    "suppressMessages(library(ggplot2))\n",
    "suppressMessages(library(pheatmap))\n",
    "suppressMessages(library(presto))\n",
    "suppressMessages(library(\"qlcMatrix\"))\n",
    "suppressMessages(library(\"cowplot\"))\n",
    "suppressMessages(library(\"RColorBrewer\"))\n",
    "suppressMessages(library(\"plyr\"))\n",
    "suppressMessages(library(\"forcats\"))\n",
    "suppressMessages(library('ggeasy'))\n",
    "suppressMessages(library('dplyr'))\n",
    "suppressMessages(library(\"svglite\"))\n",
    "suppressMessages(library(\"ape\"))\n",
    "suppressMessages(library(\"ggforce\"))\n",
    "suppressMessages(library(\"tidyr\"))\n",
    "suppressMessages(library(\"edgeR\"))\n",
    "suppressMessages(library(\"apeglm\"))\n",
    "suppressMessages(library(\"DESeq2\"))\n",
    "suppressMessages(library(\"tibble\")) \n",
    "suppressMessages(library(future))\n",
    "\n",
    "library(\"optparse\")\n",
    "suppressMessages(library(\"splitstackshape\")) \n",
    "suppressMessages(library(\"ggupset\"))\n"
   ]
  },
  {
   "cell_type": "markdown",
   "id": "03f0b4ca-1ce0-4f8a-b10b-9fadd1fa6e16",
   "metadata": {},
   "source": [
    "# Read in featureCounts files and transform to matrix structure"
   ]
  },
  {
   "cell_type": "code",
   "execution_count": 2,
   "id": "c5641426-6f6d-44e6-92bf-8bc66bddf5c1",
   "metadata": {
    "execution": {
     "iopub.execute_input": "2025-10-07T10:03:55.627852Z",
     "iopub.status.busy": "2025-10-07T10:03:55.601649Z",
     "iopub.status.idle": "2025-10-07T10:03:55.688540Z",
     "shell.execute_reply": "2025-10-07T10:03:55.687402Z"
    }
   },
   "outputs": [
    {
     "name": "stdout",
     "output_type": "stream",
     "text": [
      " chr [1:6] \"MCO_01334_raw_counts.txt\" \"MCO_01335_raw_counts.txt\" ...\n",
      "\n",
      " chr [1:6] \"MCO_01334\" \"MCO_01335\" \"MCO_01338\" \"MCO_01339\" \"MCO_01342\" ...\n",
      "\n",
      "'data.frame':\t6 obs. of  2 variables:\n",
      " $ file  : chr  \"/group/soranzo/manuel.tardaguila/small_rna/snoRNAs/MCO_01334_raw_counts.txt\" \"/group/soranzo/manuel.tardaguila/small_rna/snoRNAs/MCO_01335_raw_counts.txt\" \"/group/soranzo/manuel.tardaguila/small_rna/snoRNAs/MCO_01338_raw_counts.txt\" \"/group/soranzo/manuel.tardaguila/small_rna/snoRNAs/MCO_01339_raw_counts.txt\" ...\n",
      " $ sample: chr  \"MCO_01334\" \"MCO_01335\" \"MCO_01338\" \"MCO_01339\" ...\n",
      "\n"
     ]
    }
   ],
   "source": [
    "setwd(\"/group/soranzo/manuel.tardaguila/small_rna/snoRNAs/\")\n",
    "\n",
    "list_files<-dir()\n",
    "\n",
    "list_files_sel<-list_files[grep(\"_raw_counts.txt$\", list_files)]\n",
    "\n",
    "str(list_files_sel)\n",
    "cat(\"\\n\")\n",
    "\n",
    "sample_vector<-gsub(\"_raw_counts.txt$\",\"\",list_files_sel)\n",
    "\n",
    "str(sample_vector)\n",
    "cat(\"\\n\")\n",
    "\n",
    "df<-as.data.frame(cbind(list_files_sel,sample_vector))\n",
    "colnames(df)<-c('file','sample')\n",
    "\n",
    "df$file<-paste(\"/group/soranzo/manuel.tardaguila/small_rna/snoRNAs/\",df$file, sep='')\n",
    "\n",
    "\n",
    "str(df)\n",
    "cat(\"\\n\")\n",
    "\n",
    "\n"
   ]
  },
  {
   "cell_type": "code",
   "execution_count": 3,
   "id": "6ced0c7a-6835-4d23-922f-6b33d369038b",
   "metadata": {
    "execution": {
     "iopub.execute_input": "2025-10-07T10:03:55.712148Z",
     "iopub.status.busy": "2025-10-07T10:03:55.711227Z",
     "iopub.status.idle": "2025-10-07T10:03:55.796502Z",
     "shell.execute_reply": "2025-10-07T10:03:55.795372Z"
    }
   },
   "outputs": [
    {
     "name": "stdout",
     "output_type": "stream",
     "text": [
      "-------------------------->\tMCO_01334\n",
      "-------------------------->\tMCO_01335\n",
      "-------------------------->\tMCO_01338\n",
      "-------------------------->\tMCO_01339\n",
      "-------------------------->\tMCO_01342\n",
      "-------------------------->\tMCO_01343\n"
     ]
    }
   ],
   "source": [
    "DEBUG<-0\n",
    "\n",
    "# Initialize a variable to store the merged count matrix (optional, but good practice)\n",
    "all_raw_counts <- NULL \n",
    "\n",
    "\n",
    "for(i in 1:dim(df)[1]){\n",
    "\n",
    "    sample_array_sel<-df$sample[i]\n",
    "\n",
    "    cat(\"-------------------------->\\t\")\n",
    "    cat(sprintf(as.character(sample_array_sel)))\n",
    "    cat(\"\\n\")\n",
    "\n",
    "    raw_counts_file<-df$file[i]\n",
    "\n",
    "    raw_counts_df<-read.table(file=raw_counts_file,sep=\"\\t\", skip=1, header=TRUE, stringsAsFactors = FALSE)\n",
    "    colnames(raw_counts_df)[7]<-sample_array_sel\n",
    "\n",
    "    if(DEBUG == 1){\n",
    "        \n",
    "        cat(\"raw_counts_df_0\\n\")\n",
    "        str(raw_counts_df)\n",
    "        cat(\"\\n\")\n",
    "    }\n",
    "\n",
    "    indx_sel<-which(colnames(raw_counts_df)%in%c('Geneid',sample_array_sel))\n",
    "\n",
    "\n",
    "    raw_counts_df_subset<-raw_counts_df[,indx_sel]\n",
    "\n",
    "    if(DEBUG == 1){\n",
    "        \n",
    "        cat(\"raw_counts_df_subset_0\\n\")\n",
    "        str(raw_counts_df_subset)\n",
    "        cat(\"\\n\")\n",
    "    }\n",
    "\n",
    "    # 3. Initialize or Merge the count matrix\n",
    "    if (is.null(all_raw_counts)) {\n",
    "        # If this is the first sample, initialize the matrix\n",
    "        all_raw_counts <- raw_counts_df_subset\n",
    "        } else {\n",
    "            # For subsequent samples, merge the new count column \n",
    "            # using 'Geneid' as the key to align the rows.\n",
    "            all_raw_counts <- merge(\n",
    "                x = all_raw_counts, \n",
    "                y = raw_counts_df_subset, \n",
    "                by.x = \"Geneid\", \n",
    "                by.y = \"Geneid\",\n",
    "                all = TRUE # Keeps all Gene IDs, even if a sample has a count of 0 for a gene.\n",
    "            )\n",
    "        }#if (is.null(all_raw_counts)\n",
    "\n",
    "    if(DEBUG == 1){\n",
    "        \n",
    "        cat(\"all_raw_counts_0\\n\")\n",
    "        str(all_raw_counts)\n",
    "        cat(\"\\n\")\n",
    "    }\n",
    "\n",
    "    \n",
    "}#i in 1:length(sample_array)\n"
   ]
  },
  {
   "cell_type": "code",
   "execution_count": 4,
   "id": "26f130ce-794a-4500-9dfd-2067e2652d5b",
   "metadata": {
    "execution": {
     "iopub.execute_input": "2025-10-07T10:03:55.807922Z",
     "iopub.status.busy": "2025-10-07T10:03:55.806997Z",
     "iopub.status.idle": "2025-10-07T10:03:55.824681Z",
     "shell.execute_reply": "2025-10-07T10:03:55.823560Z"
    }
   },
   "outputs": [
    {
     "name": "stdout",
     "output_type": "stream",
     "text": [
      "all_raw_counts_0\n",
      "'data.frame':\t792 obs. of  7 variables:\n",
      " $ Geneid   : chr  \"ENSG00000199196\" \"ENSG00000199231\" \"ENSG00000199282\" \"ENSG00000199321\" ...\n",
      " $ MCO_01334: int  0 0 0 0 0 0 0 0 0 0 ...\n",
      " $ MCO_01335: int  0 0 0 0 0 0 0 0 0 0 ...\n",
      " $ MCO_01338: int  0 0 0 0 0 0 0 0 0 0 ...\n",
      " $ MCO_01339: int  0 0 0 0 0 0 0 0 0 0 ...\n",
      " $ MCO_01342: int  0 0 0 0 0 0 0 0 0 0 ...\n",
      " $ MCO_01343: int  0 0 2 0 0 0 0 0 0 0 ...\n",
      "\n"
     ]
    }
   ],
   "source": [
    "cat(\"all_raw_counts_0\\n\")\n",
    "str(all_raw_counts)\n",
    "cat(\"\\n\")"
   ]
  },
  {
   "cell_type": "markdown",
   "id": "7d7e4e74-223a-4a96-b7d7-f0e7dc3e84e9",
   "metadata": {},
   "source": [
    "## Force all NAs 0"
   ]
  },
  {
   "cell_type": "code",
   "execution_count": 5,
   "id": "8e8e1fcd-1f42-4567-a03a-83ed5f020b56",
   "metadata": {
    "execution": {
     "iopub.execute_input": "2025-10-07T10:03:55.835666Z",
     "iopub.status.busy": "2025-10-07T10:03:55.834704Z",
     "iopub.status.idle": "2025-10-07T10:03:55.844002Z",
     "shell.execute_reply": "2025-10-07T10:03:55.842925Z"
    }
   },
   "outputs": [],
   "source": [
    "all_raw_counts[is.na(all_raw_counts)] <- 0"
   ]
  },
  {
   "cell_type": "markdown",
   "id": "831a5b45-acad-4005-9d60-1743296b764d",
   "metadata": {},
   "source": [
    "## Convert into a DESeq2 count matrix"
   ]
  },
  {
   "cell_type": "code",
   "execution_count": 6,
   "id": "ff3e6860-e70d-4e79-aad6-6b678c3a28f4",
   "metadata": {
    "execution": {
     "iopub.execute_input": "2025-10-07T10:03:55.855036Z",
     "iopub.status.busy": "2025-10-07T10:03:55.854003Z",
     "iopub.status.idle": "2025-10-07T10:03:55.874046Z",
     "shell.execute_reply": "2025-10-07T10:03:55.872702Z"
    }
   },
   "outputs": [
    {
     "name": "stdout",
     "output_type": "stream",
     "text": [
      "all_raw_counts_matrix_0\n",
      " int [1:792, 1:6] 0 0 0 0 0 0 0 0 0 0 ...\n",
      " - attr(*, \"dimnames\")=List of 2\n",
      "  ..$ : chr [1:792] \"ENSG00000199196\" \"ENSG00000199231\" \"ENSG00000199282\" \"ENSG00000199321\" ...\n",
      "  ..$ : chr [1:6] \"MCO_01334\" \"MCO_01335\" \"MCO_01338\" \"MCO_01339\" ...\n",
      "\n"
     ]
    }
   ],
   "source": [
    "all_raw_counts_matrix<-as.matrix(all_raw_counts[,-which(colnames(all_raw_counts) == 'Geneid')])\n",
    "\n",
    "row.names(all_raw_counts_matrix)<-all_raw_counts$Geneid\n",
    "\n",
    "\n",
    "cat(\"all_raw_counts_matrix_0\\n\")\n",
    "str(all_raw_counts_matrix)\n",
    "cat(\"\\n\")"
   ]
  },
  {
   "cell_type": "markdown",
   "id": "f2c572fa-9cf3-4cc2-96aa-9eb4cb5c07b3",
   "metadata": {},
   "source": [
    "## Check some expression values"
   ]
  },
  {
   "cell_type": "code",
   "execution_count": 7,
   "id": "cb994359-398f-45dd-9dde-fc15bb18a8d3",
   "metadata": {
    "execution": {
     "iopub.execute_input": "2025-10-07T10:03:55.886877Z",
     "iopub.status.busy": "2025-10-07T10:03:55.885769Z",
     "iopub.status.idle": "2025-10-07T10:03:55.897745Z",
     "shell.execute_reply": "2025-10-07T10:03:55.896613Z"
    }
   },
   "outputs": [
    {
     "data": {
      "text/html": [
       "<style>\n",
       ".dl-inline {width: auto; margin:0; padding: 0}\n",
       ".dl-inline>dt, .dl-inline>dd {float: none; width: auto; display: inline-block}\n",
       ".dl-inline>dt::after {content: \":\\0020\"; padding-right: .5ex}\n",
       ".dl-inline>dt:not(:first-of-type) {padding-left: .5ex}\n",
       "</style><dl class=dl-inline><dt>MCO_01334</dt><dd>275</dd><dt>MCO_01335</dt><dd>260</dd><dt>MCO_01338</dt><dd>1297</dd><dt>MCO_01339</dt><dd>251</dd><dt>MCO_01342</dt><dd>681</dd><dt>MCO_01343</dt><dd>887</dd></dl>\n"
      ],
      "text/latex": [
       "\\begin{description*}\n",
       "\\item[MCO\\textbackslash{}\\_01334] 275\n",
       "\\item[MCO\\textbackslash{}\\_01335] 260\n",
       "\\item[MCO\\textbackslash{}\\_01338] 1297\n",
       "\\item[MCO\\textbackslash{}\\_01339] 251\n",
       "\\item[MCO\\textbackslash{}\\_01342] 681\n",
       "\\item[MCO\\textbackslash{}\\_01343] 887\n",
       "\\end{description*}\n"
      ],
      "text/markdown": [
       "MCO_01334\n",
       ":   275MCO_01335\n",
       ":   260MCO_01338\n",
       ":   1297MCO_01339\n",
       ":   251MCO_01342\n",
       ":   681MCO_01343\n",
       ":   887\n",
       "\n"
      ],
      "text/plain": [
       "MCO_01334 MCO_01335 MCO_01338 MCO_01339 MCO_01342 MCO_01343 \n",
       "      275       260      1297       251       681       887 "
      ]
     },
     "metadata": {},
     "output_type": "display_data"
    }
   ],
   "source": [
    "all_raw_counts_matrix[which(row.names(all_raw_counts_matrix) == 'SNORD42A'),]"
   ]
  },
  {
   "cell_type": "markdown",
   "id": "8fb97879-0144-4d7b-a3a3-2a73ab75a8a7",
   "metadata": {},
   "source": [
    "## Count matrix"
   ]
  },
  {
   "cell_type": "code",
   "execution_count": 8,
   "id": "883063d5-6ad6-4ce4-bc9b-405938e804c6",
   "metadata": {
    "execution": {
     "iopub.execute_input": "2025-10-07T10:03:55.909060Z",
     "iopub.status.busy": "2025-10-07T10:03:55.908118Z",
     "iopub.status.idle": "2025-10-07T10:03:55.924596Z",
     "shell.execute_reply": "2025-10-07T10:03:55.923443Z"
    }
   },
   "outputs": [
    {
     "name": "stdout",
     "output_type": "stream",
     "text": [
      "count_matrix_0\n",
      " int [1:792, 1:6] 0 0 0 0 0 0 0 0 0 0 ...\n",
      " - attr(*, \"dimnames\")=List of 2\n",
      "  ..$ : chr [1:792] \"ENSG00000199196\" \"ENSG00000199231\" \"ENSG00000199282\" \"ENSG00000199321\" ...\n",
      "  ..$ : chr [1:6] \"MCO_01334\" \"MCO_01335\" \"MCO_01338\" \"MCO_01339\" ...\n",
      "\n"
     ]
    }
   ],
   "source": [
    "count_matrix<-all_raw_counts_matrix\n",
    "\n",
    "cat(\"count_matrix_0\\n\")\n",
    "cat(str(count_matrix))\n",
    "cat(\"\\n\")"
   ]
  },
  {
   "cell_type": "markdown",
   "id": "bffc383e-80b6-4494-86b8-2e75128d14b3",
   "metadata": {},
   "source": [
    "### Sample to condition equivalence"
   ]
  },
  {
   "cell_type": "code",
   "execution_count": 9,
   "id": "d6e9a776-c678-440d-9478-f298b73bf56f",
   "metadata": {
    "execution": {
     "iopub.execute_input": "2025-10-07T10:03:55.937396Z",
     "iopub.status.busy": "2025-10-07T10:03:55.936438Z",
     "iopub.status.idle": "2025-10-07T10:03:55.957617Z",
     "shell.execute_reply": "2025-10-07T10:03:55.956492Z"
    }
   },
   "outputs": [
    {
     "name": "stdout",
     "output_type": "stream",
     "text": [
      "count_matrix_1\n",
      " int [1:792, 1:6] 0 0 0 0 0 0 0 0 0 0 ...\n",
      " - attr(*, \"dimnames\")=List of 2\n",
      "  ..$ : chr [1:792] \"ENSG00000199196\" \"ENSG00000199231\" \"ENSG00000199282\" \"ENSG00000199321\" ...\n",
      "  ..$ : chr [1:6] \"wt_1\" \"rs62237617_1\" \"wt_2\" \"rs62237617_2\" ...\n",
      "\n"
     ]
    }
   ],
   "source": [
    "colnames(count_matrix)[which(colnames(count_matrix) == 'MCO_01334')]<-'wt_1'\n",
    "colnames(count_matrix)[which(colnames(count_matrix) == 'MCO_01335')]<-'rs62237617_1'\n",
    "\n",
    "colnames(count_matrix)[which(colnames(count_matrix) == 'MCO_01338')]<-'wt_2'\n",
    "colnames(count_matrix)[which(colnames(count_matrix) == 'MCO_01339')]<-'rs62237617_2'\n",
    "\n",
    "colnames(count_matrix)[which(colnames(count_matrix) == 'MCO_01342')]<-'wt_3'\n",
    "colnames(count_matrix)[which(colnames(count_matrix) == 'MCO_01343')]<-'rs62237617_3'\n",
    "\n",
    "cat(\"count_matrix_1\\n\")\n",
    "cat(str(count_matrix))\n",
    "cat(\"\\n\")"
   ]
  },
  {
   "cell_type": "markdown",
   "id": "77a52b94-276b-4661-834f-69812e38a763",
   "metadata": {},
   "source": [
    "# Create the colData object"
   ]
  },
  {
   "cell_type": "code",
   "execution_count": 10,
   "id": "8db92244-ebc3-47c8-be3f-66c24ee6448a",
   "metadata": {
    "execution": {
     "iopub.execute_input": "2025-10-07T10:03:55.970526Z",
     "iopub.status.busy": "2025-10-07T10:03:55.969587Z",
     "iopub.status.idle": "2025-10-07T10:03:55.983052Z",
     "shell.execute_reply": "2025-10-07T10:03:55.981908Z"
    }
   },
   "outputs": [
    {
     "name": "stdout",
     "output_type": "stream",
     "text": [
      "samples/n chr [1:6] \"wt_1\" \"rs62237617_1\" \"wt_2\" \"rs62237617_2\" \"wt_3\" ...\n"
     ]
    }
   ],
   "source": [
    "samples<-colnames(count_matrix)\n",
    "\n",
    "cat(\"samples/n\")\n",
    "cat(str(samples))\n"
   ]
  },
  {
   "cell_type": "code",
   "execution_count": 11,
   "id": "d95e7676-89b0-49ca-8309-67178d64270a",
   "metadata": {
    "execution": {
     "iopub.execute_input": "2025-10-07T10:03:55.994407Z",
     "iopub.status.busy": "2025-10-07T10:03:55.993445Z",
     "iopub.status.idle": "2025-10-07T10:03:56.006840Z",
     "shell.execute_reply": "2025-10-07T10:03:56.005720Z"
    }
   },
   "outputs": [
    {
     "name": "stdout",
     "output_type": "stream",
     "text": [
      "condition/n chr [1:6] \"wt\" \"rs62237617\" \"wt\" \"rs62237617\" \"wt\" \"rs62237617\"\n"
     ]
    }
   ],
   "source": [
    "condition<-gsub(\"_.+$\",\"\",samples)\n",
    "\n",
    "cat(\"condition/n\")\n",
    "cat(str(condition))\n"
   ]
  },
  {
   "cell_type": "code",
   "execution_count": 12,
   "id": "32b8c4c1-b2a2-42e9-93ad-dbbd0158c374",
   "metadata": {
    "execution": {
     "iopub.execute_input": "2025-10-07T10:03:56.017093Z",
     "iopub.status.busy": "2025-10-07T10:03:56.016138Z",
     "iopub.status.idle": "2025-10-07T10:03:56.029492Z",
     "shell.execute_reply": "2025-10-07T10:03:56.028331Z"
    }
   },
   "outputs": [
    {
     "name": "stdout",
     "output_type": "stream",
     "text": [
      "batch/n chr [1:6] \"1\" \"1\" \"2\" \"2\" \"3\" \"3\"\n"
     ]
    }
   ],
   "source": [
    "batch<-gsub(\"^[^_]+_\",\"\",samples)\n",
    "\n",
    "cat(\"batch/n\")\n",
    "cat(str(batch))\n"
   ]
  },
  {
   "cell_type": "code",
   "execution_count": 13,
   "id": "5c6daf34-1419-4bd4-918f-7140be42ff84",
   "metadata": {
    "execution": {
     "iopub.execute_input": "2025-10-07T10:03:56.032194Z",
     "iopub.status.busy": "2025-10-07T10:03:56.031220Z",
     "iopub.status.idle": "2025-10-07T10:03:56.046560Z",
     "shell.execute_reply": "2025-10-07T10:03:56.045427Z"
    }
   },
   "outputs": [
    {
     "name": "stdout",
     "output_type": "stream",
     "text": [
      "colData_0/n'data.frame':\t6 obs. of  3 variables:\n",
      " $ sample   : chr  \"wt_1\" \"rs62237617_1\" \"wt_2\" \"rs62237617_2\" ...\n",
      " $ condition: chr  \"wt\" \"rs62237617\" \"wt\" \"rs62237617\" ...\n",
      " $ batch    : chr  \"1\" \"1\" \"2\" \"2\" ...\n"
     ]
    }
   ],
   "source": [
    "colData<-as.data.frame(cbind(samples,condition,batch))\n",
    "\n",
    "colnames(colData)<-c('sample','condition','batch')\n",
    "\n",
    "cat(\"colData_0/n\")\n",
    "cat(str(colData))\n"
   ]
  },
  {
   "cell_type": "markdown",
   "id": "67eae292-5001-4098-8d94-1ef1f420c70c",
   "metadata": {},
   "source": [
    "## factorize condition"
   ]
  },
  {
   "cell_type": "code",
   "execution_count": 14,
   "id": "70ec8f23-0bfd-4cf4-961b-2d5a23b3a14d",
   "metadata": {
    "execution": {
     "iopub.execute_input": "2025-10-07T10:03:56.049211Z",
     "iopub.status.busy": "2025-10-07T10:03:56.048268Z",
     "iopub.status.idle": "2025-10-07T10:03:56.063864Z",
     "shell.execute_reply": "2025-10-07T10:03:56.062750Z"
    }
   },
   "outputs": [
    {
     "name": "stdout",
     "output_type": "stream",
     "text": [
      "colData_1/n'data.frame':\t6 obs. of  3 variables:\n",
      " $ sample   : chr  \"wt_1\" \"rs62237617_1\" \"wt_2\" \"rs62237617_2\" ...\n",
      " $ condition: Factor w/ 2 levels \"wt\",\"rs62237617\": 1 2 1 2 1 2\n",
      " $ batch    : chr  \"1\" \"1\" \"2\" \"2\" ...\n"
     ]
    }
   ],
   "source": [
    "colData$condition<-factor(colData$condition)\n",
    "colData$condition<-relevel(colData$condition, ref='wt') ### Nothing works with ordered factors\n",
    "\n",
    "\n",
    "cat(\"colData_1/n\")\n",
    "cat(str(colData))"
   ]
  },
  {
   "cell_type": "markdown",
   "id": "09d5aa09-5497-4238-b1e3-23bff497cbac",
   "metadata": {},
   "source": [
    "# DESeq2"
   ]
  },
  {
   "cell_type": "markdown",
   "id": "67a32699-7e3e-4ba0-8c76-1fc3187643c2",
   "metadata": {},
   "source": [
    "## Create the DESeqDataSetFromMatrix object"
   ]
  },
  {
   "cell_type": "code",
   "execution_count": 15,
   "id": "611e685e-5e67-44bc-92b6-f3446ba48c4e",
   "metadata": {
    "execution": {
     "iopub.execute_input": "2025-10-07T10:03:56.066535Z",
     "iopub.status.busy": "2025-10-07T10:03:56.065584Z",
     "iopub.status.idle": "2025-10-07T10:03:56.373433Z",
     "shell.execute_reply": "2025-10-07T10:03:56.371958Z"
    }
   },
   "outputs": [],
   "source": [
    "dds <- DESeqDataSetFromMatrix(countData = count_matrix,\n",
    "                              colData = colData,\n",
    "                              design = ~ condition)"
   ]
  },
  {
   "cell_type": "code",
   "execution_count": 16,
   "id": "4dda1507-ff5e-4cee-9195-57083af3329e",
   "metadata": {
    "execution": {
     "iopub.execute_input": "2025-10-07T10:03:56.376825Z",
     "iopub.status.busy": "2025-10-07T10:03:56.375650Z",
     "iopub.status.idle": "2025-10-07T10:03:56.388618Z",
     "shell.execute_reply": "2025-10-07T10:03:56.387274Z"
    }
   },
   "outputs": [
    {
     "name": "stdout",
     "output_type": "stream",
     "text": [
      "dds_0/n"
     ]
    }
   ],
   "source": [
    "cat(\"dds_0/n\")\n",
    "#cat(str(dds))"
   ]
  },
  {
   "cell_type": "markdown",
   "id": "f5e05b92-043b-4297-bde1-013ae25a18e9",
   "metadata": {},
   "source": [
    "## Filter out snoRNAs with fewer than  total raw counts"
   ]
  },
  {
   "cell_type": "code",
   "execution_count": 17,
   "id": "99953c48-f299-42ff-8b22-a689b9c595c4",
   "metadata": {
    "execution": {
     "iopub.execute_input": "2025-10-07T10:03:56.391864Z",
     "iopub.status.busy": "2025-10-07T10:03:56.390726Z",
     "iopub.status.idle": "2025-10-07T10:03:56.412894Z",
     "shell.execute_reply": "2025-10-07T10:03:56.411562Z"
    }
   },
   "outputs": [
    {
     "name": "stdout",
     "output_type": "stream",
     "text": [
      " Named logi [1:542] FALSE FALSE FALSE FALSE FALSE FALSE ...\n",
      " - attr(*, \"names\")= chr [1:542] \"ENSG00000199196\" \"ENSG00000199231\" \"ENSG00000199282\" \"ENSG00000199321\" ...\n"
     ]
    }
   ],
   "source": [
    "keep <- rowSums(counts(dds)) >= 10\n",
    "\n",
    "filtered_out<-keep[which(keep == \"FALSE\")]\n",
    "\n",
    "cat(str(filtered_out))"
   ]
  },
  {
   "cell_type": "code",
   "execution_count": 18,
   "id": "765f7dd3-e72b-4d4e-bbd0-442a314210e9",
   "metadata": {
    "execution": {
     "iopub.execute_input": "2025-10-07T10:03:56.416164Z",
     "iopub.status.busy": "2025-10-07T10:03:56.415011Z",
     "iopub.status.idle": "2025-10-07T10:03:56.428127Z",
     "shell.execute_reply": "2025-10-07T10:03:56.426793Z"
    }
   },
   "outputs": [
    {
     "data": {
      "text/html": [
       "523"
      ],
      "text/latex": [
       "523"
      ],
      "text/markdown": [
       "523"
      ],
      "text/plain": [
       "[1] 523"
      ]
     },
     "metadata": {},
     "output_type": "display_data"
    }
   ],
   "source": [
    "grep(\"SNORD42\",names(filtered_out))"
   ]
  },
  {
   "cell_type": "code",
   "execution_count": 19,
   "id": "58e7cd67-8510-4e73-8cf1-e171ba3de965",
   "metadata": {
    "execution": {
     "iopub.execute_input": "2025-10-07T10:03:56.431391Z",
     "iopub.status.busy": "2025-10-07T10:03:56.430217Z",
     "iopub.status.idle": "2025-10-07T10:03:56.490977Z",
     "shell.execute_reply": "2025-10-07T10:03:56.489746Z"
    }
   },
   "outputs": [],
   "source": [
    "dds <- dds[keep,]"
   ]
  },
  {
   "cell_type": "markdown",
   "id": "5ceccdfb-5a81-4aba-8964-1a6fe2935358",
   "metadata": {},
   "source": [
    "## estimateSizeFactors----------------------------------\n"
   ]
  },
  {
   "cell_type": "code",
   "execution_count": 20,
   "id": "39cf2a4b-9d8c-4a07-a385-2a7495eb9cb7",
   "metadata": {
    "execution": {
     "iopub.execute_input": "2025-10-07T10:03:56.493699Z",
     "iopub.status.busy": "2025-10-07T10:03:56.492752Z",
     "iopub.status.idle": "2025-10-07T10:03:56.694097Z",
     "shell.execute_reply": "2025-10-07T10:03:56.692743Z"
    }
   },
   "outputs": [],
   "source": [
    "dds<-estimateSizeFactors(dds)"
   ]
  },
  {
   "cell_type": "markdown",
   "id": "9b065f30-79f5-440f-aeff-763242101b4f",
   "metadata": {},
   "source": [
    "## Run the rest"
   ]
  },
  {
   "cell_type": "code",
   "execution_count": 21,
   "id": "ee85410f-083b-4ee1-92ac-c831e5bd795b",
   "metadata": {
    "execution": {
     "iopub.execute_input": "2025-10-07T10:03:56.696970Z",
     "iopub.status.busy": "2025-10-07T10:03:56.695987Z",
     "iopub.status.idle": "2025-10-07T10:03:57.783353Z",
     "shell.execute_reply": "2025-10-07T10:03:57.782006Z"
    }
   },
   "outputs": [
    {
     "name": "stderr",
     "output_type": "stream",
     "text": [
      "using pre-existing size factors\n",
      "\n",
      "estimating dispersions\n",
      "\n",
      "gene-wise dispersion estimates\n",
      "\n",
      "mean-dispersion relationship\n",
      "\n",
      "final dispersion estimates\n",
      "\n",
      "fitting model and testing\n",
      "\n"
     ]
    }
   ],
   "source": [
    "dds <- DESeq(dds)"
   ]
  },
  {
   "cell_type": "markdown",
   "id": "fdc052d7-a899-4f88-a85e-69c1bd081620",
   "metadata": {},
   "source": [
    "## Extract results"
   ]
  },
  {
   "cell_type": "code",
   "execution_count": 22,
   "id": "05bdaa41-0ca4-4c4d-8948-b19a8fe4507c",
   "metadata": {
    "execution": {
     "iopub.execute_input": "2025-10-07T10:03:57.786233Z",
     "iopub.status.busy": "2025-10-07T10:03:57.785235Z",
     "iopub.status.idle": "2025-10-07T10:03:57.797999Z",
     "shell.execute_reply": "2025-10-07T10:03:57.796838Z"
    }
   },
   "outputs": [
    {
     "data": {
      "text/html": [
       "'condition_rs62237617_vs_wt'"
      ],
      "text/latex": [
       "'condition\\_rs62237617\\_vs\\_wt'"
      ],
      "text/markdown": [
       "'condition_rs62237617_vs_wt'"
      ],
      "text/plain": [
       "[1] \"condition_rs62237617_vs_wt\""
      ]
     },
     "metadata": {},
     "output_type": "display_data"
    }
   ],
   "source": [
    "possible_contrasts<-colnames(dds@modelMatrix)[-1] # -1 because 1 is the Intercept term\n",
    "\n",
    "possible_contrasts"
   ]
  },
  {
   "cell_type": "code",
   "execution_count": 23,
   "id": "941f1c44-0b8d-4eb3-993d-4ed0f9be9cc6",
   "metadata": {
    "execution": {
     "iopub.execute_input": "2025-10-07T10:03:57.800764Z",
     "iopub.status.busy": "2025-10-07T10:03:57.799784Z",
     "iopub.status.idle": "2025-10-07T10:03:57.824620Z",
     "shell.execute_reply": "2025-10-07T10:03:57.823452Z"
    }
   },
   "outputs": [
    {
     "data": {
      "text/html": [
       "<style>\n",
       ".list-inline {list-style: none; margin:0; padding: 0}\n",
       ".list-inline>li {display: inline-block}\n",
       ".list-inline>li:not(:last-child)::after {content: \"\\00b7\"; padding: 0 .5ex}\n",
       "</style>\n",
       "<ol class=list-inline><li>'Intercept'</li><li>'condition_rs62237617_vs_wt'</li></ol>\n"
      ],
      "text/latex": [
       "\\begin{enumerate*}\n",
       "\\item 'Intercept'\n",
       "\\item 'condition\\_rs62237617\\_vs\\_wt'\n",
       "\\end{enumerate*}\n"
      ],
      "text/markdown": [
       "1. 'Intercept'\n",
       "2. 'condition_rs62237617_vs_wt'\n",
       "\n",
       "\n"
      ],
      "text/plain": [
       "[1] \"Intercept\"                  \"condition_rs62237617_vs_wt\""
      ]
     },
     "metadata": {},
     "output_type": "display_data"
    }
   ],
   "source": [
    "resultsNames(dds)"
   ]
  },
  {
   "cell_type": "code",
   "execution_count": 24,
   "id": "b23b5c20-14c0-4ab2-85a3-0e46af9d3d3d",
   "metadata": {
    "execution": {
     "iopub.execute_input": "2025-10-07T10:03:57.827381Z",
     "iopub.status.busy": "2025-10-07T10:03:57.826401Z",
     "iopub.status.idle": "2025-10-07T10:03:58.372069Z",
     "shell.execute_reply": "2025-10-07T10:03:58.370830Z"
    }
   },
   "outputs": [
    {
     "name": "stderr",
     "output_type": "stream",
     "text": [
      "using 'apeglm' for LFC shrinkage. If used in published research, please cite:\n",
      "    Zhu, A., Ibrahim, J.G., Love, M.I. (2018) Heavy-tailed prior distributions for\n",
      "    sequence count data: removing the noise and preserving large differences.\n",
      "    Bioinformatics. https://doi.org/10.1093/bioinformatics/bty895\n",
      "\n"
     ]
    },
    {
     "name": "stdout",
     "output_type": "stream",
     "text": [
      "tmp_results_0/n"
     ]
    }
   ],
   "source": [
    "tmp_results<-results(dds, test= \"Wald\", name=possible_contrasts[1], independentFiltering=FALSE)\n",
    "        \n",
    "#### expand LogFC #########################################\n",
    "\n",
    "tmp_results <- lfcShrink(dds, \n",
    "                         coef = possible_contrasts[1],\n",
    "                         res=tmp_results,\n",
    "                         type = \"apeglm\")\n",
    "\n",
    "\n",
    "cat(\"tmp_results_0/n\")\n",
    "#cat(str(tmp_results))"
   ]
  },
  {
   "cell_type": "code",
   "execution_count": 25,
   "id": "d71871f4-2430-4b24-982c-b7d1ac1c8335",
   "metadata": {
    "execution": {
     "iopub.execute_input": "2025-10-07T10:03:58.374989Z",
     "iopub.status.busy": "2025-10-07T10:03:58.373962Z",
     "iopub.status.idle": "2025-10-07T10:03:58.424559Z",
     "shell.execute_reply": "2025-10-07T10:03:58.423386Z"
    }
   },
   "outputs": [
    {
     "name": "stdout",
     "output_type": "stream",
     "text": [
      "tmp_tb_0'data.frame':\t250 obs. of  7 variables:\n",
      " $ snoRNA        : chr  \"ENSG00000201882\" \"ENSG00000212626\" \"ENSG00000273885\" \"ENSG00000275146\" ...\n",
      " $ baseMean      : num  2.72 1.16 47.85 2.36 1.62 ...\n",
      " $ log2FoldChange: num  -4.82e-07 -3.19e-07 5.60e-06 7.28e-07 -2.14e-08 ...\n",
      " $ lfcSE         : num  0.00144 0.00144 0.00144 0.00144 0.00144 ...\n",
      " $ pvalue        : num  0.47762 0.51146 0.00501 0.26559 0.97 ...\n",
      " $ padj          : num  0.997 0.997 0.997 0.997 0.997 ...\n",
      " $ contrast      : chr  \"condition_rs62237617_vs_wt\" \"condition_rs62237617_vs_wt\" \"condition_rs62237617_vs_wt\" \"condition_rs62237617_vs_wt\" ...\n"
     ]
    }
   ],
   "source": [
    " #### obtain data frame #########################################\n",
    "        \n",
    "tmp_tb <- as.data.frame(tmp_results %>%\n",
    "                          data.frame() %>%\n",
    "                          rownames_to_column(var = \"snoRNA\") %>%\n",
    "                          as_tibble() %>%\n",
    "                          arrange(padj), stringsAsFactors=F)\n",
    "\n",
    "tmp_tb$contrast<-possible_contrasts[1]\n",
    "\n",
    "cat(\"tmp_tb_0\")\n",
    "cat(str(tmp_tb))"
   ]
  },
  {
   "cell_type": "code",
   "execution_count": 26,
   "id": "6f6eca88-24e3-4877-a30b-8bab37b840e2",
   "metadata": {
    "execution": {
     "iopub.execute_input": "2025-10-07T10:03:58.427299Z",
     "iopub.status.busy": "2025-10-07T10:03:58.426345Z",
     "iopub.status.idle": "2025-10-07T10:03:58.444904Z",
     "shell.execute_reply": "2025-10-07T10:03:58.443732Z"
    }
   },
   "outputs": [
    {
     "name": "stdout",
     "output_type": "stream",
     "text": [
      "tmp_tb_0'data.frame':\t250 obs. of  9 variables:\n",
      " $ snoRNA        : chr  \"ENSG00000201882\" \"ENSG00000212626\" \"ENSG00000273885\" \"ENSG00000275146\" ...\n",
      " $ baseMean      : num  2.72 1.16 47.85 2.36 1.62 ...\n",
      " $ log2FoldChange: num  -4.82e-07 -3.19e-07 5.60e-06 7.28e-07 -2.14e-08 ...\n",
      " $ lfcSE         : num  0.00144 0.00144 0.00144 0.00144 0.00144 ...\n",
      " $ pvalue        : num  0.47762 0.51146 0.00501 0.26559 0.97 ...\n",
      " $ padj          : num  0.997 0.997 0.997 0.997 0.997 ...\n",
      " $ contrast      : chr  \"condition_rs62237617_vs_wt\" \"condition_rs62237617_vs_wt\" \"condition_rs62237617_vs_wt\" \"condition_rs62237617_vs_wt\" ...\n",
      " $ minuslog10padj: num  0.00118 0.00118 0.00118 0.00118 0.00118 ...\n",
      " $ abslogfc      : num  4.82e-07 3.19e-07 5.60e-06 7.28e-07 2.14e-08 ...\n"
     ]
    }
   ],
   "source": [
    "tmp_tb$minuslog10padj <- -log10(tmp_tb$padj)\n",
    "      \n",
    "tmp_tb$abslogfc<-abs(tmp_tb$log2FoldChange)\n",
    "\n",
    "cat(\"tmp_tb_0\")\n",
    "cat(str(tmp_tb))"
   ]
  },
  {
   "cell_type": "code",
   "execution_count": 27,
   "id": "d3858cf5-a6a2-481f-a360-92e8f96ace6a",
   "metadata": {
    "execution": {
     "iopub.execute_input": "2025-10-07T10:03:58.447662Z",
     "iopub.status.busy": "2025-10-07T10:03:58.446694Z",
     "iopub.status.idle": "2025-10-07T10:03:58.455999Z",
     "shell.execute_reply": "2025-10-07T10:03:58.454876Z"
    }
   },
   "outputs": [],
   "source": [
    "DE_results<-tmp_tb"
   ]
  },
  {
   "cell_type": "markdown",
   "id": "f22126f5-c4a2-444b-80be-f3d404d5a106",
   "metadata": {},
   "source": [
    "## Extract normalized counts"
   ]
  },
  {
   "cell_type": "code",
   "execution_count": 28,
   "id": "c69bfa66-3239-4b6f-87e4-2a545960723f",
   "metadata": {
    "execution": {
     "iopub.execute_input": "2025-10-07T10:03:58.458719Z",
     "iopub.status.busy": "2025-10-07T10:03:58.457776Z",
     "iopub.status.idle": "2025-10-07T10:03:58.485749Z",
     "shell.execute_reply": "2025-10-07T10:03:58.484589Z"
    }
   },
   "outputs": [
    {
     "name": "stdout",
     "output_type": "stream",
     "text": [
      "nor_counts_0\n",
      " num [1:250, 1:6] 0 0 25.1 1 0 ...\n",
      " - attr(*, \"dimnames\")=List of 2\n",
      "  ..$ : chr [1:250] \"ENSG00000201882\" \"ENSG00000212626\" \"ENSG00000273885\" \"ENSG00000275146\" ...\n",
      "  ..$ : chr [1:6] \"wt_1\" \"rs62237617_1\" \"wt_2\" \"rs62237617_2\" ...\n",
      "\n"
     ]
    }
   ],
   "source": [
    "nor_counts<-as.matrix(counts(dds, normalized=TRUE))\n",
    "      \n",
    "row.names(nor_counts)<-row.names(nor_counts)\n",
    "\n",
    "cat(\"nor_counts_0\\n\")\n",
    "str(nor_counts)\n",
    "cat(\"\\n\")\n"
   ]
  },
  {
   "cell_type": "markdown",
   "id": "0018cbe9-9544-42da-b84e-c945cd4f515d",
   "metadata": {},
   "source": [
    "# SAVE results"
   ]
  },
  {
   "cell_type": "code",
   "execution_count": 29,
   "id": "6db181e1-28d1-4942-8cfb-d4f36065b0bd",
   "metadata": {
    "execution": {
     "iopub.execute_input": "2025-10-07T10:03:58.488456Z",
     "iopub.status.busy": "2025-10-07T10:03:58.487485Z",
     "iopub.status.idle": "2025-10-07T10:03:58.496787Z",
     "shell.execute_reply": "2025-10-07T10:03:58.495652Z"
    }
   },
   "outputs": [],
   "source": [
    "setwd(\"/group/soranzo/manuel.tardaguila/small_rna/snoRNAs/\")"
   ]
  },
  {
   "cell_type": "code",
   "execution_count": 30,
   "id": "54f7a994-c50a-49fc-99ec-20f93e3dbda1",
   "metadata": {
    "execution": {
     "iopub.execute_input": "2025-10-07T10:03:58.499452Z",
     "iopub.status.busy": "2025-10-07T10:03:58.498522Z",
     "iopub.status.idle": "2025-10-07T10:03:58.525400Z",
     "shell.execute_reply": "2025-10-07T10:03:58.524255Z"
    }
   },
   "outputs": [],
   "source": [
    "write.table(DE_results, file=\"DE_results.tsv\", sep=\"\\t\", quote=F, row.names=F)\n",
    "\n",
    "write.table(nor_counts, file=\"nor_counts.tsv\", sep=\"\\t\", quote=F)\n"
   ]
  },
  {
   "cell_type": "markdown",
   "id": "a7b4a3c4-de10-4968-8ed5-8e163f812810",
   "metadata": {},
   "source": [
    "## Explore results"
   ]
  },
  {
   "cell_type": "code",
   "execution_count": 31,
   "id": "42e95100-e8d4-4d42-8a3b-9c54d0984673",
   "metadata": {
    "execution": {
     "iopub.execute_input": "2025-10-07T10:03:58.528110Z",
     "iopub.status.busy": "2025-10-07T10:03:58.527146Z",
     "iopub.status.idle": "2025-10-07T10:03:58.546457Z",
     "shell.execute_reply": "2025-10-07T10:03:58.545330Z"
    }
   },
   "outputs": [
    {
     "name": "stdout",
     "output_type": "stream",
     "text": [
      "test_0\n",
      "'data.frame':\t3 obs. of  9 variables:\n",
      " $ snoRNA        : chr  \"ENSG00000273885\" \"SNORA74B\" \"SNORD82\"\n",
      " $ baseMean      : num  47.85 5.53 7.8\n",
      " $ log2FoldChange: num  5.60e-06 2.19e-06 2.10e-06\n",
      " $ lfcSE         : num  0.00144 0.00144 0.00144\n",
      " $ pvalue        : num  0.00501 0.02534 0.0401\n",
      " $ padj          : num  0.997 0.997 0.997\n",
      " $ contrast      : chr  \"condition_rs62237617_vs_wt\" \"condition_rs62237617_vs_wt\" \"condition_rs62237617_vs_wt\"\n",
      " $ minuslog10padj: num  0.00118 0.00118 0.00118\n",
      " $ abslogfc      : num  5.60e-06 2.19e-06 2.10e-06\n",
      "\n"
     ]
    }
   ],
   "source": [
    "\n",
    "\n",
    "test<-DE_results[which(DE_results$pvalue <= 0.05),]\n",
    "\n",
    "cat(\"test_0\\n\")\n",
    "str(test)\n",
    "cat(\"\\n\")"
   ]
  },
  {
   "cell_type": "code",
   "execution_count": 32,
   "id": "7d85a8bb-4d5d-43f5-ad5f-eb6ca3cbdb9c",
   "metadata": {
    "execution": {
     "iopub.execute_input": "2025-10-07T10:03:58.549112Z",
     "iopub.status.busy": "2025-10-07T10:03:58.548183Z",
     "iopub.status.idle": "2025-10-07T10:03:58.566988Z",
     "shell.execute_reply": "2025-10-07T10:03:58.565842Z"
    }
   },
   "outputs": [
    {
     "name": "stdout",
     "output_type": "stream",
     "text": [
      "SIG_0\n",
      "'data.frame':\t0 obs. of  9 variables:\n",
      " $ snoRNA        : chr \n",
      " $ baseMean      : num \n",
      " $ log2FoldChange: num \n",
      " $ lfcSE         : num \n",
      " $ pvalue        : num \n",
      " $ padj          : num \n",
      " $ contrast      : chr \n",
      " $ minuslog10padj: num \n",
      " $ abslogfc      : num \n",
      "\n"
     ]
    }
   ],
   "source": [
    "SIG<-DE_results[which(DE_results$minuslog10padj >= 1.3),]\n",
    "\n",
    "cat(\"SIG_0\\n\")\n",
    "str(SIG)\n",
    "cat(\"\\n\")"
   ]
  },
  {
   "cell_type": "markdown",
   "id": "6398e827-3263-4b62-a51c-e3bf8106db8c",
   "metadata": {},
   "source": [
    "# Heatmap"
   ]
  },
  {
   "cell_type": "code",
   "execution_count": 33,
   "id": "7d24bce4-82af-4b6c-ab10-478d473924d1",
   "metadata": {
    "execution": {
     "iopub.execute_input": "2025-10-07T10:03:58.569731Z",
     "iopub.status.busy": "2025-10-07T10:03:58.568742Z",
     "iopub.status.idle": "2025-10-07T10:03:58.985717Z",
     "shell.execute_reply": "2025-10-07T10:03:58.954305Z"
    }
   },
   "outputs": [
    {
     "data": {
      "text/html": [
       "<strong>null device:</strong> 1"
      ],
      "text/latex": [
       "\\textbf{null device:} 1"
      ],
      "text/markdown": [
       "**null device:** 1"
      ],
      "text/plain": [
       "null device \n",
       "          1 "
      ]
     },
     "metadata": {},
     "output_type": "display_data"
    },
    {
     "ename": "ERROR",
     "evalue": "Error in dev.set(dev): no active device and default getOption(\"device\") is invalid\n",
     "output_type": "error",
     "traceback": [
      "Error in dev.set(dev): no active device and default getOption(\"device\") is invalid\nTraceback:\n"
     ]
    }
   ],
   "source": [
    "dev.off()"
   ]
  },
  {
   "cell_type": "markdown",
   "id": "8c932613-0cf6-4cd8-9d7b-71389c8398bd",
   "metadata": {},
   "source": [
    "## Load libraries"
   ]
  },
  {
   "cell_type": "code",
   "execution_count": 34,
   "id": "bb5d1400-d6ca-4b81-9064-9c11c4a88ad1",
   "metadata": {
    "execution": {
     "iopub.execute_input": "2025-10-07T10:10:39.389167Z",
     "iopub.status.busy": "2025-10-07T10:10:39.388021Z",
     "iopub.status.idle": "2025-10-07T10:10:39.465829Z",
     "shell.execute_reply": "2025-10-07T10:10:39.464587Z"
    }
   },
   "outputs": [
    {
     "data": {
      "text/html": [
       "'/home/manuel.tardaguila/conda_envs/multiome_NEW_downstream_analysis/lib/R/library'"
      ],
      "text/latex": [
       "'/home/manuel.tardaguila/conda\\_envs/multiome\\_NEW\\_downstream\\_analysis/lib/R/library'"
      ],
      "text/markdown": [
       "'/home/manuel.tardaguila/conda_envs/multiome_NEW_downstream_analysis/lib/R/library'"
      ],
      "text/plain": [
       "[1] \"/home/manuel.tardaguila/conda_envs/multiome_NEW_downstream_analysis/lib/R/library\""
      ]
     },
     "metadata": {},
     "output_type": "display_data"
    },
    {
     "data": {
      "text/html": [
       "'/home/manuel.tardaguila/conda_envs/multiome_NEW_downstream_analysis/lib/R/library'"
      ],
      "text/latex": [
       "'/home/manuel.tardaguila/conda\\_envs/multiome\\_NEW\\_downstream\\_analysis/lib/R/library'"
      ],
      "text/markdown": [
       "'/home/manuel.tardaguila/conda_envs/multiome_NEW_downstream_analysis/lib/R/library'"
      ],
      "text/plain": [
       "[1] \"/home/manuel.tardaguila/conda_envs/multiome_NEW_downstream_analysis/lib/R/library\""
      ]
     },
     "metadata": {},
     "output_type": "display_data"
    }
   ],
   "source": [
    ".libPaths()\n",
    "assign(\".lib.loc\", \"/home/manuel.tardaguila/conda_envs/multiome_NEW_downstream_analysis/lib/R/library\", envir = environment(.libPaths))\n",
    ".libPaths()\n",
    "# # sessionInfo()\n",
    "\n",
    "\n",
    "# .libPaths()\n",
    "# .libPaths(new = c(\"/home/manuel.tardaguila/conda_envs/multiome_NEW_downstream_analysis/lib/R/library\"))\n",
    "# .libPaths()\n",
    "# sessionInfo()\n",
    "\n",
    "library(\"optparse\")\n",
    "suppressMessages(library(dplyr)) \n",
    "suppressMessages(library(ggplot2)) \n",
    "suppressMessages(library(Matrix)) \n",
    "suppressMessages(library(data.table)) \n",
    "suppressMessages(library(ggpubr)) \n",
    "suppressMessages(library(ggplot2))\n",
    "suppressMessages(library(pheatmap))\n",
    "suppressMessages(library(\"cowplot\"))\n",
    "suppressMessages(library(\"RColorBrewer\"))\n",
    "suppressMessages(library(\"plyr\"))\n",
    "suppressMessages(library(\"forcats\"))\n",
    "suppressMessages(library('ggeasy'))\n",
    "suppressMessages(library('dplyr'))\n",
    "suppressMessages(library(\"svglite\"))\n",
    "suppressMessages(library(\"ape\"))\n",
    "suppressMessages(library(\"ggforce\"))\n",
    "suppressMessages(library(\"tidyr\"))\n",
    "suppressMessages(library(\"tibble\")) \n",
    "suppressMessages(library(future))\n",
    "library(\"ggrepel\")\n",
    "\n"
   ]
  },
  {
   "cell_type": "markdown",
   "id": "108c439c-1080-4a36-9596-d92b46a82360",
   "metadata": {},
   "source": [
    "# Create graph path"
   ]
  },
  {
   "cell_type": "code",
   "execution_count": 35,
   "id": "d48a032c-4a87-431d-8e25-d994972c116a",
   "metadata": {
    "execution": {
     "iopub.execute_input": "2025-10-07T10:10:40.141062Z",
     "iopub.status.busy": "2025-10-07T10:10:40.140018Z",
     "iopub.status.idle": "2025-10-07T10:10:40.165387Z",
     "shell.execute_reply": "2025-10-07T10:10:40.164201Z"
    }
   },
   "outputs": [],
   "source": [
    "if(file.exists(\"/group/soranzo/manuel.tardaguila/small_rna/snoRNAs/DE_graphs\")){\n",
    "\n",
    "        path_graphs<-\"/group/soranzo/manuel.tardaguila/small_rna/snoRNAs/DE_graphs\"\n",
    "\n",
    "}else{\n",
    "\n",
    "    dir.create(\"/group/soranzo/manuel.tardaguila/small_rna/snoRNAs/DE_graphs\")\n",
    "    path_graphs<-\"/group/soranzo/manuel.tardaguila/small_rna/snoRNAs/DE_graphs\"\n",
    "}"
   ]
  },
  {
   "cell_type": "markdown",
   "id": "1dd67a75-a1ef-4058-a035-5b0fb3262a9f",
   "metadata": {},
   "source": [
    "## Read in data"
   ]
  },
  {
   "cell_type": "code",
   "execution_count": 36,
   "id": "7b02e13a-f8b2-4fd8-8090-71ee570a320e",
   "metadata": {
    "execution": {
     "iopub.execute_input": "2025-10-07T10:10:40.983836Z",
     "iopub.status.busy": "2025-10-07T10:10:40.982772Z",
     "iopub.status.idle": "2025-10-07T10:10:40.993012Z",
     "shell.execute_reply": "2025-10-07T10:10:40.991794Z"
    }
   },
   "outputs": [],
   "source": [
    "setwd(\"/group/soranzo/manuel.tardaguila/small_rna/snoRNAs/\")"
   ]
  },
  {
   "cell_type": "code",
   "execution_count": 37,
   "id": "0c61b837-3364-4c7b-be84-0db0190d1cba",
   "metadata": {
    "execution": {
     "iopub.execute_input": "2025-10-07T10:10:41.245185Z",
     "iopub.status.busy": "2025-10-07T10:10:41.244001Z",
     "iopub.status.idle": "2025-10-07T10:10:41.273664Z",
     "shell.execute_reply": "2025-10-07T10:10:41.272362Z"
    }
   },
   "outputs": [
    {
     "name": "stdout",
     "output_type": "stream",
     "text": [
      "DE_results\n",
      "'data.frame':\t250 obs. of  9 variables:\n",
      " $ snoRNA        : chr  \"ENSG00000201882\" \"ENSG00000212626\" \"ENSG00000273885\" \"ENSG00000275146\" ...\n",
      " $ baseMean      : num  2.72 1.16 47.85 2.36 1.62 ...\n",
      " $ log2FoldChange: num  -4.82e-07 -3.19e-07 5.60e-06 7.28e-07 -2.14e-08 ...\n",
      " $ lfcSE         : num  0.00144 0.00144 0.00144 0.00144 0.00144 ...\n",
      " $ pvalue        : num  0.47762 0.51146 0.00501 0.26559 0.97 ...\n",
      " $ padj          : num  0.997 0.997 0.997 0.997 0.997 ...\n",
      " $ contrast      : chr  \"condition_rs62237617_vs_wt\" \"condition_rs62237617_vs_wt\" \"condition_rs62237617_vs_wt\" \"condition_rs62237617_vs_wt\" ...\n",
      " $ minuslog10padj: num  0.00118 0.00118 0.00118 0.00118 0.00118 ...\n",
      " $ abslogfc      : num  4.82e-07 3.19e-07 5.60e-06 7.28e-07 2.14e-08 ...\n",
      "\n"
     ]
    }
   ],
   "source": [
    "DE_results<-read.table(file=\"DE_results.tsv\", sep=\"\\t\", header=T)\n",
    "\n",
    "cat(\"DE_results\\n\")\n",
    "str(DE_results)\n",
    "cat(\"\\n\")"
   ]
  },
  {
   "cell_type": "code",
   "execution_count": 38,
   "id": "3e5948c6-4a35-44e8-9f0a-f7ceccd3aaef",
   "metadata": {
    "execution": {
     "iopub.execute_input": "2025-10-07T10:10:41.861663Z",
     "iopub.status.busy": "2025-10-07T10:10:41.860598Z",
     "iopub.status.idle": "2025-10-07T10:10:41.886371Z",
     "shell.execute_reply": "2025-10-07T10:10:41.885074Z"
    }
   },
   "outputs": [
    {
     "name": "stdout",
     "output_type": "stream",
     "text": [
      "normalised_counts\n",
      " num [1:250, 1:6] 0 0 25.1 1 0 ...\n",
      " - attr(*, \"dimnames\")=List of 2\n",
      "  ..$ : chr [1:250] \"ENSG00000201882\" \"ENSG00000212626\" \"ENSG00000273885\" \"ENSG00000275146\" ...\n",
      "  ..$ : chr [1:6] \"wt_1\" \"rs62237617_1\" \"wt_2\" \"rs62237617_2\" ...\n",
      "\n"
     ]
    }
   ],
   "source": [
    "normalised_counts<-as.matrix(read.table(file=\"nor_counts.tsv\", sep=\"\\t\", header=T))\n",
    "\n",
    "cat(\"normalised_counts\\n\")\n",
    "str(normalised_counts)\n",
    "cat(\"\\n\")"
   ]
  },
  {
   "cell_type": "code",
   "execution_count": 39,
   "id": "46ac3998-78de-4cc6-a4f0-6273f0f20556",
   "metadata": {
    "execution": {
     "iopub.execute_input": "2025-10-07T10:10:42.144134Z",
     "iopub.status.busy": "2025-10-07T10:10:42.142927Z",
     "iopub.status.idle": "2025-10-07T10:10:42.163854Z",
     "shell.execute_reply": "2025-10-07T10:10:42.162637Z"
    }
   },
   "outputs": [
    {
     "name": "stdout",
     "output_type": "stream",
     "text": [
      "SIG_0\n",
      "'data.frame':\t0 obs. of  9 variables:\n",
      " $ snoRNA        : chr \n",
      " $ baseMean      : num \n",
      " $ log2FoldChange: num \n",
      " $ lfcSE         : num \n",
      " $ pvalue        : num \n",
      " $ padj          : num \n",
      " $ contrast      : chr \n",
      " $ minuslog10padj: num \n",
      " $ abslogfc      : num \n",
      "\n"
     ]
    }
   ],
   "source": [
    "SIG<-DE_results[which(DE_results$minuslog10padj >= 1.3),]\n",
    "\n",
    "cat(\"SIG_0\\n\")\n",
    "str(SIG)\n",
    "cat(\"\\n\")"
   ]
  },
  {
   "cell_type": "markdown",
   "id": "2cb93580-8929-4718-916b-8e2efff79166",
   "metadata": {},
   "source": [
    "## Represent DE genes or if there are not the top 50 "
   ]
  },
  {
   "cell_type": "code",
   "execution_count": 40,
   "id": "e3729268-384c-46fd-aa06-c96ed0439998",
   "metadata": {
    "execution": {
     "iopub.execute_input": "2025-10-07T10:10:45.643199Z",
     "iopub.status.busy": "2025-10-07T10:10:45.641997Z",
     "iopub.status.idle": "2025-10-07T10:10:45.675735Z",
     "shell.execute_reply": "2025-10-07T10:10:45.674423Z"
    }
   },
   "outputs": [
    {
     "name": "stdout",
     "output_type": "stream",
     "text": [
      "DE_results_1\n",
      "'data.frame':\t250 obs. of  9 variables:\n",
      " $ snoRNA        : chr  \"ENSG00000201882\" \"ENSG00000212626\" \"ENSG00000273885\" \"ENSG00000275146\" ...\n",
      " $ baseMean      : num  2.72 1.16 47.85 2.36 1.62 ...\n",
      " $ log2FoldChange: num  -4.82e-07 -3.19e-07 5.60e-06 7.28e-07 -2.14e-08 ...\n",
      " $ lfcSE         : num  0.00144 0.00144 0.00144 0.00144 0.00144 ...\n",
      " $ pvalue        : num  0.47762 0.51146 0.00501 0.26559 0.97 ...\n",
      " $ padj          : num  0.997 0.997 0.997 0.997 0.997 ...\n",
      " $ contrast      : chr  \"condition_rs62237617_vs_wt\" \"condition_rs62237617_vs_wt\" \"condition_rs62237617_vs_wt\" \"condition_rs62237617_vs_wt\" ...\n",
      " $ minuslog10padj: num  0.00118 0.00118 0.00118 0.00118 0.00118 ...\n",
      " $ abslogfc      : num  4.82e-07 3.19e-07 5.60e-06 7.28e-07 2.14e-08 ...\n",
      "\n",
      "selected_0\n",
      "'data.frame':\t50 obs. of  9 variables:\n",
      " $ snoRNA        : chr  \"ENSG00000201882\" \"ENSG00000212626\" \"ENSG00000273885\" \"ENSG00000275146\" ...\n",
      " $ baseMean      : num  2.72 1.16 47.85 2.36 1.62 ...\n",
      " $ log2FoldChange: num  -4.82e-07 -3.19e-07 5.60e-06 7.28e-07 -2.14e-08 ...\n",
      " $ lfcSE         : num  0.00144 0.00144 0.00144 0.00144 0.00144 ...\n",
      " $ pvalue        : num  0.47762 0.51146 0.00501 0.26559 0.97 ...\n",
      " $ padj          : num  0.997 0.997 0.997 0.997 0.997 ...\n",
      " $ contrast      : chr  \"condition_rs62237617_vs_wt\" \"condition_rs62237617_vs_wt\" \"condition_rs62237617_vs_wt\" \"condition_rs62237617_vs_wt\" ...\n",
      " $ minuslog10padj: num  0.00118 0.00118 0.00118 0.00118 0.00118 ...\n",
      " $ abslogfc      : num  4.82e-07 3.19e-07 5.60e-06 7.28e-07 2.14e-08 ...\n",
      "\n"
     ]
    }
   ],
   "source": [
    "DE_results<-DE_results[order(DE_results$minuslog10padj, decreasing = TRUE),]\n",
    "\n",
    "\n",
    "cat(\"DE_results_1\\n\")\n",
    "str(DE_results)\n",
    "cat(\"\\n\")\n",
    "\n",
    "selected<-DE_results[c(1:50),]\n",
    "\n",
    "cat(\"selected_0\\n\")\n",
    "str(selected)\n",
    "cat(\"\\n\")"
   ]
  },
  {
   "cell_type": "code",
   "execution_count": 41,
   "id": "2e333ae6-1ff7-4f25-9275-164d95ee2c84",
   "metadata": {
    "execution": {
     "iopub.execute_input": "2025-10-07T10:10:46.092157Z",
     "iopub.status.busy": "2025-10-07T10:10:46.091090Z",
     "iopub.status.idle": "2025-10-07T10:10:46.101560Z",
     "shell.execute_reply": "2025-10-07T10:10:46.100298Z"
    }
   },
   "outputs": [],
   "source": [
    "DEBUG <- 1"
   ]
  },
  {
   "cell_type": "code",
   "execution_count": 42,
   "id": "41ee1fbf-c700-49f1-bf04-7c6953366b6d",
   "metadata": {
    "execution": {
     "iopub.execute_input": "2025-10-07T10:10:46.513919Z",
     "iopub.status.busy": "2025-10-07T10:10:46.512814Z",
     "iopub.status.idle": "2025-10-07T10:10:46.527086Z",
     "shell.execute_reply": "2025-10-07T10:10:46.525860Z"
    }
   },
   "outputs": [
    {
     "name": "stdout",
     "output_type": "stream",
     "text": [
      "snoRNA_EXP_matrix_0\n",
      " num [1:50, 1:6] 0 0 25.1 1 0 ...\n",
      " - attr(*, \"dimnames\")=List of 2\n",
      "  ..$ : chr [1:50] \"ENSG00000201882\" \"ENSG00000212626\" \"ENSG00000273885\" \"ENSG00000275146\" ...\n",
      "  ..$ : chr [1:6] \"wt_1\" \"rs62237617_1\" \"wt_2\" \"rs62237617_2\" ...\n",
      "\n"
     ]
    }
   ],
   "source": [
    " snoRNA_EXP_matrix<-normalised_counts[which(row.names(normalised_counts)%in%selected$snoRNA),]\n",
    "       \n",
    "       if(DEBUG == 1){\n",
    "         \n",
    "         cat(\"snoRNA_EXP_matrix_0\\n\")\n",
    "         cat(str(snoRNA_EXP_matrix))\n",
    "         cat(\"\\n\")\n",
    "       }"
   ]
  },
  {
   "cell_type": "markdown",
   "id": "0cc56532-33b0-4999-8dd7-69744515eecd",
   "metadata": {},
   "source": [
    "## annotation_col"
   ]
  },
  {
   "cell_type": "code",
   "execution_count": 43,
   "id": "b3904cf7-3aca-456c-83f5-d9549cceeaf4",
   "metadata": {
    "execution": {
     "iopub.execute_input": "2025-10-07T10:10:47.341638Z",
     "iopub.status.busy": "2025-10-07T10:10:47.340478Z",
     "iopub.status.idle": "2025-10-07T10:10:47.365274Z",
     "shell.execute_reply": "2025-10-07T10:10:47.364095Z"
    }
   },
   "outputs": [
    {
     "name": "stdout",
     "output_type": "stream",
     "text": [
      "annotation_col_0\n",
      "'data.frame':\t6 obs. of  2 variables:\n",
      " $ Genotype: logi  NA NA NA NA NA NA\n",
      " $ Batch   : logi  NA NA NA NA NA NA\n",
      "\n",
      " chr [1:6] \"wt_1\" \"rs62237617_1\" \"wt_2\" \"rs62237617_2\" \"wt_3\" ...\n",
      "\n",
      "annotation_col_1\n",
      "'data.frame':\t6 obs. of  2 variables:\n",
      " $ Genotype: chr  \"wt\" \"rs62237617\" \"wt\" \"rs62237617\" ...\n",
      " $ Batch   : chr  \"wt_1\" \"rs62237617_1\" \"wt_2\" \"rs62237617_2\" ...\n",
      "\n",
      "annotation_col_2\n",
      "'data.frame':\t6 obs. of  2 variables:\n",
      " $ Genotype: Ord.factor w/ 2 levels \"wt\"<\"rs62237617\": 1 2 1 2 1 2\n",
      " $ Batch   : Ord.factor w/ 6 levels \"wt_1\"<\"wt_2\"<..: 1 4 2 5 3 6\n",
      "\n"
     ]
    }
   ],
   "source": [
    " annotation_col<- data.frame(matrix(vector(), length(colnames(snoRNA_EXP_matrix)), 2,\n",
    "                                          dimnames=list(c(),\n",
    "                                                        c(\"Genotype\",\"Batch\"))),stringsAsFactors=F)\n",
    "       \n",
    "       row.names(annotation_col)<-colnames(snoRNA_EXP_matrix)\n",
    "       \n",
    "\n",
    "       \n",
    "       if(DEBUG == 1){\n",
    "         cat(\"annotation_col_0\\n\")\n",
    "         cat(str(annotation_col))\n",
    "         cat(\"\\n\")\n",
    "         cat(str(row.names(annotation_col)))\n",
    "         cat(\"\\n\")\n",
    "         \n",
    "       }\n",
    "       \n",
    "       \n",
    "       annotation_col$Genotype<-gsub(\"_.+$\",\"\", row.names(annotation_col))\n",
    "       annotation_col$Batch<-row.names(annotation_col)\n",
    "    \n",
    "       if(DEBUG == 1){\n",
    "         cat(\"annotation_col_1\\n\")\n",
    "         cat(str(annotation_col))\n",
    "         cat(\"\\n\")\n",
    "       }\n",
    "\n",
    " annotation_col$Genotype<-factor(annotation_col$Genotype,\n",
    "                                       levels=c('wt','rs62237617'),\n",
    "                                       ordered=T)\n",
    "\n",
    "annotation_col$Batch<-factor(annotation_col$Batch,\n",
    "                                       levels=c('wt_1','wt_2','wt_3',\n",
    "                                               'rs62237617_1','rs62237617_2','rs62237617_3'),\n",
    "                                       ordered=T)\n",
    "\n",
    "      if(DEBUG == 1){\n",
    "         cat(\"annotation_col_2\\n\")\n",
    "         cat(str(annotation_col))\n",
    "         cat(\"\\n\")\n",
    "       }\n",
    "       \n",
    "      "
   ]
  },
  {
   "cell_type": "markdown",
   "id": "e017830e-2245-4bc2-841d-037115aa5873",
   "metadata": {},
   "source": [
    "## ann colors"
   ]
  },
  {
   "cell_type": "code",
   "execution_count": 44,
   "id": "4fb35be0-f983-4b83-9efc-1f6544a56c79",
   "metadata": {
    "execution": {
     "iopub.execute_input": "2025-10-07T10:10:48.189961Z",
     "iopub.status.busy": "2025-10-07T10:10:48.188954Z",
     "iopub.status.idle": "2025-10-07T10:10:48.219043Z",
     "shell.execute_reply": "2025-10-07T10:10:48.217885Z"
    }
   },
   "outputs": [
    {
     "data": {
      "text/html": [
       "<style>\n",
       ".dl-inline {width: auto; margin:0; padding: 0}\n",
       ".dl-inline>dt, .dl-inline>dd {float: none; width: auto; display: inline-block}\n",
       ".dl-inline>dt::after {content: \":\\0020\"; padding-right: .5ex}\n",
       ".dl-inline>dt:not(:first-of-type) {padding-left: .5ex}\n",
       "</style><dl class=dl-inline><dt>wt_1</dt><dd>'#74C476'</dd><dt>wt_2</dt><dd>'#238B45'</dd><dt>wt_3</dt><dd>'#00441B'</dd><dt>rs62237617_1</dt><dd>'#FB6A4A'</dd><dt>rs62237617_2</dt><dd>'#CB181D'</dd><dt>rs62237617_3</dt><dd>'#67000D'</dd></dl>\n"
      ],
      "text/latex": [
       "\\begin{description*}\n",
       "\\item[wt\\textbackslash{}\\_1] '\\#74C476'\n",
       "\\item[wt\\textbackslash{}\\_2] '\\#238B45'\n",
       "\\item[wt\\textbackslash{}\\_3] '\\#00441B'\n",
       "\\item[rs62237617\\textbackslash{}\\_1] '\\#FB6A4A'\n",
       "\\item[rs62237617\\textbackslash{}\\_2] '\\#CB181D'\n",
       "\\item[rs62237617\\textbackslash{}\\_3] '\\#67000D'\n",
       "\\end{description*}\n"
      ],
      "text/markdown": [
       "wt_1\n",
       ":   '#74C476'wt_2\n",
       ":   '#238B45'wt_3\n",
       ":   '#00441B'rs62237617_1\n",
       ":   '#FB6A4A'rs62237617_2\n",
       ":   '#CB181D'rs62237617_3\n",
       ":   '#67000D'\n",
       "\n"
      ],
      "text/plain": [
       "        wt_1         wt_2         wt_3 rs62237617_1 rs62237617_2 rs62237617_3 \n",
       "   \"#74C476\"    \"#238B45\"    \"#00441B\"    \"#FB6A4A\"    \"#CB181D\"    \"#67000D\" "
      ]
     },
     "metadata": {},
     "output_type": "display_data"
    },
    {
     "data": {
      "text/html": [
       "<style>\n",
       ".dl-inline {width: auto; margin:0; padding: 0}\n",
       ".dl-inline>dt, .dl-inline>dd {float: none; width: auto; display: inline-block}\n",
       ".dl-inline>dt::after {content: \":\\0020\"; padding-right: .5ex}\n",
       ".dl-inline>dt:not(:first-of-type) {padding-left: .5ex}\n",
       "</style><dl class=dl-inline><dt>wt</dt><dd>'#74C476'</dd><dt>rs62237617</dt><dd>'#FB6A4A'</dd></dl>\n"
      ],
      "text/latex": [
       "\\begin{description*}\n",
       "\\item[wt] '\\#74C476'\n",
       "\\item[rs62237617] '\\#FB6A4A'\n",
       "\\end{description*}\n"
      ],
      "text/markdown": [
       "wt\n",
       ":   '#74C476'rs62237617\n",
       ":   '#FB6A4A'\n",
       "\n"
      ],
      "text/plain": [
       "        wt rs62237617 \n",
       " \"#74C476\"  \"#FB6A4A\" "
      ]
     },
     "metadata": {},
     "output_type": "display_data"
    }
   ],
   "source": [
    "vector_colors_Batch<- c(brewer.pal(9, \"Greens\")[c(5,7,9)],                                                 \n",
    "                                                  brewer.pal(9, \"Reds\")[c(5,7,9)])\n",
    "\n",
    "        names(vector_colors_Batch)<-levels(annotation_col$Batch)\n",
    "\n",
    "vector_colors_Batch\n",
    "        \n",
    "        vector_colors_Genotype<-c(brewer.pal(9, \"Greens\")[c(5)],                                 \n",
    "                                    brewer.pal(9, \"Reds\")[c(5)])\n",
    "        \n",
    "        names(vector_colors_Genotype)<-levels(annotation_col$Genotype)\n",
    "\n",
    "vector_colors_Genotype"
   ]
  },
  {
   "cell_type": "code",
   "execution_count": 45,
   "id": "29837238-9fa6-4e6d-a0b6-f97fed3ff85b",
   "metadata": {
    "execution": {
     "iopub.execute_input": "2025-10-07T10:10:48.635562Z",
     "iopub.status.busy": "2025-10-07T10:10:48.634559Z",
     "iopub.status.idle": "2025-10-07T10:10:48.647902Z",
     "shell.execute_reply": "2025-10-07T10:10:48.646730Z"
    }
   },
   "outputs": [
    {
     "name": "stdout",
     "output_type": "stream",
     "text": [
      "ann_colors_0\n",
      "List of 2\n",
      " $ Batch   : Named chr [1:6] \"#74C476\" \"#238B45\" \"#00441B\" \"#FB6A4A\" ...\n",
      "  ..- attr(*, \"names\")= chr [1:6] \"wt_1\" \"wt_2\" \"wt_3\" \"rs62237617_1\" ...\n",
      " $ Genotype: Named chr [1:2] \"#74C476\" \"#FB6A4A\"\n",
      "  ..- attr(*, \"names\")= chr [1:2] \"wt\" \"rs62237617\"\n",
      "\n"
     ]
    }
   ],
   "source": [
    "ann_colors <- list( Batch = vector_colors_Batch,\n",
    "                           Genotype = vector_colors_Genotype)\n",
    "      \n",
    "       \n",
    "       if(DEBUG == 1){\n",
    "         cat(\"ann_colors_0\\n\")\n",
    "         cat(str(ann_colors))\n",
    "         cat(\"\\n\")\n",
    "       }"
   ]
  },
  {
   "cell_type": "markdown",
   "id": "b93dff0a-9e90-44d9-8681-f42b11be46fc",
   "metadata": {},
   "source": [
    "## Actual heatmap"
   ]
  },
  {
   "cell_type": "code",
   "execution_count": 46,
   "id": "3b67d416-42b9-47ad-ab4d-6db4a20bea0f",
   "metadata": {
    "execution": {
     "iopub.execute_input": "2025-10-07T10:10:49.091788Z",
     "iopub.status.busy": "2025-10-07T10:10:49.090782Z",
     "iopub.status.idle": "2025-10-07T10:10:49.478225Z",
     "shell.execute_reply": "2025-10-07T10:10:49.469602Z"
    },
    "scrolled": true
   },
   "outputs": [
    {
     "ename": "ERROR",
     "evalue": "Error in value[[3L]](cond): no active device and default getOption(\"device\") is invalid\n",
     "output_type": "error",
     "traceback": [
      "Error in value[[3L]](cond): no active device and default getOption(\"device\") is invalid\nTraceback:\n"
     ]
    },
    {
     "data": {
      "text/plain": [
       "plot without title"
      ]
     },
     "metadata": {
      "image/png": {
       "height": 420,
       "width": 420
      }
     },
     "output_type": "display_data"
    }
   ],
   "source": [
    "heatmap<-pheatmap(snoRNA_EXP_matrix, display_numbers = FALSE,\n",
    "                             show_colnames=FALSE,\n",
    "                             angle_col = \"0\",\n",
    "                             clustering_method=\"ward.D2\",\n",
    "                             fontsize_row = 8, \n",
    "                             fontsize_col = 8,\n",
    "                             breaks=seq(-2,2,length.out=101),\n",
    "                             color=colorRampPalette(c(\"blue\",\"white\",\"red\"))(100),\n",
    "                             scale=\"row\",\n",
    "                             cluster_cols=TRUE,\n",
    "                             border_color='black',\n",
    "                             treeheight_row=70, treeheight_col=70, cutree_cols=3,\n",
    "                             annotation_col = annotation_col,\n",
    "                             annotation_colors = ann_colors)\n",
    "\n"
   ]
  },
  {
   "cell_type": "code",
   "execution_count": null,
   "id": "ed9051e0-5dc4-4b53-9c9e-58c67dfbeedd",
   "metadata": {},
   "outputs": [],
   "source": [
    "setwd(path_graphs)\n",
    "         \n",
    "svgname<-paste(\"Heatmap_snoRNAs\",\".svg\",sep='')\n",
    "\n",
    "ggsave(svgname,plot=heatmap, device ='svg')"
   ]
  },
  {
   "cell_type": "markdown",
   "id": "8574fa38-1bf2-4b68-af84-2cdfd6891689",
   "metadata": {},
   "source": [
    "# Volcano plot"
   ]
  },
  {
   "cell_type": "code",
   "execution_count": 47,
   "id": "e6890f90-6224-44b5-b414-655e2ea37a50",
   "metadata": {
    "execution": {
     "iopub.execute_input": "2025-10-07T10:10:49.780286Z",
     "iopub.status.busy": "2025-10-07T10:10:49.779278Z",
     "iopub.status.idle": "2025-10-07T10:10:49.798277Z",
     "shell.execute_reply": "2025-10-07T10:10:49.797103Z"
    }
   },
   "outputs": [
    {
     "name": "stdout",
     "output_type": "stream",
     "text": [
      "DE_results_1\n",
      "'data.frame':\t250 obs. of  9 variables:\n",
      " $ snoRNA        : chr  \"ENSG00000201882\" \"ENSG00000212626\" \"ENSG00000273885\" \"ENSG00000275146\" ...\n",
      " $ baseMean      : num  2.72 1.16 47.85 2.36 1.62 ...\n",
      " $ log2FoldChange: num  -4.82e-07 -3.19e-07 5.60e-06 7.28e-07 -2.14e-08 ...\n",
      " $ lfcSE         : num  0.00144 0.00144 0.00144 0.00144 0.00144 ...\n",
      " $ pvalue        : num  0.47762 0.51146 0.00501 0.26559 0.97 ...\n",
      " $ padj          : num  0.997 0.997 0.997 0.997 0.997 ...\n",
      " $ contrast      : chr  \"condition_rs62237617_vs_wt\" \"condition_rs62237617_vs_wt\" \"condition_rs62237617_vs_wt\" \"condition_rs62237617_vs_wt\" ...\n",
      " $ minuslog10padj: num  0.00118 0.00118 0.00118 0.00118 0.00118 ...\n",
      " $ abslogfc      : num  4.82e-07 3.19e-07 5.60e-06 7.28e-07 2.14e-08 ...\n",
      "\n"
     ]
    }
   ],
   "source": [
    "cat(\"DE_results_1\\n\")\n",
    "str(DE_results)\n",
    "cat(\"\\n\")"
   ]
  },
  {
   "cell_type": "markdown",
   "id": "650b970f-2ebd-48cb-9728-08fa3d533623",
   "metadata": {},
   "source": [
    "## Actual volcano plot"
   ]
  },
  {
   "cell_type": "code",
   "execution_count": 48,
   "id": "7c38419b-35a4-425e-a68c-c2dd2d1daedb",
   "metadata": {
    "execution": {
     "iopub.execute_input": "2025-10-07T10:10:51.126312Z",
     "iopub.status.busy": "2025-10-07T10:10:51.125277Z",
     "iopub.status.idle": "2025-10-07T10:10:51.587530Z",
     "shell.execute_reply": "2025-10-07T10:10:51.584516Z"
    }
   },
   "outputs": [
    {
     "ename": "ERROR",
     "evalue": "Error in value[[3L]](cond): no active device and default getOption(\"device\") is invalid\n",
     "output_type": "error",
     "traceback": [
      "Error in value[[3L]](cond): no active device and default getOption(\"device\") is invalid\nTraceback:\n"
     ]
    },
    {
     "data": {
      "text/plain": [
       "plot without title"
      ]
     },
     "metadata": {
      "image/png": {
       "height": 420,
       "width": 420
      }
     },
     "output_type": "display_data"
    }
   ],
   "source": [
    " volcano_plot<-ggplot(data=DE_results,\n",
    "                                aes(x=log2FoldChange,\n",
    "                                    y=minuslog10padj)) +\n",
    "             geom_vline(xintercept=c(-0.1,0.1), color=\"gray\", linetype='dashed',linewidth=1)+\n",
    "             geom_hline(yintercept=c(1.3), color=\"gray\", linetype='dashed',linewidth=1)+\n",
    "             geom_point(data=DE_results[which(DE_results$minuslog10padj < 1.3 & DE_results$abslogfc < 0.1),],\n",
    "                        color=\"gray\",fill=\"gray\", stroke=0.2, shape=21, size=2)+\n",
    "             geom_point(data=DE_results[which(DE_results$minuslog10padj >= 1.3 & DE_results$log2FoldChange <= -0.1),],\n",
    "                        color=\"black\",fill=\"blue\", stroke=0.2, shape=21, size=4)+\n",
    "             geom_point(data=DE_results[which(DE_results$minuslog10padj >= 1.3 & DE_results$log2FoldChange >= 0.1),],\n",
    "                        color=\"black\",fill=\"red\", stroke=0.2, shape=21, size=4)+\n",
    "             scale_y_continuous(name=\"-log10 pval\")+\n",
    "             theme_classic()+\n",
    "             theme(plot.title=element_text(color=\"black\", family=\"sans\", size=14),\n",
    "                   axis.title.y=element_text(color=\"black\", family=\"sans\", size=12),\n",
    "                   axis.title.x=element_text(color=\"black\", family=\"sans\", size=12),\n",
    "                   axis.text.y=element_text(color=\"black\", family=\"sans\", size=8),\n",
    "                   axis.text.x=element_text(color=\"black\", family=\"sans\", size=8))+\n",
    "             theme(legend.title = element_text(family=\"sans\"),\n",
    "                   legend.text = element_text(family=\"sans\"),\n",
    "                   legend.key.size = unit(0.35, 'cm'), #change legend key size\n",
    "                   legend.key.height = unit(0.35, 'cm'), #change legend key height\n",
    "                   legend.key.width = unit(0.35, 'cm'), #change legend key width\n",
    "                   legend.position=\"hidden\")+\n",
    "             ggeasy::easy_center_title()\n",
    "           \n",
    "           volcano_plot <-volcano_plot+\n",
    "             geom_text_repel(data=DE_results[which(DE_results$minuslog10padj >= 1.3 & DE_results$log2FoldChange <= -0.1),],\n",
    "                             aes(x=log2FoldChange,\n",
    "                                 y=minuslog10padj,\n",
    "                                 label=snoRNA),\n",
    "                             family=\"sans\",\n",
    "                             fontface='italic',\n",
    "                             color='blue',\n",
    "                             segment.size  = 0.25,\n",
    "                             segment.color = \"blue\",\n",
    "                             force=25,\n",
    "                             size=4,\n",
    "                             box.padding = 1,\n",
    "                             max.overlaps = Inf)\n",
    "           \n",
    "           volcano_plot <-volcano_plot+\n",
    "             geom_text_repel(data=DE_results[which(DE_results$minuslog10padj >= 1.3 & DE_results$log2FoldChange >= 0.1),],\n",
    "                             aes(x=log2FoldChange,\n",
    "                                 y=minuslog10padj,\n",
    "                                 label=snoRNA),\n",
    "                             family=\"sans\",\n",
    "                             fontface='italic',\n",
    "                             color='red',\n",
    "                             segment.size  = 0.25,\n",
    "                             segment.color = \"red\",\n",
    "                             force=25,\n",
    "                             size=4,\n",
    "                             box.padding = 1,\n",
    "                             max.overlaps = Inf)\n",
    "\n",
    "#              ggtitle(paste(paste(paste(contrast_sel, sep=''), paste(identity_sel, sep=''),sep='  '),paste(dim(SIG_genes)[1], \"DE genes\", sep=\" \"), sep=\"\\n\"))+\n",
    "\n",
    "\n",
    "volcano_plot"
   ]
  },
  {
   "cell_type": "code",
   "execution_count": null,
   "id": "fd2e4ba4-f645-435b-9d94-8d2f602ff5d6",
   "metadata": {},
   "outputs": [],
   "source": [
    "setwd(path_graphs)\n",
    "         \n",
    "svgname<-paste(\"Volcano_snoRNAs\",\".svg\",sep='')\n",
    "\n",
    "ggsave(svgname,plot=volcano_plot, device ='svg')"
   ]
  },
  {
   "cell_type": "code",
   "execution_count": null,
   "id": "f46ba825-d817-421b-8868-df4bb3ed38d5",
   "metadata": {},
   "outputs": [],
   "source": []
  },
  {
   "cell_type": "code",
   "execution_count": null,
   "id": "6809392b-78ce-4607-ab67-a56529acc6ff",
   "metadata": {},
   "outputs": [],
   "source": []
  },
  {
   "cell_type": "code",
   "execution_count": null,
   "id": "c5c123bd-4d17-45c2-a682-c081c66a569c",
   "metadata": {},
   "outputs": [],
   "source": []
  }
 ],
 "metadata": {
  "kernelspec": {
   "display_name": "R [conda env:multiome_NEW_downstream_analysis]",
   "language": "R",
   "name": "conda-env-multiome_NEW_downstream_analysis-r"
  },
  "language_info": {
   "codemirror_mode": "r",
   "file_extension": ".r",
   "mimetype": "text/x-r-source",
   "name": "R",
   "pygments_lexer": "r",
   "version": "4.4.3"
  }
 },
 "nbformat": 4,
 "nbformat_minor": 5
}
